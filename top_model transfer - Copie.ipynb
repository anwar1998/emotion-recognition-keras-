{
 "cells": [
  {
   "cell_type": "code",
   "execution_count": 100,
   "id": "5ebca254",
   "metadata": {},
   "outputs": [],
   "source": [
    "from keras.applications import MobileNet\n",
    "from keras.models import Sequential,Model \n",
    "from keras.layers import Dense,Dropout,Activation,Flatten,GlobalAveragePooling2D\n",
    "from keras.layers import Conv2D,MaxPooling2D,ZeroPadding2D\n",
    "from keras.layers.normalization import BatchNormalization \n",
    "from keras.preprocessing.image import ImageDataGenerator\n",
    "# MobileNet is designed to work with images of dim 224,224\n",
    "img_rows,img_cols = 224,224\n",
    "import pandas as ps\n",
    "import numpy as np\n",
    "import tensorflow as tf\n",
    "import cv2\n",
    "import os\n",
    "import matplotlib.pyplot as plt\n",
    "import cv2\n",
    "import  pickle\n",
    "from keras.models import load_model\n",
    "from time import sleep\n",
    "from keras.preprocessing.image import img_to_array\n",
    "from keras.preprocessing import image\n",
    "import cv2\n",
    "import numpy as np"
   ]
  },
  {
   "cell_type": "code",
   "execution_count": 101,
   "id": "2028b076",
   "metadata": {},
   "outputs": [],
   "source": [
    "top_model =load_model('data_utiliser/model-top.h5')\n"
   ]
  },
  {
   "cell_type": "code",
   "execution_count": 102,
   "id": "4e1170b9",
   "metadata": {},
   "outputs": [
    {
     "name": "stdout",
     "output_type": "stream",
     "text": [
      "Model: \"sequential_1\"\n",
      "_________________________________________________________________\n",
      "Layer (type)                 Output Shape              Param #   \n",
      "=================================================================\n",
      "conv2d_8 (Conv2D)            (None, 48, 48, 32)        320       \n",
      "_________________________________________________________________\n",
      "activation_11 (Activation)   (None, 48, 48, 32)        0         \n",
      "_________________________________________________________________\n",
      "batch_normalization_10 (Batc (None, 48, 48, 32)        128       \n",
      "_________________________________________________________________\n",
      "conv2d_9 (Conv2D)            (None, 48, 48, 32)        9248      \n",
      "_________________________________________________________________\n",
      "activation_12 (Activation)   (None, 48, 48, 32)        0         \n",
      "_________________________________________________________________\n",
      "batch_normalization_11 (Batc (None, 48, 48, 32)        128       \n",
      "_________________________________________________________________\n",
      "max_pooling2d_4 (MaxPooling2 (None, 24, 24, 32)        0         \n",
      "_________________________________________________________________\n",
      "dropout_6 (Dropout)          (None, 24, 24, 32)        0         \n",
      "_________________________________________________________________\n",
      "conv2d_10 (Conv2D)           (None, 24, 24, 64)        18496     \n",
      "_________________________________________________________________\n",
      "activation_13 (Activation)   (None, 24, 24, 64)        0         \n",
      "_________________________________________________________________\n",
      "batch_normalization_12 (Batc (None, 24, 24, 64)        256       \n",
      "_________________________________________________________________\n",
      "conv2d_11 (Conv2D)           (None, 24, 24, 64)        36928     \n",
      "_________________________________________________________________\n",
      "activation_14 (Activation)   (None, 24, 24, 64)        0         \n",
      "_________________________________________________________________\n",
      "batch_normalization_13 (Batc (None, 24, 24, 64)        256       \n",
      "_________________________________________________________________\n",
      "max_pooling2d_5 (MaxPooling2 (None, 12, 12, 64)        0         \n",
      "_________________________________________________________________\n",
      "dropout_7 (Dropout)          (None, 12, 12, 64)        0         \n",
      "_________________________________________________________________\n",
      "conv2d_12 (Conv2D)           (None, 12, 12, 128)       73856     \n",
      "_________________________________________________________________\n",
      "activation_15 (Activation)   (None, 12, 12, 128)       0         \n",
      "_________________________________________________________________\n",
      "batch_normalization_14 (Batc (None, 12, 12, 128)       512       \n",
      "_________________________________________________________________\n",
      "conv2d_13 (Conv2D)           (None, 12, 12, 128)       147584    \n",
      "_________________________________________________________________\n",
      "activation_16 (Activation)   (None, 12, 12, 128)       0         \n",
      "_________________________________________________________________\n",
      "batch_normalization_15 (Batc (None, 12, 12, 128)       512       \n",
      "_________________________________________________________________\n",
      "max_pooling2d_6 (MaxPooling2 (None, 6, 6, 128)         0         \n",
      "_________________________________________________________________\n",
      "dropout_8 (Dropout)          (None, 6, 6, 128)         0         \n",
      "_________________________________________________________________\n",
      "conv2d_14 (Conv2D)           (None, 6, 6, 256)         295168    \n",
      "_________________________________________________________________\n",
      "activation_17 (Activation)   (None, 6, 6, 256)         0         \n",
      "_________________________________________________________________\n",
      "batch_normalization_16 (Batc (None, 6, 6, 256)         1024      \n",
      "_________________________________________________________________\n",
      "conv2d_15 (Conv2D)           (None, 6, 6, 256)         590080    \n",
      "_________________________________________________________________\n",
      "activation_18 (Activation)   (None, 6, 6, 256)         0         \n",
      "_________________________________________________________________\n",
      "batch_normalization_17 (Batc (None, 6, 6, 256)         1024      \n",
      "_________________________________________________________________\n",
      "max_pooling2d_7 (MaxPooling2 (None, 3, 3, 256)         0         \n",
      "_________________________________________________________________\n",
      "dropout_9 (Dropout)          (None, 3, 3, 256)         0         \n",
      "_________________________________________________________________\n",
      "flatten_1 (Flatten)          (None, 2304)              0         \n",
      "_________________________________________________________________\n",
      "dense_3 (Dense)              (None, 64)                147520    \n",
      "_________________________________________________________________\n",
      "activation_19 (Activation)   (None, 64)                0         \n",
      "_________________________________________________________________\n",
      "batch_normalization_18 (Batc (None, 64)                256       \n",
      "_________________________________________________________________\n",
      "dropout_10 (Dropout)         (None, 64)                0         \n",
      "_________________________________________________________________\n",
      "dense_4 (Dense)              (None, 64)                4160      \n",
      "_________________________________________________________________\n",
      "activation_20 (Activation)   (None, 64)                0         \n",
      "_________________________________________________________________\n",
      "batch_normalization_19 (Batc (None, 64)                256       \n",
      "_________________________________________________________________\n",
      "dropout_11 (Dropout)         (None, 64)                0         \n",
      "_________________________________________________________________\n",
      "dense_5 (Dense)              (None, 7)                 455       \n",
      "_________________________________________________________________\n",
      "activation_21 (Activation)   (None, 7)                 0         \n",
      "=================================================================\n",
      "Total params: 1,328,167\n",
      "Trainable params: 1,325,991\n",
      "Non-trainable params: 2,176\n",
      "_________________________________________________________________\n"
     ]
    }
   ],
   "source": [
    "top_model.summary()"
   ]
  },
  {
   "cell_type": "code",
   "execution_count": 103,
   "id": "5a3f4c88",
   "metadata": {},
   "outputs": [
    {
     "data": {
      "text/plain": [
       "<tensorflow.python.keras.layers.core.Activation at 0x26059fc05b0>"
      ]
     },
     "execution_count": 103,
     "metadata": {},
     "output_type": "execute_result"
    }
   ],
   "source": [
    "from tensorflow.keras import layers\n",
    "last_layer=top_model.get_layer('activation_21')\n",
    "last_layer"
   ]
  },
  {
   "cell_type": "code",
   "execution_count": 104,
   "id": "242d1c6c",
   "metadata": {},
   "outputs": [
    {
     "data": {
      "text/plain": [
       "<KerasTensor: shape=(None, 7) dtype=float32 (created by layer 'activation_21')>"
      ]
     },
     "execution_count": 104,
     "metadata": {},
     "output_type": "execute_result"
    }
   ],
   "source": [
    "last_output = last_layer.output\n",
    "last_output\n",
    "\n"
   ]
  },
  {
   "cell_type": "code",
   "execution_count": 105,
   "id": "6c5770c6",
   "metadata": {},
   "outputs": [],
   "source": [
    "final_output=BatchNormalization()(last_output)"
   ]
  },
  {
   "cell_type": "code",
   "execution_count": null,
   "id": "d8e842ba",
   "metadata": {},
   "outputs": [],
   "source": []
  },
  {
   "cell_type": "code",
   "execution_count": 106,
   "id": "1fdd08be",
   "metadata": {},
   "outputs": [
    {
     "data": {
      "text/plain": [
       "<KerasTensor: shape=(None, 7) dtype=float32 (created by layer 'dens_8')>"
      ]
     },
     "execution_count": 106,
     "metadata": {},
     "output_type": "execute_result"
    }
   ],
   "source": [
    "final_output=layers.Dense(7,name=\"dens_8\")(final_output)\n",
    "\n",
    "final_output"
   ]
  },
  {
   "cell_type": "code",
   "execution_count": 107,
   "id": "04092739",
   "metadata": {},
   "outputs": [
    {
     "data": {
      "text/plain": [
       "<KerasTensor: shape=(None, 7) dtype=float32 (created by layer 'activation_2')>"
      ]
     },
     "execution_count": 107,
     "metadata": {},
     "output_type": "execute_result"
    }
   ],
   "source": [
    "final_output=layers.Activation('relu')(final_output)\n",
    "final_output"
   ]
  },
  {
   "cell_type": "code",
   "execution_count": 108,
   "id": "ece5e825",
   "metadata": {},
   "outputs": [],
   "source": [
    "new_model = Model(inputs=top_model.input, outputs=final_output) \n"
   ]
  },
  {
   "cell_type": "code",
   "execution_count": 109,
   "id": "90730d1a",
   "metadata": {},
   "outputs": [
    {
     "name": "stdout",
     "output_type": "stream",
     "text": [
      "Model: \"model_2\"\n",
      "_________________________________________________________________\n",
      "Layer (type)                 Output Shape              Param #   \n",
      "=================================================================\n",
      "conv2d_8_input (InputLayer)  [(None, 48, 48, 1)]       0         \n",
      "_________________________________________________________________\n",
      "conv2d_8 (Conv2D)            (None, 48, 48, 32)        320       \n",
      "_________________________________________________________________\n",
      "activation_11 (Activation)   (None, 48, 48, 32)        0         \n",
      "_________________________________________________________________\n",
      "batch_normalization_10 (Batc (None, 48, 48, 32)        128       \n",
      "_________________________________________________________________\n",
      "conv2d_9 (Conv2D)            (None, 48, 48, 32)        9248      \n",
      "_________________________________________________________________\n",
      "activation_12 (Activation)   (None, 48, 48, 32)        0         \n",
      "_________________________________________________________________\n",
      "batch_normalization_11 (Batc (None, 48, 48, 32)        128       \n",
      "_________________________________________________________________\n",
      "max_pooling2d_4 (MaxPooling2 (None, 24, 24, 32)        0         \n",
      "_________________________________________________________________\n",
      "dropout_6 (Dropout)          (None, 24, 24, 32)        0         \n",
      "_________________________________________________________________\n",
      "conv2d_10 (Conv2D)           (None, 24, 24, 64)        18496     \n",
      "_________________________________________________________________\n",
      "activation_13 (Activation)   (None, 24, 24, 64)        0         \n",
      "_________________________________________________________________\n",
      "batch_normalization_12 (Batc (None, 24, 24, 64)        256       \n",
      "_________________________________________________________________\n",
      "conv2d_11 (Conv2D)           (None, 24, 24, 64)        36928     \n",
      "_________________________________________________________________\n",
      "activation_14 (Activation)   (None, 24, 24, 64)        0         \n",
      "_________________________________________________________________\n",
      "batch_normalization_13 (Batc (None, 24, 24, 64)        256       \n",
      "_________________________________________________________________\n",
      "max_pooling2d_5 (MaxPooling2 (None, 12, 12, 64)        0         \n",
      "_________________________________________________________________\n",
      "dropout_7 (Dropout)          (None, 12, 12, 64)        0         \n",
      "_________________________________________________________________\n",
      "conv2d_12 (Conv2D)           (None, 12, 12, 128)       73856     \n",
      "_________________________________________________________________\n",
      "activation_15 (Activation)   (None, 12, 12, 128)       0         \n",
      "_________________________________________________________________\n",
      "batch_normalization_14 (Batc (None, 12, 12, 128)       512       \n",
      "_________________________________________________________________\n",
      "conv2d_13 (Conv2D)           (None, 12, 12, 128)       147584    \n",
      "_________________________________________________________________\n",
      "activation_16 (Activation)   (None, 12, 12, 128)       0         \n",
      "_________________________________________________________________\n",
      "batch_normalization_15 (Batc (None, 12, 12, 128)       512       \n",
      "_________________________________________________________________\n",
      "max_pooling2d_6 (MaxPooling2 (None, 6, 6, 128)         0         \n",
      "_________________________________________________________________\n",
      "dropout_8 (Dropout)          (None, 6, 6, 128)         0         \n",
      "_________________________________________________________________\n",
      "conv2d_14 (Conv2D)           (None, 6, 6, 256)         295168    \n",
      "_________________________________________________________________\n",
      "activation_17 (Activation)   (None, 6, 6, 256)         0         \n",
      "_________________________________________________________________\n",
      "batch_normalization_16 (Batc (None, 6, 6, 256)         1024      \n",
      "_________________________________________________________________\n",
      "conv2d_15 (Conv2D)           (None, 6, 6, 256)         590080    \n",
      "_________________________________________________________________\n",
      "activation_18 (Activation)   (None, 6, 6, 256)         0         \n",
      "_________________________________________________________________\n",
      "batch_normalization_17 (Batc (None, 6, 6, 256)         1024      \n",
      "_________________________________________________________________\n",
      "max_pooling2d_7 (MaxPooling2 (None, 3, 3, 256)         0         \n",
      "_________________________________________________________________\n",
      "dropout_9 (Dropout)          (None, 3, 3, 256)         0         \n",
      "_________________________________________________________________\n",
      "flatten_1 (Flatten)          (None, 2304)              0         \n",
      "_________________________________________________________________\n",
      "dense_3 (Dense)              (None, 64)                147520    \n",
      "_________________________________________________________________\n",
      "activation_19 (Activation)   (None, 64)                0         \n",
      "_________________________________________________________________\n",
      "batch_normalization_18 (Batc (None, 64)                256       \n",
      "_________________________________________________________________\n",
      "dropout_10 (Dropout)         (None, 64)                0         \n",
      "_________________________________________________________________\n",
      "dense_4 (Dense)              (None, 64)                4160      \n",
      "_________________________________________________________________\n",
      "activation_20 (Activation)   (None, 64)                0         \n",
      "_________________________________________________________________\n",
      "batch_normalization_19 (Batc (None, 64)                256       \n",
      "_________________________________________________________________\n",
      "dropout_11 (Dropout)         (None, 64)                0         \n",
      "_________________________________________________________________\n",
      "dense_5 (Dense)              (None, 7)                 455       \n",
      "_________________________________________________________________\n",
      "activation_21 (Activation)   (None, 7)                 0         \n",
      "_________________________________________________________________\n",
      "batch_normalization_2 (Batch (None, 7)                 28        \n",
      "_________________________________________________________________\n",
      "dens_8 (Dense)               (None, 7)                 56        \n",
      "_________________________________________________________________\n",
      "activation_2 (Activation)    (None, 7)                 0         \n",
      "=================================================================\n",
      "Total params: 1,328,251\n",
      "Trainable params: 1,326,061\n",
      "Non-trainable params: 2,190\n",
      "_________________________________________________________________\n"
     ]
    }
   ],
   "source": [
    "new_model.summary() \n"
   ]
  },
  {
   "cell_type": "code",
   "execution_count": 110,
   "id": "c56836db",
   "metadata": {},
   "outputs": [],
   "source": [
    "train_data_dir = 'C:/Users/Anouar Gmili/Desktop/images_fer2013/Training2'\n",
    "validation_data_dir = 'C:/Users/Anouar Gmili/Desktop/images_fer2013/validation'\n",
    "img_rows,img_cols = 48,48"
   ]
  },
  {
   "cell_type": "code",
   "execution_count": 111,
   "id": "91d2af10",
   "metadata": {},
   "outputs": [
    {
     "name": "stdout",
     "output_type": "stream",
     "text": [
      "Found 2861 images belonging to 7 classes.\n",
      "Found 412 images belonging to 7 classes.\n"
     ]
    }
   ],
   "source": [
    "train_datagen = ImageDataGenerator(\n",
    "                    rescale=1./255,\n",
    "                    rotation_range=30,\n",
    "                    width_shift_range=0.3,\n",
    "                    height_shift_range=0.3,\n",
    "                    horizontal_flip=True,\n",
    "                    fill_mode='nearest'\n",
    "                                   )\n",
    "\n",
    "validation_datagen = ImageDataGenerator(rescale=1./255)\n",
    "\n",
    "batch_size = 32\n",
    "\n",
    "train_generator = train_datagen.flow_from_directory(\n",
    "                        train_data_dir,\n",
    "                        target_size = (img_rows,img_cols),\n",
    "                        batch_size = batch_size,\n",
    "    color_mode = \"grayscale\",\n",
    "                        class_mode = 'categorical'\n",
    "                        )\n",
    "\n",
    "validation_generator = validation_datagen.flow_from_directory(\n",
    "                            validation_data_dir,\n",
    "                            target_size=(img_rows,img_cols),\n",
    "                            batch_size=batch_size,\n",
    "color_mode = \"grayscale\",\n",
    "                            class_mode='categorical')\n"
   ]
  },
  {
   "cell_type": "code",
   "execution_count": 112,
   "id": "39d93408",
   "metadata": {},
   "outputs": [],
   "source": [
    "\n",
    "from keras.optimizers import RMSprop,Adam\n",
    "from keras.callbacks import ModelCheckpoint,EarlyStopping,ReduceLROnPlateau\n"
   ]
  },
  {
   "cell_type": "code",
   "execution_count": 113,
   "id": "d202e29d",
   "metadata": {},
   "outputs": [],
   "source": [
    "\n",
    "checkpoint = ModelCheckpoint(\n",
    "                        'top_tap_tip3.h5',\n",
    "                             monitor='val_loss',\n",
    "                             mode='min',\n",
    "                             save_best_only=True,\n",
    "                             verbose=1)\n",
    "\n",
    "earlystop = EarlyStopping(\n",
    "                          monitor='val_loss',\n",
    "                          min_delta=0,\n",
    "                          patience=10,\n",
    "                          verbose=1,restore_best_weights=True)\n",
    "\n",
    "learning_rate_reduction = ReduceLROnPlateau(monitor='val_acc',\n",
    "                                            patience=5,\n",
    "                                            verbose=1,\n",
    "                                            factor=0.2,\n",
    "                                            min_lr=0.0001)\n"
   ]
  },
  {
   "cell_type": "code",
   "execution_count": 114,
   "id": "405a9122",
   "metadata": {},
   "outputs": [],
   "source": [
    "\n",
    "callbacks = [earlystop,checkpoint,learning_rate_reduction]\n",
    "\n",
    "new_model.compile(loss='categorical_crossentropy',\n",
    "              optimizer=Adam(lr=0.001),\n",
    "              metrics=['accuracy']\n",
    "              )\n",
    "\n",
    "nb_train_samples = 2861    \n",
    "nb_validation_samples = 412 \n",
    "epochs = 25\n"
   ]
  },
  {
   "cell_type": "code",
   "execution_count": null,
   "id": "4c7f18dd",
   "metadata": {},
   "outputs": [
    {
     "name": "stdout",
     "output_type": "stream",
     "text": [
      "Epoch 1/25\n",
      "89/89 [==============================] - 114s 1s/step - loss: 9.7526 - accuracy: 0.0881 - val_loss: 8.6309 - val_accuracy: 0.2552\n",
      "\n",
      "Epoch 00001: val_loss improved from inf to 8.63093, saving model to top_tap_tip3.h5\n",
      "WARNING:tensorflow:Learning rate reduction is conditioned on metric `val_acc` which is not available. Available metrics are: loss,accuracy,val_loss,val_accuracy,lr\n",
      "Epoch 2/25\n",
      "89/89 [==============================] - 89s 995ms/step - loss: 8.6903 - accuracy: 0.1352 - val_loss: 7.6474 - val_accuracy: 0.0651\n",
      "\n",
      "Epoch 00002: val_loss improved from 8.63093 to 7.64745, saving model to top_tap_tip3.h5\n",
      "WARNING:tensorflow:Learning rate reduction is conditioned on metric `val_acc` which is not available. Available metrics are: loss,accuracy,val_loss,val_accuracy,lr\n",
      "Epoch 3/25\n",
      "89/89 [==============================] - 87s 978ms/step - loss: 8.0354 - accuracy: 0.1702 - val_loss: 6.7564 - val_accuracy: 0.0781\n",
      "\n",
      "Epoch 00003: val_loss improved from 7.64745 to 6.75637, saving model to top_tap_tip3.h5\n",
      "WARNING:tensorflow:Learning rate reduction is conditioned on metric `val_acc` which is not available. Available metrics are: loss,accuracy,val_loss,val_accuracy,lr\n",
      "Epoch 4/25\n",
      "89/89 [==============================] - 85s 953ms/step - loss: 7.7278 - accuracy: 0.1741 - val_loss: 7.0074 - val_accuracy: 0.0964\n",
      "\n",
      "Epoch 00004: val_loss did not improve from 6.75637\n",
      "WARNING:tensorflow:Learning rate reduction is conditioned on metric `val_acc` which is not available. Available metrics are: loss,accuracy,val_loss,val_accuracy,lr\n",
      "Epoch 5/25\n",
      "89/89 [==============================] - 89s 1s/step - loss: 7.3348 - accuracy: 0.1894 - val_loss: 8.8259 - val_accuracy: 0.1250\n",
      "\n",
      "Epoch 00005: val_loss did not improve from 6.75637\n",
      "WARNING:tensorflow:Learning rate reduction is conditioned on metric `val_acc` which is not available. Available metrics are: loss,accuracy,val_loss,val_accuracy,lr\n",
      "Epoch 6/25\n",
      "89/89 [==============================] - 83s 931ms/step - loss: 6.5397 - accuracy: 0.2104 - val_loss: 9.3375 - val_accuracy: 0.1172\n",
      "\n",
      "Epoch 00006: val_loss did not improve from 6.75637\n",
      "WARNING:tensorflow:Learning rate reduction is conditioned on metric `val_acc` which is not available. Available metrics are: loss,accuracy,val_loss,val_accuracy,lr\n",
      "Epoch 7/25\n",
      "89/89 [==============================] - 82s 924ms/step - loss: 6.2306 - accuracy: 0.2154 - val_loss: 8.8986 - val_accuracy: 0.0911\n",
      "\n",
      "Epoch 00007: val_loss did not improve from 6.75637\n",
      "WARNING:tensorflow:Learning rate reduction is conditioned on metric `val_acc` which is not available. Available metrics are: loss,accuracy,val_loss,val_accuracy,lr\n",
      "Epoch 8/25\n",
      "70/89 [======================>.......] - ETA: 17s - loss: 6.3115 - accuracy: 0.1874"
     ]
    }
   ],
   "source": [
    " history = new_model.fit_generator(\n",
    "            train_generator,\n",
    "            steps_per_epoch=nb_train_samples//batch_size,\n",
    "            epochs=epochs,\n",
    "            callbacks=callbacks,\n",
    "            validation_data=validation_generator,\n",
    "            validation_steps=nb_validation_samples//batch_size)\n"
   ]
  },
  {
   "cell_type": "markdown",
   "id": "dc655ec6",
   "metadata": {},
   "source": [
    "#### classifier =load_model('top_tap_tip .h5')\n"
   ]
  },
  {
   "cell_type": "code",
   "execution_count": 71,
   "id": "4a62366a",
   "metadata": {},
   "outputs": [],
   "source": [
    "new_model.save(\"tata.h5\")"
   ]
  },
  {
   "cell_type": "markdown",
   "id": "041c093d",
   "metadata": {},
   "source": [
    "# test de my model\n"
   ]
  },
  {
   "cell_type": "code",
   "execution_count": 94,
   "id": "596da4c9",
   "metadata": {},
   "outputs": [],
   "source": [
    "class_labels = ['Angry','Disgust','Fear','Happy','Neutral','Sad','Surprise']\n",
    "class_labels2 = ['Angry','Happy','Neutral','Sad','Surprise']"
   ]
  },
  {
   "cell_type": "code",
   "execution_count": 95,
   "id": "2d7dda50",
   "metadata": {},
   "outputs": [],
   "source": [
    "face_cascade = cv2.CascadeClassifier('haarcascade_frontalface_default.xml')\n",
    "eye_cascade=cv2.CascadeClassifier('haarcascade_eye.xml')\n",
    "img_rows,img_cols = 224,224\n",
    "#MobileNet = MobileNet(weights='imagenet',include_top=False,input_shape=(img_rows,img_cols,3))\n",
    "recognizer =cv2.face.LBPHFaceRecognizer_create()\n",
    "labels2 ={\"personne_name\":1}\n",
    "face_classifier = cv2.CascadeClassifier('./haarcascade_frontalface_default.xml')\n",
    "import matplotlib.pyplot as plt"
   ]
  },
  {
   "cell_type": "code",
   "execution_count": 96,
   "id": "010ce273",
   "metadata": {},
   "outputs": [
    {
     "data": {
      "text/plain": [
       "(1, 48, 48, 1)"
      ]
     },
     "execution_count": 96,
     "metadata": {},
     "output_type": "execute_result"
    },
    {
     "data": {
      "image/png": "[encoded data removed]",
      "text/plain": [
       "<Figure size 432x288 with 1 Axes>"
      ]
     },
     "metadata": {
      "needs_background": "light"
     },
     "output_type": "display_data"
    }
   ],
   "source": [
    "# Grab a single frame of video\n",
    "\n",
    "frame=cv2.imread('sad_anouar.jpg')\n",
    "labels = []\n",
    "gray = cv2.cvtColor(frame,cv2.COLOR_BGR2GRAY)\n",
    "faces = face_classifier.detectMultiScale(gray,1.3,5)\n",
    "for (x,y,w,h) in faces:\n",
    "    cv2.rectangle(frame,(x,y),(x+w,y+h),(255,0,0),2)\n",
    "    roi_gray = gray[y:y+h,x:x+w]\n",
    "    roi_gray = cv2.resize(roi_gray,(48,48),interpolation=cv2.INTER_AREA)\n",
    "    plt.imshow(roi_gray)\n",
    "    if np.sum([roi_gray])!=0:\n",
    "        roi = roi_gray.astype('float')/255.0\n",
    "        roi = img_to_array(roi)\n",
    "        roi = np.expand_dims(roi,axis=0)\n",
    "        #name = labels2[id_]\n",
    "roi.shape"
   ]
  },
  {
   "cell_type": "code",
   "execution_count": 97,
   "id": "3c06dd1a",
   "metadata": {},
   "outputs": [],
   "source": [
    "preds=new_model.predict(roi)\n"
   ]
  },
  {
   "cell_type": "code",
   "execution_count": 98,
   "id": "e1d435e3",
   "metadata": {},
   "outputs": [
    {
     "data": {
      "text/plain": [
       "array([[0.63977885, 1.3803997 , 1.0351917 , 0.5192385 , 0.3111938 ,\n",
       "        0.        , 0.        ]], dtype=float32)"
      ]
     },
     "execution_count": 98,
     "metadata": {},
     "output_type": "execute_result"
    }
   ],
   "source": [
    "preds\n",
    "\n"
   ]
  },
  {
   "cell_type": "code",
   "execution_count": 99,
   "id": "4ba7765a",
   "metadata": {},
   "outputs": [
    {
     "name": "stdout",
     "output_type": "stream",
     "text": [
      "\n",
      "prediction max =  1\n",
      "\n",
      "label =  Disgust\n"
     ]
    }
   ],
   "source": [
    "label=class_labels[preds.argmax()]\n",
    "print(\"\\nprediction max = \",preds.argmax())\n",
    "print(\"\\nlabel = \",label)"
   ]
  },
  {
   "cell_type": "markdown",
   "id": "4f0b5359",
   "metadata": {},
   "source": [
    "# deuxiemme chance\n"
   ]
  },
  {
   "cell_type": "code",
   "execution_count": 11,
   "id": "5e34ec14",
   "metadata": {},
   "outputs": [],
   "source": [
    "from keras.applications import MobileNet\n",
    "from keras.models import Sequential,Model \n",
    "from keras.layers import Dense,Dropout,Activation,Flatten,GlobalAveragePooling2D\n",
    "from keras.layers import Conv2D,MaxPooling2D,ZeroPadding2D\n",
    "from keras.layers.normalization import BatchNormalization \n",
    "from keras.preprocessing.image import ImageDataGenerator\n",
    "# MobileNet is designed to work with images of dim 224,224\n",
    "img_rows,img_cols = 224,224\n",
    "import pandas as ps\n",
    "import numpy as np\n",
    "import tensorflow as tf\n",
    "import cv2\n",
    "import os\n",
    "import matplotlib.pyplot as plt\n",
    "import cv2\n",
    "import  pickle\n",
    "from keras.models import load_model\n",
    "from time import sleep\n",
    "from keras.preprocessing.image import img_to_array\n",
    "from keras.preprocessing import image\n",
    "import cv2\n",
    "import numpy as np\n",
    "\n",
    "from keras.optimizers import RMSprop,Adam\n",
    "from keras.callbacks import ModelCheckpoint,EarlyStopping,ReduceLROnPlateau\n"
   ]
  },
  {
   "cell_type": "code",
   "execution_count": 12,
   "id": "f2d8cff9",
   "metadata": {},
   "outputs": [],
   "source": [
    "top_model =load_model('data_utiliser/model-top.h5')\n"
   ]
  },
  {
   "cell_type": "code",
   "execution_count": 13,
   "id": "c972d334",
   "metadata": {},
   "outputs": [
    {
     "name": "stdout",
     "output_type": "stream",
     "text": [
      "Model: \"sequential_1\"\n",
      "_________________________________________________________________\n",
      "Layer (type)                 Output Shape              Param #   \n",
      "=================================================================\n",
      "conv2d_8 (Conv2D)            (None, 48, 48, 32)        320       \n",
      "_________________________________________________________________\n",
      "activation_11 (Activation)   (None, 48, 48, 32)        0         \n",
      "_________________________________________________________________\n",
      "batch_normalization_10 (Batc (None, 48, 48, 32)        128       \n",
      "_________________________________________________________________\n",
      "conv2d_9 (Conv2D)            (None, 48, 48, 32)        9248      \n",
      "_________________________________________________________________\n",
      "activation_12 (Activation)   (None, 48, 48, 32)        0         \n",
      "_________________________________________________________________\n",
      "batch_normalization_11 (Batc (None, 48, 48, 32)        128       \n",
      "_________________________________________________________________\n",
      "max_pooling2d_4 (MaxPooling2 (None, 24, 24, 32)        0         \n",
      "_________________________________________________________________\n",
      "dropout_6 (Dropout)          (None, 24, 24, 32)        0         \n",
      "_________________________________________________________________\n",
      "conv2d_10 (Conv2D)           (None, 24, 24, 64)        18496     \n",
      "_________________________________________________________________\n",
      "activation_13 (Activation)   (None, 24, 24, 64)        0         \n",
      "_________________________________________________________________\n",
      "batch_normalization_12 (Batc (None, 24, 24, 64)        256       \n",
      "_________________________________________________________________\n",
      "conv2d_11 (Conv2D)           (None, 24, 24, 64)        36928     \n",
      "_________________________________________________________________\n",
      "activation_14 (Activation)   (None, 24, 24, 64)        0         \n",
      "_________________________________________________________________\n",
      "batch_normalization_13 (Batc (None, 24, 24, 64)        256       \n",
      "_________________________________________________________________\n",
      "max_pooling2d_5 (MaxPooling2 (None, 12, 12, 64)        0         \n",
      "_________________________________________________________________\n",
      "dropout_7 (Dropout)          (None, 12, 12, 64)        0         \n",
      "_________________________________________________________________\n",
      "conv2d_12 (Conv2D)           (None, 12, 12, 128)       73856     \n",
      "_________________________________________________________________\n",
      "activation_15 (Activation)   (None, 12, 12, 128)       0         \n",
      "_________________________________________________________________\n",
      "batch_normalization_14 (Batc (None, 12, 12, 128)       512       \n",
      "_________________________________________________________________\n",
      "conv2d_13 (Conv2D)           (None, 12, 12, 128)       147584    \n",
      "_________________________________________________________________\n",
      "activation_16 (Activation)   (None, 12, 12, 128)       0         \n",
      "_________________________________________________________________\n",
      "batch_normalization_15 (Batc (None, 12, 12, 128)       512       \n",
      "_________________________________________________________________\n",
      "max_pooling2d_6 (MaxPooling2 (None, 6, 6, 128)         0         \n",
      "_________________________________________________________________\n",
      "dropout_8 (Dropout)          (None, 6, 6, 128)         0         \n",
      "_________________________________________________________________\n",
      "conv2d_14 (Conv2D)           (None, 6, 6, 256)         295168    \n",
      "_________________________________________________________________\n",
      "activation_17 (Activation)   (None, 6, 6, 256)         0         \n",
      "_________________________________________________________________\n",
      "batch_normalization_16 (Batc (None, 6, 6, 256)         1024      \n",
      "_________________________________________________________________\n",
      "conv2d_15 (Conv2D)           (None, 6, 6, 256)         590080    \n",
      "_________________________________________________________________\n",
      "activation_18 (Activation)   (None, 6, 6, 256)         0         \n",
      "_________________________________________________________________\n",
      "batch_normalization_17 (Batc (None, 6, 6, 256)         1024      \n",
      "_________________________________________________________________\n",
      "max_pooling2d_7 (MaxPooling2 (None, 3, 3, 256)         0         \n",
      "_________________________________________________________________\n",
      "dropout_9 (Dropout)          (None, 3, 3, 256)         0         \n",
      "_________________________________________________________________\n",
      "flatten_1 (Flatten)          (None, 2304)              0         \n",
      "_________________________________________________________________\n",
      "dense_3 (Dense)              (None, 64)                147520    \n",
      "_________________________________________________________________\n",
      "activation_19 (Activation)   (None, 64)                0         \n",
      "_________________________________________________________________\n",
      "batch_normalization_18 (Batc (None, 64)                256       \n",
      "_________________________________________________________________\n",
      "dropout_10 (Dropout)         (None, 64)                0         \n",
      "_________________________________________________________________\n",
      "dense_4 (Dense)              (None, 64)                4160      \n",
      "_________________________________________________________________\n",
      "activation_20 (Activation)   (None, 64)                0         \n",
      "_________________________________________________________________\n",
      "batch_normalization_19 (Batc (None, 64)                256       \n",
      "_________________________________________________________________\n",
      "dropout_11 (Dropout)         (None, 64)                0         \n",
      "_________________________________________________________________\n",
      "dense_5 (Dense)              (None, 7)                 455       \n",
      "_________________________________________________________________\n",
      "activation_21 (Activation)   (None, 7)                 0         \n",
      "=================================================================\n",
      "Total params: 1,328,167\n",
      "Trainable params: 1,325,991\n",
      "Non-trainable params: 2,176\n",
      "_________________________________________________________________\n"
     ]
    }
   ],
   "source": [
    "top_model.summary()"
   ]
  },
  {
   "cell_type": "code",
   "execution_count": 14,
   "id": "79413762",
   "metadata": {},
   "outputs": [
    {
     "data": {
      "text/plain": [
       "<tensorflow.python.keras.layers.core.Activation at 0x23047238880>"
      ]
     },
     "execution_count": 14,
     "metadata": {},
     "output_type": "execute_result"
    }
   ],
   "source": [
    "from tensorflow.keras import layers\n",
    "last_layer=top_model.get_layer('activation_21')\n",
    "last_layer"
   ]
  },
  {
   "cell_type": "code",
   "execution_count": 15,
   "id": "a34b2725",
   "metadata": {},
   "outputs": [],
   "source": [
    "def addTopModelMobileNet(bottom_model, num_classes):\n",
    "    \"\"\"creates the top or head of the model that will be\n",
    "    placed ontop of the bottom layers\"\"\"\n",
    "    top_model = bottom_model.output\n",
    "    #top_model = GlobalAveragePooling2D()(top_model)\n",
    "    top_model = Dense(7,activation='relu')(top_model)\n",
    "    top_model = Dense(7,activation='relu')(top_model)\n",
    "    top_model = Dense(7,activation='relu')(top_model)\n",
    "    top_model = Dense(num_classes,activation='softmax')(top_model)\n",
    "    return top_model"
   ]
  },
  {
   "cell_type": "code",
   "execution_count": 16,
   "id": "f2193eee",
   "metadata": {},
   "outputs": [
    {
     "name": "stdout",
     "output_type": "stream",
     "text": [
      "Model: \"model_1\"\n",
      "_________________________________________________________________\n",
      "Layer (type)                 Output Shape              Param #   \n",
      "=================================================================\n",
      "conv2d_8_input (InputLayer)  [(None, 48, 48, 1)]       0         \n",
      "_________________________________________________________________\n",
      "conv2d_8 (Conv2D)            (None, 48, 48, 32)        320       \n",
      "_________________________________________________________________\n",
      "activation_11 (Activation)   (None, 48, 48, 32)        0         \n",
      "_________________________________________________________________\n",
      "batch_normalization_10 (Batc (None, 48, 48, 32)        128       \n",
      "_________________________________________________________________\n",
      "conv2d_9 (Conv2D)            (None, 48, 48, 32)        9248      \n",
      "_________________________________________________________________\n",
      "activation_12 (Activation)   (None, 48, 48, 32)        0         \n",
      "_________________________________________________________________\n",
      "batch_normalization_11 (Batc (None, 48, 48, 32)        128       \n",
      "_________________________________________________________________\n",
      "max_pooling2d_4 (MaxPooling2 (None, 24, 24, 32)        0         \n",
      "_________________________________________________________________\n",
      "dropout_6 (Dropout)          (None, 24, 24, 32)        0         \n",
      "_________________________________________________________________\n",
      "conv2d_10 (Conv2D)           (None, 24, 24, 64)        18496     \n",
      "_________________________________________________________________\n",
      "activation_13 (Activation)   (None, 24, 24, 64)        0         \n",
      "_________________________________________________________________\n",
      "batch_normalization_12 (Batc (None, 24, 24, 64)        256       \n",
      "_________________________________________________________________\n",
      "conv2d_11 (Conv2D)           (None, 24, 24, 64)        36928     \n",
      "_________________________________________________________________\n",
      "activation_14 (Activation)   (None, 24, 24, 64)        0         \n",
      "_________________________________________________________________\n",
      "batch_normalization_13 (Batc (None, 24, 24, 64)        256       \n",
      "_________________________________________________________________\n",
      "max_pooling2d_5 (MaxPooling2 (None, 12, 12, 64)        0         \n",
      "_________________________________________________________________\n",
      "dropout_7 (Dropout)          (None, 12, 12, 64)        0         \n",
      "_________________________________________________________________\n",
      "conv2d_12 (Conv2D)           (None, 12, 12, 128)       73856     \n",
      "_________________________________________________________________\n",
      "activation_15 (Activation)   (None, 12, 12, 128)       0         \n",
      "_________________________________________________________________\n",
      "batch_normalization_14 (Batc (None, 12, 12, 128)       512       \n",
      "_________________________________________________________________\n",
      "conv2d_13 (Conv2D)           (None, 12, 12, 128)       147584    \n",
      "_________________________________________________________________\n",
      "activation_16 (Activation)   (None, 12, 12, 128)       0         \n",
      "_________________________________________________________________\n",
      "batch_normalization_15 (Batc (None, 12, 12, 128)       512       \n",
      "_________________________________________________________________\n",
      "max_pooling2d_6 (MaxPooling2 (None, 6, 6, 128)         0         \n",
      "_________________________________________________________________\n",
      "dropout_8 (Dropout)          (None, 6, 6, 128)         0         \n",
      "_________________________________________________________________\n",
      "conv2d_14 (Conv2D)           (None, 6, 6, 256)         295168    \n",
      "_________________________________________________________________\n",
      "activation_17 (Activation)   (None, 6, 6, 256)         0         \n",
      "_________________________________________________________________\n",
      "batch_normalization_16 (Batc (None, 6, 6, 256)         1024      \n",
      "_________________________________________________________________\n",
      "conv2d_15 (Conv2D)           (None, 6, 6, 256)         590080    \n",
      "_________________________________________________________________\n",
      "activation_18 (Activation)   (None, 6, 6, 256)         0         \n",
      "_________________________________________________________________\n",
      "batch_normalization_17 (Batc (None, 6, 6, 256)         1024      \n",
      "_________________________________________________________________\n",
      "max_pooling2d_7 (MaxPooling2 (None, 3, 3, 256)         0         \n",
      "_________________________________________________________________\n",
      "dropout_9 (Dropout)          (None, 3, 3, 256)         0         \n",
      "_________________________________________________________________\n",
      "flatten_1 (Flatten)          (None, 2304)              0         \n",
      "_________________________________________________________________\n",
      "dense_3 (Dense)              (None, 64)                147520    \n",
      "_________________________________________________________________\n",
      "activation_19 (Activation)   (None, 64)                0         \n",
      "_________________________________________________________________\n",
      "batch_normalization_18 (Batc (None, 64)                256       \n",
      "_________________________________________________________________\n",
      "dropout_10 (Dropout)         (None, 64)                0         \n",
      "_________________________________________________________________\n",
      "dense_4 (Dense)              (None, 64)                4160      \n",
      "_________________________________________________________________\n",
      "activation_20 (Activation)   (None, 64)                0         \n",
      "_________________________________________________________________\n",
      "batch_normalization_19 (Batc (None, 64)                256       \n",
      "_________________________________________________________________\n",
      "dropout_11 (Dropout)         (None, 64)                0         \n",
      "_________________________________________________________________\n",
      "dense_5 (Dense)              (None, 7)                 455       \n",
      "_________________________________________________________________\n",
      "activation_21 (Activation)   (None, 7)                 0         \n",
      "_________________________________________________________________\n",
      "dense_8 (Dense)              (None, 7)                 56        \n",
      "_________________________________________________________________\n",
      "dense_9 (Dense)              (None, 7)                 56        \n",
      "_________________________________________________________________\n",
      "dense_10 (Dense)             (None, 7)                 56        \n",
      "_________________________________________________________________\n",
      "dense_11 (Dense)             (None, 7)                 56        \n",
      "=================================================================\n",
      "Total params: 1,328,391\n",
      "Trainable params: 1,326,215\n",
      "Non-trainable params: 2,176\n",
      "_________________________________________________________________\n",
      "None\n"
     ]
    }
   ],
   "source": [
    "num_classes = 7\n",
    "\n",
    "FC_Head = addTopModelMobileNet(top_model, num_classes)\n",
    "\n",
    "model = Model(inputs = top_model.input, outputs = FC_Head)\n",
    "\n",
    "print(model.summary())"
   ]
  },
  {
   "cell_type": "code",
   "execution_count": 17,
   "id": "2ae558ef",
   "metadata": {},
   "outputs": [],
   "source": [
    "train_data_dir = 'C:/Users/Anouar Gmili/Desktop/images_fer2013/Training2'\n",
    "validation_data_dir = 'C:/Users/Anouar Gmili/Desktop/images_fer2013/validation'\n",
    "img_rows,img_cols = 48,48"
   ]
  },
  {
   "cell_type": "code",
   "execution_count": 27,
   "id": "ee1beaaf",
   "metadata": {},
   "outputs": [
    {
     "name": "stdout",
     "output_type": "stream",
     "text": [
      "Found 2861 images belonging to 7 classes.\n",
      "Found 412 images belonging to 7 classes.\n"
     ]
    }
   ],
   "source": [
    "train_datagen = ImageDataGenerator(\n",
    "                    rescale=1./255,\n",
    "                    rotation_range=30,\n",
    "                    width_shift_range=0.3,\n",
    "                    height_shift_range=0.3,\n",
    "                    horizontal_flip=True,\n",
    "                    fill_mode='nearest'\n",
    "                                   )\n",
    "\n",
    "validation_datagen = ImageDataGenerator(rescale=1./255)\n",
    "\n",
    "batch_size = 32\n",
    "\n",
    "train_generator = train_datagen.flow_from_directory(\n",
    "                        train_data_dir,\n",
    "                        target_size = (img_rows,img_cols),\n",
    "                        batch_size = batch_size,\n",
    "    \n",
    "                        color_mode = \"grayscale\",\n",
    "\n",
    "                        class_mode = 'categorical'\n",
    "                        )\n",
    "\n",
    "validation_generator = validation_datagen.flow_from_directory(\n",
    "                            validation_data_dir,\n",
    "                            target_size=(img_rows,img_cols),\n",
    "                            batch_size=batch_size,\n",
    "                            color_mode = \"grayscale\",\n",
    "\n",
    "                            class_mode='categorical')\n"
   ]
  },
  {
   "cell_type": "code",
   "execution_count": 28,
   "id": "3dc9e266",
   "metadata": {},
   "outputs": [],
   "source": [
    "\n",
    "from keras.optimizers import RMSprop,Adam\n",
    "from keras.callbacks import ModelCheckpoint,EarlyStopping,ReduceLROnPlateau\n"
   ]
  },
  {
   "cell_type": "code",
   "execution_count": 29,
   "id": "472be653",
   "metadata": {},
   "outputs": [],
   "source": [
    "\n",
    "checkpoint = ModelCheckpoint(\n",
    "                        'top_tap_tiprelax.h5',\n",
    "                             monitor='val_loss',\n",
    "                             mode='min',\n",
    "                             save_best_only=True,\n",
    "                             verbose=1)\n",
    "\n",
    "earlystop = EarlyStopping(\n",
    "                          monitor='val_loss',\n",
    "                          min_delta=0,\n",
    "                          patience=10,\n",
    "                          verbose=1,restore_best_weights=True)\n",
    "\n",
    "learning_rate_reduction = ReduceLROnPlateau(monitor='val_acc',\n",
    "                                            patience=5,\n",
    "                                            verbose=1,\n",
    "                                            factor=0.2,\n",
    "                                            min_lr=0.0001)\n"
   ]
  },
  {
   "cell_type": "code",
   "execution_count": 30,
   "id": "108f5fa7",
   "metadata": {},
   "outputs": [],
   "source": [
    "\n",
    "callbacks = [earlystop,checkpoint,learning_rate_reduction]\n",
    "\n",
    "model.compile(loss='categorical_crossentropy',\n",
    "              optimizer=Adam(lr=0.001),\n",
    "              metrics=['accuracy']\n",
    "              )\n",
    "\n",
    "nb_train_samples = 2861    \n",
    "nb_validation_samples = 412 \n",
    "epochs = 25\n"
   ]
  },
  {
   "cell_type": "code",
   "execution_count": 31,
   "id": "c44b5766",
   "metadata": {},
   "outputs": [
    {
     "name": "stdout",
     "output_type": "stream",
     "text": [
      "Epoch 1/25\n",
      "89/89 [==============================] - 87s 935ms/step - loss: 1.9038 - accuracy: 0.4275 - val_loss: 1.9816 - val_accuracy: 0.0859\n",
      "\n",
      "Epoch 00001: val_loss improved from inf to 1.98162, saving model to top_tap_tiprelax.h5\n",
      "WARNING:tensorflow:Learning rate reduction is conditioned on metric `val_acc` which is not available. Available metrics are: loss,accuracy,val_loss,val_accuracy,lr\n",
      "Epoch 2/25\n",
      "89/89 [==============================] - 83s 935ms/step - loss: 1.7021 - accuracy: 0.4324 - val_loss: 2.1272 - val_accuracy: 0.0911\n",
      "\n",
      "Epoch 00002: val_loss did not improve from 1.98162\n",
      "WARNING:tensorflow:Learning rate reduction is conditioned on metric `val_acc` which is not available. Available metrics are: loss,accuracy,val_loss,val_accuracy,lr\n",
      "Epoch 3/25\n",
      "89/89 [==============================] - 94s 1s/step - loss: 1.6456 - accuracy: 0.4321 - val_loss: 2.1499 - val_accuracy: 0.0938\n",
      "\n",
      "Epoch 00003: val_loss did not improve from 1.98162\n",
      "WARNING:tensorflow:Learning rate reduction is conditioned on metric `val_acc` which is not available. Available metrics are: loss,accuracy,val_loss,val_accuracy,lr\n",
      "Epoch 4/25\n",
      "89/89 [==============================] - 95s 1s/step - loss: 1.6049 - accuracy: 0.4396 - val_loss: 2.1832 - val_accuracy: 0.0885\n",
      "\n",
      "Epoch 00004: val_loss did not improve from 1.98162\n",
      "WARNING:tensorflow:Learning rate reduction is conditioned on metric `val_acc` which is not available. Available metrics are: loss,accuracy,val_loss,val_accuracy,lr\n",
      "Epoch 5/25\n",
      "89/89 [==============================] - 89s 996ms/step - loss: 1.6147 - accuracy: 0.4265 - val_loss: 2.2140 - val_accuracy: 0.0938\n",
      "\n",
      "Epoch 00005: val_loss did not improve from 1.98162\n",
      "WARNING:tensorflow:Learning rate reduction is conditioned on metric `val_acc` which is not available. Available metrics are: loss,accuracy,val_loss,val_accuracy,lr\n",
      "Epoch 6/25\n",
      "89/89 [==============================] - 86s 969ms/step - loss: 1.6195 - accuracy: 0.4218 - val_loss: 2.1654 - val_accuracy: 0.0859\n",
      "\n",
      "Epoch 00006: val_loss did not improve from 1.98162\n",
      "WARNING:tensorflow:Learning rate reduction is conditioned on metric `val_acc` which is not available. Available metrics are: loss,accuracy,val_loss,val_accuracy,lr\n",
      "Epoch 7/25\n",
      "89/89 [==============================] - 94s 1s/step - loss: 1.5560 - accuracy: 0.4318 - val_loss: 2.0231 - val_accuracy: 0.2943\n",
      "\n",
      "Epoch 00007: val_loss did not improve from 1.98162\n",
      "WARNING:tensorflow:Learning rate reduction is conditioned on metric `val_acc` which is not available. Available metrics are: loss,accuracy,val_loss,val_accuracy,lr\n",
      "Epoch 8/25\n",
      "89/89 [==============================] - 86s 965ms/step - loss: 1.5375 - accuracy: 0.4711 - val_loss: 2.0407 - val_accuracy: 0.2891\n",
      "\n",
      "Epoch 00008: val_loss did not improve from 1.98162\n",
      "WARNING:tensorflow:Learning rate reduction is conditioned on metric `val_acc` which is not available. Available metrics are: loss,accuracy,val_loss,val_accuracy,lr\n",
      "Epoch 9/25\n",
      "89/89 [==============================] - 86s 963ms/step - loss: 1.5115 - accuracy: 0.4766 - val_loss: 2.0243 - val_accuracy: 0.2917\n",
      "\n",
      "Epoch 00009: val_loss did not improve from 1.98162\n",
      "WARNING:tensorflow:Learning rate reduction is conditioned on metric `val_acc` which is not available. Available metrics are: loss,accuracy,val_loss,val_accuracy,lr\n",
      "Epoch 10/25\n",
      "89/89 [==============================] - 95s 1s/step - loss: 1.4508 - accuracy: 0.4884 - val_loss: 1.8003 - val_accuracy: 0.3307\n",
      "\n",
      "Epoch 00010: val_loss improved from 1.98162 to 1.80028, saving model to top_tap_tiprelax.h5\n",
      "WARNING:tensorflow:Learning rate reduction is conditioned on metric `val_acc` which is not available. Available metrics are: loss,accuracy,val_loss,val_accuracy,lr\n",
      "Epoch 11/25\n",
      "89/89 [==============================] - 91s 1s/step - loss: 1.4494 - accuracy: 0.4660 - val_loss: 1.7731 - val_accuracy: 0.3307\n",
      "\n",
      "Epoch 00011: val_loss improved from 1.80028 to 1.77314, saving model to top_tap_tiprelax.h5\n",
      "WARNING:tensorflow:Learning rate reduction is conditioned on metric `val_acc` which is not available. Available metrics are: loss,accuracy,val_loss,val_accuracy,lr\n",
      "Epoch 12/25\n",
      "89/89 [==============================] - 84s 946ms/step - loss: 1.4093 - accuracy: 0.4957 - val_loss: 1.8244 - val_accuracy: 0.3151\n",
      "\n",
      "Epoch 00012: val_loss did not improve from 1.77314\n",
      "WARNING:tensorflow:Learning rate reduction is conditioned on metric `val_acc` which is not available. Available metrics are: loss,accuracy,val_loss,val_accuracy,lr\n",
      "Epoch 13/25\n",
      "89/89 [==============================] - 83s 931ms/step - loss: 1.3966 - accuracy: 0.5031 - val_loss: 1.6425 - val_accuracy: 0.3307\n",
      "\n",
      "Epoch 00013: val_loss improved from 1.77314 to 1.64245, saving model to top_tap_tiprelax.h5\n",
      "WARNING:tensorflow:Learning rate reduction is conditioned on metric `val_acc` which is not available. Available metrics are: loss,accuracy,val_loss,val_accuracy,lr\n",
      "Epoch 14/25\n",
      "89/89 [==============================] - 83s 934ms/step - loss: 1.3771 - accuracy: 0.4969 - val_loss: 1.6957 - val_accuracy: 0.3203\n",
      "\n",
      "Epoch 00014: val_loss did not improve from 1.64245\n",
      "WARNING:tensorflow:Learning rate reduction is conditioned on metric `val_acc` which is not available. Available metrics are: loss,accuracy,val_loss,val_accuracy,lr\n",
      "Epoch 15/25\n",
      "89/89 [==============================] - 85s 951ms/step - loss: 1.3909 - accuracy: 0.4714 - val_loss: 1.7250 - val_accuracy: 0.2865\n",
      "\n",
      "Epoch 00015: val_loss did not improve from 1.64245\n",
      "WARNING:tensorflow:Learning rate reduction is conditioned on metric `val_acc` which is not available. Available metrics are: loss,accuracy,val_loss,val_accuracy,lr\n",
      "Epoch 16/25\n",
      "89/89 [==============================] - 89s 999ms/step - loss: 1.3549 - accuracy: 0.4865 - val_loss: 1.6170 - val_accuracy: 0.3333\n",
      "\n",
      "Epoch 00016: val_loss improved from 1.64245 to 1.61696, saving model to top_tap_tiprelax.h5\n",
      "WARNING:tensorflow:Learning rate reduction is conditioned on metric `val_acc` which is not available. Available metrics are: loss,accuracy,val_loss,val_accuracy,lr\n",
      "Epoch 17/25\n",
      "89/89 [==============================] - 92s 1s/step - loss: 1.3411 - accuracy: 0.5056 - val_loss: 1.6511 - val_accuracy: 0.3359\n",
      "\n",
      "Epoch 00017: val_loss did not improve from 1.61696\n",
      "WARNING:tensorflow:Learning rate reduction is conditioned on metric `val_acc` which is not available. Available metrics are: loss,accuracy,val_loss,val_accuracy,lr\n",
      "Epoch 18/25\n",
      "89/89 [==============================] - 93s 1s/step - loss: 1.3320 - accuracy: 0.4975 - val_loss: 1.6293 - val_accuracy: 0.3516\n",
      "\n",
      "Epoch 00018: val_loss did not improve from 1.61696\n",
      "WARNING:tensorflow:Learning rate reduction is conditioned on metric `val_acc` which is not available. Available metrics are: loss,accuracy,val_loss,val_accuracy,lr\n",
      "Epoch 19/25\n",
      "89/89 [==============================] - 102s 1s/step - loss: 1.3098 - accuracy: 0.5197 - val_loss: 1.8764 - val_accuracy: 0.2995\n",
      "\n",
      "Epoch 00019: val_loss did not improve from 1.61696\n",
      "WARNING:tensorflow:Learning rate reduction is conditioned on metric `val_acc` which is not available. Available metrics are: loss,accuracy,val_loss,val_accuracy,lr\n",
      "Epoch 20/25\n",
      "89/89 [==============================] - 114s 1s/step - loss: 1.3168 - accuracy: 0.5193 - val_loss: 1.6936 - val_accuracy: 0.3307\n",
      "\n",
      "Epoch 00020: val_loss did not improve from 1.61696\n",
      "WARNING:tensorflow:Learning rate reduction is conditioned on metric `val_acc` which is not available. Available metrics are: loss,accuracy,val_loss,val_accuracy,lr\n",
      "Epoch 21/25\n",
      "89/89 [==============================] - 93s 1s/step - loss: 1.2970 - accuracy: 0.5373 - val_loss: 1.5618 - val_accuracy: 0.3698\n",
      "\n",
      "Epoch 00021: val_loss improved from 1.61696 to 1.56177, saving model to top_tap_tiprelax.h5\n",
      "WARNING:tensorflow:Learning rate reduction is conditioned on metric `val_acc` which is not available. Available metrics are: loss,accuracy,val_loss,val_accuracy,lr\n",
      "Epoch 22/25\n",
      "89/89 [==============================] - 100s 1s/step - loss: 1.2769 - accuracy: 0.5421 - val_loss: 1.5424 - val_accuracy: 0.3620\n",
      "\n",
      "Epoch 00022: val_loss improved from 1.56177 to 1.54244, saving model to top_tap_tiprelax.h5\n",
      "WARNING:tensorflow:Learning rate reduction is conditioned on metric `val_acc` which is not available. Available metrics are: loss,accuracy,val_loss,val_accuracy,lr\n",
      "Epoch 23/25\n"
     ]
    },
    {
     "name": "stdout",
     "output_type": "stream",
     "text": [
      "89/89 [==============================] - 87s 972ms/step - loss: 1.2400 - accuracy: 0.5696 - val_loss: 1.5775 - val_accuracy: 0.3411\n",
      "\n",
      "Epoch 00023: val_loss did not improve from 1.54244\n",
      "WARNING:tensorflow:Learning rate reduction is conditioned on metric `val_acc` which is not available. Available metrics are: loss,accuracy,val_loss,val_accuracy,lr\n",
      "Epoch 24/25\n",
      "89/89 [==============================] - 84s 950ms/step - loss: 1.2289 - accuracy: 0.5555 - val_loss: 1.6712 - val_accuracy: 0.3776\n",
      "\n",
      "Epoch 00024: val_loss did not improve from 1.54244\n",
      "WARNING:tensorflow:Learning rate reduction is conditioned on metric `val_acc` which is not available. Available metrics are: loss,accuracy,val_loss,val_accuracy,lr\n",
      "Epoch 25/25\n",
      "89/89 [==============================] - 83s 937ms/step - loss: 1.2504 - accuracy: 0.5682 - val_loss: 1.6635 - val_accuracy: 0.3750\n",
      "\n",
      "Epoch 00025: val_loss did not improve from 1.54244\n",
      "WARNING:tensorflow:Learning rate reduction is conditioned on metric `val_acc` which is not available. Available metrics are: loss,accuracy,val_loss,val_accuracy,lr\n"
     ]
    }
   ],
   "source": [
    " history = model.fit_generator(\n",
    "            train_generator,\n",
    "            steps_per_epoch=nb_train_samples//batch_size,\n",
    "            epochs=epochs,\n",
    "            callbacks=callbacks,\n",
    "            validation_data=validation_generator,\n",
    "            validation_steps=nb_validation_samples//batch_size)\n"
   ]
  },
  {
   "cell_type": "code",
   "execution_count": null,
   "id": "a37690f9",
   "metadata": {},
   "outputs": [],
   "source": []
  }
 ],
 "metadata": {
  "kernelspec": {
   "display_name": "Python 3",
   "language": "python",
   "name": "python3"
  },
  "language_info": {
   "codemirror_mode": {
    "name": "ipython",
    "version": 3
   },
   "file_extension": ".py",
   "mimetype": "text/x-python",
   "name": "python",
   "nbconvert_exporter": "python",
   "pygments_lexer": "ipython3",
   "version": "3.8.8"
  }
 },
 "nbformat": 4,
 "nbformat_minor": 5
}
