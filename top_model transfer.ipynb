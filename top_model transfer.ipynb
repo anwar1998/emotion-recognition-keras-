{
 "cells": [
  {
   "cell_type": "code",
   "execution_count": 3,
   "id": "99b0a054",
   "metadata": {},
   "outputs": [],
   "source": [
    "from keras.applications import MobileNet\n",
    "from keras.models import Sequential,Model \n",
    "from keras.layers import Dense,Dropout,Activation,Flatten,GlobalAveragePooling2D\n",
    "from keras.layers import Conv2D,MaxPooling2D,ZeroPadding2D\n",
    "from keras.layers.normalization import BatchNormalization \n",
    "from keras.preprocessing.image import ImageDataGenerator\n",
    "# MobileNet is designed to work with images of dim 224,224\n",
    "img_rows,img_cols = 224,224\n",
    "import pandas as ps\n",
    "import numpy as np\n",
    "import tensorflow as tf\n",
    "import cv2\n",
    "import os\n",
    "import matplotlib.pyplot as plt\n",
    "import cv2\n",
    "import  pickle\n",
    "from keras.models import load_model\n",
    "from time import sleep\n",
    "from keras.preprocessing.image import img_to_array\n",
    "from keras.preprocessing import image\n",
    "import cv2\n",
    "import numpy as np"
   ]
  },
  {
   "cell_type": "code",
   "execution_count": 101,
   "id": "bab4ab67",
   "metadata": {},
   "outputs": [],
   "source": [
    "top_model =load_model('data_utiliser/model-top.h5')\n"
   ]
  },
  {
   "cell_type": "code",
   "execution_count": 102,
   "id": "706cf098",
   "metadata": {},
   "outputs": [
    {
     "name": "stdout",
     "output_type": "stream",
     "text": [
      "Model: \"sequential_1\"\n",
      "_________________________________________________________________\n",
      "Layer (type)                 Output Shape              Param #   \n",
      "=================================================================\n",
      "conv2d_8 (Conv2D)            (None, 48, 48, 32)        320       \n",
      "_________________________________________________________________\n",
      "activation_11 (Activation)   (None, 48, 48, 32)        0         \n",
      "_________________________________________________________________\n",
      "batch_normalization_10 (Batc (None, 48, 48, 32)        128       \n",
      "_________________________________________________________________\n",
      "conv2d_9 (Conv2D)            (None, 48, 48, 32)        9248      \n",
      "_________________________________________________________________\n",
      "activation_12 (Activation)   (None, 48, 48, 32)        0         \n",
      "_________________________________________________________________\n",
      "batch_normalization_11 (Batc (None, 48, 48, 32)        128       \n",
      "_________________________________________________________________\n",
      "max_pooling2d_4 (MaxPooling2 (None, 24, 24, 32)        0         \n",
      "_________________________________________________________________\n",
      "dropout_6 (Dropout)          (None, 24, 24, 32)        0         \n",
      "_________________________________________________________________\n",
      "conv2d_10 (Conv2D)           (None, 24, 24, 64)        18496     \n",
      "_________________________________________________________________\n",
      "activation_13 (Activation)   (None, 24, 24, 64)        0         \n",
      "_________________________________________________________________\n",
      "batch_normalization_12 (Batc (None, 24, 24, 64)        256       \n",
      "_________________________________________________________________\n",
      "conv2d_11 (Conv2D)           (None, 24, 24, 64)        36928     \n",
      "_________________________________________________________________\n",
      "activation_14 (Activation)   (None, 24, 24, 64)        0         \n",
      "_________________________________________________________________\n",
      "batch_normalization_13 (Batc (None, 24, 24, 64)        256       \n",
      "_________________________________________________________________\n",
      "max_pooling2d_5 (MaxPooling2 (None, 12, 12, 64)        0         \n",
      "_________________________________________________________________\n",
      "dropout_7 (Dropout)          (None, 12, 12, 64)        0         \n",
      "_________________________________________________________________\n",
      "conv2d_12 (Conv2D)           (None, 12, 12, 128)       73856     \n",
      "_________________________________________________________________\n",
      "activation_15 (Activation)   (None, 12, 12, 128)       0         \n",
      "_________________________________________________________________\n",
      "batch_normalization_14 (Batc (None, 12, 12, 128)       512       \n",
      "_________________________________________________________________\n",
      "conv2d_13 (Conv2D)           (None, 12, 12, 128)       147584    \n",
      "_________________________________________________________________\n",
      "activation_16 (Activation)   (None, 12, 12, 128)       0         \n",
      "_________________________________________________________________\n",
      "batch_normalization_15 (Batc (None, 12, 12, 128)       512       \n",
      "_________________________________________________________________\n",
      "max_pooling2d_6 (MaxPooling2 (None, 6, 6, 128)         0         \n",
      "_________________________________________________________________\n",
      "dropout_8 (Dropout)          (None, 6, 6, 128)         0         \n",
      "_________________________________________________________________\n",
      "conv2d_14 (Conv2D)           (None, 6, 6, 256)         295168    \n",
      "_________________________________________________________________\n",
      "activation_17 (Activation)   (None, 6, 6, 256)         0         \n",
      "_________________________________________________________________\n",
      "batch_normalization_16 (Batc (None, 6, 6, 256)         1024      \n",
      "_________________________________________________________________\n",
      "conv2d_15 (Conv2D)           (None, 6, 6, 256)         590080    \n",
      "_________________________________________________________________\n",
      "activation_18 (Activation)   (None, 6, 6, 256)         0         \n",
      "_________________________________________________________________\n",
      "batch_normalization_17 (Batc (None, 6, 6, 256)         1024      \n",
      "_________________________________________________________________\n",
      "max_pooling2d_7 (MaxPooling2 (None, 3, 3, 256)         0         \n",
      "_________________________________________________________________\n",
      "dropout_9 (Dropout)          (None, 3, 3, 256)         0         \n",
      "_________________________________________________________________\n",
      "flatten_1 (Flatten)          (None, 2304)              0         \n",
      "_________________________________________________________________\n",
      "dense_3 (Dense)              (None, 64)                147520    \n",
      "_________________________________________________________________\n",
      "activation_19 (Activation)   (None, 64)                0         \n",
      "_________________________________________________________________\n",
      "batch_normalization_18 (Batc (None, 64)                256       \n",
      "_________________________________________________________________\n",
      "dropout_10 (Dropout)         (None, 64)                0         \n",
      "_________________________________________________________________\n",
      "dense_4 (Dense)              (None, 64)                4160      \n",
      "_________________________________________________________________\n",
      "activation_20 (Activation)   (None, 64)                0         \n",
      "_________________________________________________________________\n",
      "batch_normalization_19 (Batc (None, 64)                256       \n",
      "_________________________________________________________________\n",
      "dropout_11 (Dropout)         (None, 64)                0         \n",
      "_________________________________________________________________\n",
      "dense_5 (Dense)              (None, 7)                 455       \n",
      "_________________________________________________________________\n",
      "activation_21 (Activation)   (None, 7)                 0         \n",
      "=================================================================\n",
      "Total params: 1,328,167\n",
      "Trainable params: 1,325,991\n",
      "Non-trainable params: 2,176\n",
      "_________________________________________________________________\n"
     ]
    }
   ],
   "source": [
    "top_model.summary()"
   ]
  },
  {
   "cell_type": "code",
   "execution_count": 4,
   "id": "fed42900",
   "metadata": {},
   "outputs": [
    {
     "ename": "NameError",
     "evalue": "name 'top_model' is not defined",
     "output_type": "error",
     "traceback": [
      "\u001b[1;31m---------------------------------------------------------------------------\u001b[0m",
      "\u001b[1;31mNameError\u001b[0m                                 Traceback (most recent call last)",
      "\u001b[1;32m<ipython-input-4-78a05766cc1b>\u001b[0m in \u001b[0;36m<module>\u001b[1;34m\u001b[0m\n\u001b[0;32m      1\u001b[0m \u001b[1;32mfrom\u001b[0m \u001b[0mtensorflow\u001b[0m\u001b[1;33m.\u001b[0m\u001b[0mkeras\u001b[0m \u001b[1;32mimport\u001b[0m \u001b[0mlayers\u001b[0m\u001b[1;33m\u001b[0m\u001b[1;33m\u001b[0m\u001b[0m\n\u001b[1;32m----> 2\u001b[1;33m \u001b[0mlast_layer\u001b[0m\u001b[1;33m=\u001b[0m\u001b[0mtop_model\u001b[0m\u001b[1;33m.\u001b[0m\u001b[0mget_layer\u001b[0m\u001b[1;33m(\u001b[0m\u001b[1;34m'activation_21'\u001b[0m\u001b[1;33m)\u001b[0m\u001b[1;33m\u001b[0m\u001b[1;33m\u001b[0m\u001b[0m\n\u001b[0m\u001b[0;32m      3\u001b[0m \u001b[0mlast_layer\u001b[0m\u001b[1;33m\u001b[0m\u001b[1;33m\u001b[0m\u001b[0m\n",
      "\u001b[1;31mNameError\u001b[0m: name 'top_model' is not defined"
     ]
    }
   ],
   "source": [
    "from tensorflow.keras import layers\n",
    "last_layer=top_model.get_layer('activation_21')\n",
    "last_layer"
   ]
  },
  {
   "cell_type": "code",
   "execution_count": 104,
   "id": "2ee87ece",
   "metadata": {},
   "outputs": [
    {
     "data": {
      "text/plain": [
       "<KerasTensor: shape=(None, 7) dtype=float32 (created by layer 'activation_21')>"
      ]
     },
     "execution_count": 104,
     "metadata": {},
     "output_type": "execute_result"
    }
   ],
   "source": [
    "last_output = last_layer.output\n",
    "last_output\n",
    "\n"
   ]
  },
  {
   "cell_type": "code",
   "execution_count": 105,
   "id": "c5f21edd",
   "metadata": {},
   "outputs": [],
   "source": [
    "final_output=BatchNormalization()(last_output)"
   ]
  },
  {
   "cell_type": "code",
   "execution_count": null,
   "id": "fb91ed8c",
   "metadata": {},
   "outputs": [],
   "source": []
  },
  {
   "cell_type": "code",
   "execution_count": 106,
   "id": "75bf22b6",
   "metadata": {},
   "outputs": [
    {
     "data": {
      "text/plain": [
       "<KerasTensor: shape=(None, 7) dtype=float32 (created by layer 'dens_8')>"
      ]
     },
     "execution_count": 106,
     "metadata": {},
     "output_type": "execute_result"
    }
   ],
   "source": [
    "final_output=layers.Dense(7,name=\"dens_8\")(final_output)\n",
    "\n",
    "final_output"
   ]
  },
  {
   "cell_type": "code",
   "execution_count": 107,
   "id": "621e5b8e",
   "metadata": {},
   "outputs": [
    {
     "data": {
      "text/plain": [
       "<KerasTensor: shape=(None, 7) dtype=float32 (created by layer 'activation_2')>"
      ]
     },
     "execution_count": 107,
     "metadata": {},
     "output_type": "execute_result"
    }
   ],
   "source": [
    "final_output=layers.Activation('relu')(final_output)\n",
    "final_output"
   ]
  },
  {
   "cell_type": "code",
   "execution_count": 108,
   "id": "be8b4c7a",
   "metadata": {},
   "outputs": [],
   "source": [
    "new_model = Model(inputs=top_model.input, outputs=final_output) \n"
   ]
  },
  {
   "cell_type": "code",
   "execution_count": 109,
   "id": "2f13c010",
   "metadata": {},
   "outputs": [
    {
     "name": "stdout",
     "output_type": "stream",
     "text": [
      "Model: \"model_2\"\n",
      "_________________________________________________________________\n",
      "Layer (type)                 Output Shape              Param #   \n",
      "=================================================================\n",
      "conv2d_8_input (InputLayer)  [(None, 48, 48, 1)]       0         \n",
      "_________________________________________________________________\n",
      "conv2d_8 (Conv2D)            (None, 48, 48, 32)        320       \n",
      "_________________________________________________________________\n",
      "activation_11 (Activation)   (None, 48, 48, 32)        0         \n",
      "_________________________________________________________________\n",
      "batch_normalization_10 (Batc (None, 48, 48, 32)        128       \n",
      "_________________________________________________________________\n",
      "conv2d_9 (Conv2D)            (None, 48, 48, 32)        9248      \n",
      "_________________________________________________________________\n",
      "activation_12 (Activation)   (None, 48, 48, 32)        0         \n",
      "_________________________________________________________________\n",
      "batch_normalization_11 (Batc (None, 48, 48, 32)        128       \n",
      "_________________________________________________________________\n",
      "max_pooling2d_4 (MaxPooling2 (None, 24, 24, 32)        0         \n",
      "_________________________________________________________________\n",
      "dropout_6 (Dropout)          (None, 24, 24, 32)        0         \n",
      "_________________________________________________________________\n",
      "conv2d_10 (Conv2D)           (None, 24, 24, 64)        18496     \n",
      "_________________________________________________________________\n",
      "activation_13 (Activation)   (None, 24, 24, 64)        0         \n",
      "_________________________________________________________________\n",
      "batch_normalization_12 (Batc (None, 24, 24, 64)        256       \n",
      "_________________________________________________________________\n",
      "conv2d_11 (Conv2D)           (None, 24, 24, 64)        36928     \n",
      "_________________________________________________________________\n",
      "activation_14 (Activation)   (None, 24, 24, 64)        0         \n",
      "_________________________________________________________________\n",
      "batch_normalization_13 (Batc (None, 24, 24, 64)        256       \n",
      "_________________________________________________________________\n",
      "max_pooling2d_5 (MaxPooling2 (None, 12, 12, 64)        0         \n",
      "_________________________________________________________________\n",
      "dropout_7 (Dropout)          (None, 12, 12, 64)        0         \n",
      "_________________________________________________________________\n",
      "conv2d_12 (Conv2D)           (None, 12, 12, 128)       73856     \n",
      "_________________________________________________________________\n",
      "activation_15 (Activation)   (None, 12, 12, 128)       0         \n",
      "_________________________________________________________________\n",
      "batch_normalization_14 (Batc (None, 12, 12, 128)       512       \n",
      "_________________________________________________________________\n",
      "conv2d_13 (Conv2D)           (None, 12, 12, 128)       147584    \n",
      "_________________________________________________________________\n",
      "activation_16 (Activation)   (None, 12, 12, 128)       0         \n",
      "_________________________________________________________________\n",
      "batch_normalization_15 (Batc (None, 12, 12, 128)       512       \n",
      "_________________________________________________________________\n",
      "max_pooling2d_6 (MaxPooling2 (None, 6, 6, 128)         0         \n",
      "_________________________________________________________________\n",
      "dropout_8 (Dropout)          (None, 6, 6, 128)         0         \n",
      "_________________________________________________________________\n",
      "conv2d_14 (Conv2D)           (None, 6, 6, 256)         295168    \n",
      "_________________________________________________________________\n",
      "activation_17 (Activation)   (None, 6, 6, 256)         0         \n",
      "_________________________________________________________________\n",
      "batch_normalization_16 (Batc (None, 6, 6, 256)         1024      \n",
      "_________________________________________________________________\n",
      "conv2d_15 (Conv2D)           (None, 6, 6, 256)         590080    \n",
      "_________________________________________________________________\n",
      "activation_18 (Activation)   (None, 6, 6, 256)         0         \n",
      "_________________________________________________________________\n",
      "batch_normalization_17 (Batc (None, 6, 6, 256)         1024      \n",
      "_________________________________________________________________\n",
      "max_pooling2d_7 (MaxPooling2 (None, 3, 3, 256)         0         \n",
      "_________________________________________________________________\n",
      "dropout_9 (Dropout)          (None, 3, 3, 256)         0         \n",
      "_________________________________________________________________\n",
      "flatten_1 (Flatten)          (None, 2304)              0         \n",
      "_________________________________________________________________\n",
      "dense_3 (Dense)              (None, 64)                147520    \n",
      "_________________________________________________________________\n",
      "activation_19 (Activation)   (None, 64)                0         \n",
      "_________________________________________________________________\n",
      "batch_normalization_18 (Batc (None, 64)                256       \n",
      "_________________________________________________________________\n",
      "dropout_10 (Dropout)         (None, 64)                0         \n",
      "_________________________________________________________________\n",
      "dense_4 (Dense)              (None, 64)                4160      \n",
      "_________________________________________________________________\n",
      "activation_20 (Activation)   (None, 64)                0         \n",
      "_________________________________________________________________\n",
      "batch_normalization_19 (Batc (None, 64)                256       \n",
      "_________________________________________________________________\n",
      "dropout_11 (Dropout)         (None, 64)                0         \n",
      "_________________________________________________________________\n",
      "dense_5 (Dense)              (None, 7)                 455       \n",
      "_________________________________________________________________\n",
      "activation_21 (Activation)   (None, 7)                 0         \n",
      "_________________________________________________________________\n",
      "batch_normalization_2 (Batch (None, 7)                 28        \n",
      "_________________________________________________________________\n",
      "dens_8 (Dense)               (None, 7)                 56        \n",
      "_________________________________________________________________\n",
      "activation_2 (Activation)    (None, 7)                 0         \n",
      "=================================================================\n",
      "Total params: 1,328,251\n",
      "Trainable params: 1,326,061\n",
      "Non-trainable params: 2,190\n",
      "_________________________________________________________________\n"
     ]
    }
   ],
   "source": [
    "new_model.summary() \n"
   ]
  },
  {
   "cell_type": "code",
   "execution_count": 110,
   "id": "26fceb52",
   "metadata": {},
   "outputs": [],
   "source": [
    "train_data_dir = 'C:/Users/Anouar Gmili/Desktop/images_fer2013/Training2'\n",
    "validation_data_dir = 'C:/Users/Anouar Gmili/Desktop/images_fer2013/validation'\n",
    "img_rows,img_cols = 48,48"
   ]
  },
  {
   "cell_type": "code",
   "execution_count": 111,
   "id": "239da31b",
   "metadata": {},
   "outputs": [
    {
     "name": "stdout",
     "output_type": "stream",
     "text": [
      "Found 2861 images belonging to 7 classes.\n",
      "Found 412 images belonging to 7 classes.\n"
     ]
    }
   ],
   "source": [
    "train_datagen = ImageDataGenerator(\n",
    "                    rescale=1./255,\n",
    "                    rotation_range=30,\n",
    "                    width_shift_range=0.3,\n",
    "                    height_shift_range=0.3,\n",
    "                    horizontal_flip=True,\n",
    "                    fill_mode='nearest'\n",
    "                                   )\n",
    "\n",
    "validation_datagen = ImageDataGenerator(rescale=1./255)\n",
    "\n",
    "batch_size = 32\n",
    "\n",
    "train_generator = train_datagen.flow_from_directory(\n",
    "                        train_data_dir,\n",
    "                        target_size = (img_rows,img_cols),\n",
    "                        batch_size = batch_size,\n",
    "    color_mode = \"grayscale\",\n",
    "                        class_mode = 'categorical'\n",
    "                        )\n",
    "\n",
    "validation_generator = validation_datagen.flow_from_directory(\n",
    "                            validation_data_dir,\n",
    "                            target_size=(img_rows,img_cols),\n",
    "                            batch_size=batch_size,\n",
    "color_mode = \"grayscale\",\n",
    "                            class_mode='categorical')\n"
   ]
  },
  {
   "cell_type": "code",
   "execution_count": 5,
   "id": "42990a1a",
   "metadata": {},
   "outputs": [],
   "source": [
    "\n",
    "from keras.optimizers import RMSprop,Adam\n",
    "from keras.callbacks import ModelCheckpoint,EarlyStopping,ReduceLROnPlateau\n"
   ]
  },
  {
   "cell_type": "code",
   "execution_count": 113,
   "id": "38e3321e",
   "metadata": {},
   "outputs": [],
   "source": [
    "\n",
    "checkpoint = ModelCheckpoint(\n",
    "                        'top_tap_tip3.h5',\n",
    "                             monitor='val_loss',\n",
    "                             mode='min',\n",
    "                             save_best_only=True,\n",
    "                             verbose=1)\n",
    "\n",
    "earlystop = EarlyStopping(\n",
    "                          monitor='val_loss',\n",
    "                          min_delta=0,\n",
    "                          patience=10,\n",
    "                          verbose=1,restore_best_weights=True)\n",
    "\n",
    "learning_rate_reduction = ReduceLROnPlateau(monitor='val_acc',\n",
    "                                            patience=5,\n",
    "                                            verbose=1,\n",
    "                                            factor=0.2,\n",
    "                                            min_lr=0.0001)\n"
   ]
  },
  {
   "cell_type": "code",
   "execution_count": 114,
   "id": "01c58eb8",
   "metadata": {},
   "outputs": [],
   "source": [
    "\n",
    "callbacks = [earlystop,checkpoint,learning_rate_reduction]\n",
    "\n",
    "new_model.compile(loss='categorical_crossentropy',\n",
    "              optimizer=Adam(lr=0.001),\n",
    "              metrics=['accuracy']\n",
    "              )\n",
    "\n",
    "nb_train_samples = 2861    \n",
    "nb_validation_samples = 412 \n",
    "epochs = 25\n"
   ]
  },
  {
   "cell_type": "code",
   "execution_count": 115,
   "id": "9e8a2cd1",
   "metadata": {},
   "outputs": [
    {
     "name": "stdout",
     "output_type": "stream",
     "text": [
      "Epoch 1/25\n",
      "89/89 [==============================] - 114s 1s/step - loss: 9.7526 - accuracy: 0.0881 - val_loss: 8.6309 - val_accuracy: 0.2552\n",
      "\n",
      "Epoch 00001: val_loss improved from inf to 8.63093, saving model to top_tap_tip3.h5\n",
      "WARNING:tensorflow:Learning rate reduction is conditioned on metric `val_acc` which is not available. Available metrics are: loss,accuracy,val_loss,val_accuracy,lr\n",
      "Epoch 2/25\n",
      "89/89 [==============================] - 89s 995ms/step - loss: 8.6903 - accuracy: 0.1352 - val_loss: 7.6474 - val_accuracy: 0.0651\n",
      "\n",
      "Epoch 00002: val_loss improved from 8.63093 to 7.64745, saving model to top_tap_tip3.h5\n",
      "WARNING:tensorflow:Learning rate reduction is conditioned on metric `val_acc` which is not available. Available metrics are: loss,accuracy,val_loss,val_accuracy,lr\n",
      "Epoch 3/25\n",
      "89/89 [==============================] - 87s 978ms/step - loss: 8.0354 - accuracy: 0.1702 - val_loss: 6.7564 - val_accuracy: 0.0781\n",
      "\n",
      "Epoch 00003: val_loss improved from 7.64745 to 6.75637, saving model to top_tap_tip3.h5\n",
      "WARNING:tensorflow:Learning rate reduction is conditioned on metric `val_acc` which is not available. Available metrics are: loss,accuracy,val_loss,val_accuracy,lr\n",
      "Epoch 4/25\n",
      "89/89 [==============================] - 85s 953ms/step - loss: 7.7278 - accuracy: 0.1741 - val_loss: 7.0074 - val_accuracy: 0.0964\n",
      "\n",
      "Epoch 00004: val_loss did not improve from 6.75637\n",
      "WARNING:tensorflow:Learning rate reduction is conditioned on metric `val_acc` which is not available. Available metrics are: loss,accuracy,val_loss,val_accuracy,lr\n",
      "Epoch 5/25\n",
      "89/89 [==============================] - 89s 1s/step - loss: 7.3348 - accuracy: 0.1894 - val_loss: 8.8259 - val_accuracy: 0.1250\n",
      "\n",
      "Epoch 00005: val_loss did not improve from 6.75637\n",
      "WARNING:tensorflow:Learning rate reduction is conditioned on metric `val_acc` which is not available. Available metrics are: loss,accuracy,val_loss,val_accuracy,lr\n",
      "Epoch 6/25\n",
      "89/89 [==============================] - 83s 931ms/step - loss: 6.5397 - accuracy: 0.2104 - val_loss: 9.3375 - val_accuracy: 0.1172\n",
      "\n",
      "Epoch 00006: val_loss did not improve from 6.75637\n",
      "WARNING:tensorflow:Learning rate reduction is conditioned on metric `val_acc` which is not available. Available metrics are: loss,accuracy,val_loss,val_accuracy,lr\n",
      "Epoch 7/25\n",
      "89/89 [==============================] - 82s 924ms/step - loss: 6.2306 - accuracy: 0.2154 - val_loss: 8.8986 - val_accuracy: 0.0911\n",
      "\n",
      "Epoch 00007: val_loss did not improve from 6.75637\n",
      "WARNING:tensorflow:Learning rate reduction is conditioned on metric `val_acc` which is not available. Available metrics are: loss,accuracy,val_loss,val_accuracy,lr\n",
      "Epoch 8/25\n",
      "89/89 [==============================] - 84s 941ms/step - loss: 6.2784 - accuracy: 0.1875 - val_loss: 7.7241 - val_accuracy: 0.0964\n",
      "\n",
      "Epoch 00008: val_loss did not improve from 6.75637\n",
      "WARNING:tensorflow:Learning rate reduction is conditioned on metric `val_acc` which is not available. Available metrics are: loss,accuracy,val_loss,val_accuracy,lr\n",
      "Epoch 9/25\n",
      "89/89 [==============================] - 93s 1s/step - loss: 6.2053 - accuracy: 0.1587 - val_loss: 7.5705 - val_accuracy: 0.1510\n",
      "\n",
      "Epoch 00009: val_loss did not improve from 6.75637\n",
      "WARNING:tensorflow:Learning rate reduction is conditioned on metric `val_acc` which is not available. Available metrics are: loss,accuracy,val_loss,val_accuracy,lr\n",
      "Epoch 10/25\n",
      "89/89 [==============================] - 89s 1s/step - loss: 5.8243 - accuracy: 0.1955 - val_loss: 7.8924 - val_accuracy: 0.1615\n",
      "\n",
      "Epoch 00010: val_loss did not improve from 6.75637\n",
      "WARNING:tensorflow:Learning rate reduction is conditioned on metric `val_acc` which is not available. Available metrics are: loss,accuracy,val_loss,val_accuracy,lr\n",
      "Epoch 11/25\n",
      "89/89 [==============================] - 86s 967ms/step - loss: 5.5406 - accuracy: 0.2020 - val_loss: 7.7142 - val_accuracy: 0.1719\n",
      "\n",
      "Epoch 00011: val_loss did not improve from 6.75637\n",
      "WARNING:tensorflow:Learning rate reduction is conditioned on metric `val_acc` which is not available. Available metrics are: loss,accuracy,val_loss,val_accuracy,lr\n",
      "Epoch 12/25\n",
      "89/89 [==============================] - 98s 1s/step - loss: 5.2950 - accuracy: 0.2074 - val_loss: 6.7401 - val_accuracy: 0.1354\n",
      "\n",
      "Epoch 00012: val_loss improved from 6.75637 to 6.74010, saving model to top_tap_tip3.h5\n",
      "WARNING:tensorflow:Learning rate reduction is conditioned on metric `val_acc` which is not available. Available metrics are: loss,accuracy,val_loss,val_accuracy,lr\n",
      "Epoch 13/25\n",
      "89/89 [==============================] - 83s 937ms/step - loss: 5.2067 - accuracy: 0.2189 - val_loss: 5.8892 - val_accuracy: 0.1849\n",
      "\n",
      "Epoch 00013: val_loss improved from 6.74010 to 5.88917, saving model to top_tap_tip3.h5\n",
      "WARNING:tensorflow:Learning rate reduction is conditioned on metric `val_acc` which is not available. Available metrics are: loss,accuracy,val_loss,val_accuracy,lr\n",
      "Epoch 14/25\n",
      "89/89 [==============================] - 85s 956ms/step - loss: 5.0246 - accuracy: 0.2296 - val_loss: 5.9865 - val_accuracy: 0.1615\n",
      "\n",
      "Epoch 00014: val_loss did not improve from 5.88917\n",
      "WARNING:tensorflow:Learning rate reduction is conditioned on metric `val_acc` which is not available. Available metrics are: loss,accuracy,val_loss,val_accuracy,lr\n",
      "Epoch 15/25\n",
      "89/89 [==============================] - 82s 926ms/step - loss: 4.8097 - accuracy: 0.2584 - val_loss: 5.9170 - val_accuracy: 0.1615\n",
      "\n",
      "Epoch 00015: val_loss did not improve from 5.88917\n",
      "WARNING:tensorflow:Learning rate reduction is conditioned on metric `val_acc` which is not available. Available metrics are: loss,accuracy,val_loss,val_accuracy,lr\n",
      "Epoch 16/25\n",
      "89/89 [==============================] - 99s 1s/step - loss: 4.8267 - accuracy: 0.2444 - val_loss: 6.3502 - val_accuracy: 0.1536\n",
      "\n",
      "Epoch 00016: val_loss did not improve from 5.88917\n",
      "WARNING:tensorflow:Learning rate reduction is conditioned on metric `val_acc` which is not available. Available metrics are: loss,accuracy,val_loss,val_accuracy,lr\n",
      "Epoch 17/25\n",
      "89/89 [==============================] - 94s 1s/step - loss: 4.6216 - accuracy: 0.2663 - val_loss: 6.0099 - val_accuracy: 0.1146\n",
      "\n",
      "Epoch 00017: val_loss did not improve from 5.88917\n",
      "WARNING:tensorflow:Learning rate reduction is conditioned on metric `val_acc` which is not available. Available metrics are: loss,accuracy,val_loss,val_accuracy,lr\n",
      "Epoch 18/25\n",
      "89/89 [==============================] - 91s 1s/step - loss: 4.7726 - accuracy: 0.2725 - val_loss: 6.5450 - val_accuracy: 0.1094\n",
      "\n",
      "Epoch 00018: val_loss did not improve from 5.88917\n",
      "WARNING:tensorflow:Learning rate reduction is conditioned on metric `val_acc` which is not available. Available metrics are: loss,accuracy,val_loss,val_accuracy,lr\n",
      "Epoch 19/25\n",
      "89/89 [==============================] - 89s 994ms/step - loss: 4.5857 - accuracy: 0.2476 - val_loss: 6.2037 - val_accuracy: 0.1328\n",
      "\n",
      "Epoch 00019: val_loss did not improve from 5.88917\n",
      "WARNING:tensorflow:Learning rate reduction is conditioned on metric `val_acc` which is not available. Available metrics are: loss,accuracy,val_loss,val_accuracy,lr\n",
      "Epoch 20/25\n",
      "89/89 [==============================] - 90s 1s/step - loss: 3.9495 - accuracy: 0.2561 - val_loss: 6.1653 - val_accuracy: 0.1250\n",
      "\n",
      "Epoch 00020: val_loss did not improve from 5.88917\n",
      "WARNING:tensorflow:Learning rate reduction is conditioned on metric `val_acc` which is not available. Available metrics are: loss,accuracy,val_loss,val_accuracy,lr\n",
      "Epoch 21/25\n",
      "89/89 [==============================] - 91s 1s/step - loss: 4.1958 - accuracy: 0.2604 - val_loss: 5.6306 - val_accuracy: 0.0859\n",
      "\n",
      "Epoch 00021: val_loss improved from 5.88917 to 5.63055, saving model to top_tap_tip3.h5\n",
      "WARNING:tensorflow:Learning rate reduction is conditioned on metric `val_acc` which is not available. Available metrics are: loss,accuracy,val_loss,val_accuracy,lr\n",
      "Epoch 22/25\n",
      "89/89 [==============================] - 92s 1s/step - loss: 4.1789 - accuracy: 0.2866 - val_loss: 6.1390 - val_accuracy: 0.0938\n",
      "\n",
      "Epoch 00022: val_loss did not improve from 5.63055\n",
      "WARNING:tensorflow:Learning rate reduction is conditioned on metric `val_acc` which is not available. Available metrics are: loss,accuracy,val_loss,val_accuracy,lr\n",
      "Epoch 23/25\n",
      "89/89 [==============================] - 96s 1s/step - loss: 4.0534 - accuracy: 0.2682 - val_loss: 5.8046 - val_accuracy: 0.0938\n",
      "\n",
      "Epoch 00023: val_loss did not improve from 5.63055\n",
      "WARNING:tensorflow:Learning rate reduction is conditioned on metric `val_acc` which is not available. Available metrics are: loss,accuracy,val_loss,val_accuracy,lr\n",
      "Epoch 24/25\n",
      "89/89 [==============================] - 94s 1s/step - loss: 3.8684 - accuracy: 0.3002 - val_loss: 5.7276 - val_accuracy: 0.0964\n",
      "\n",
      "Epoch 00024: val_loss did not improve from 5.63055\n",
      "WARNING:tensorflow:Learning rate reduction is conditioned on metric `val_acc` which is not available. Available metrics are: loss,accuracy,val_loss,val_accuracy,lr\n",
      "Epoch 25/25\n",
      "89/89 [==============================] - 86s 966ms/step - loss: 3.8612 - accuracy: 0.3090 - val_loss: 4.9339 - val_accuracy: 0.1120\n",
      "\n",
      "Epoch 00025: val_loss improved from 5.63055 to 4.93387, saving model to top_tap_tip3.h5\n",
      "WARNING:tensorflow:Learning rate reduction is conditioned on metric `val_acc` which is not available. Available metrics are: loss,accuracy,val_loss,val_accuracy,lr\n"
     ]
    }
   ],
   "source": [
    " history = new_model.fit_generator(\n",
    "            train_generator,\n",
    "            steps_per_epoch=nb_train_samples//batch_size,\n",
    "            epochs=epochs,\n",
    "            callbacks=callbacks,\n",
    "            validation_data=validation_generator,\n",
    "            validation_steps=nb_validation_samples//batch_size)\n"
   ]
  },
  {
   "cell_type": "markdown",
   "id": "4a9be2bd",
   "metadata": {},
   "source": [
    "#### classifier =load_model('top_tap_tip .h5')\n"
   ]
  },
  {
   "cell_type": "code",
   "execution_count": 71,
   "id": "ec6e1a71",
   "metadata": {},
   "outputs": [],
   "source": [
    "new_model.save(\"tata.h5\")"
   ]
  },
  {
   "cell_type": "markdown",
   "id": "7e6c3f2d",
   "metadata": {},
   "source": [
    "# test de my model\n"
   ]
  },
  {
   "cell_type": "code",
   "execution_count": 116,
   "id": "07c8fc50",
   "metadata": {},
   "outputs": [],
   "source": [
    "class_labels = ['Angry','Disgust','Fear','Happy','Neutral','Sad','Surprise']\n",
    "class_labels2 = ['Angry','Happy','Neutral','Sad','Surprise']"
   ]
  },
  {
   "cell_type": "code",
   "execution_count": 117,
   "id": "a9c3ff0b",
   "metadata": {},
   "outputs": [],
   "source": [
    "face_cascade = cv2.CascadeClassifier('haarcascade_frontalface_default.xml')\n",
    "eye_cascade=cv2.CascadeClassifier('haarcascade_eye.xml')\n",
    "img_rows,img_cols = 224,224\n",
    "#MobileNet = MobileNet(weights='imagenet',include_top=False,input_shape=(img_rows,img_cols,3))\n",
    "recognizer =cv2.face.LBPHFaceRecognizer_create()\n",
    "labels2 ={\"personne_name\":1}\n",
    "face_classifier = cv2.CascadeClassifier('./haarcascade_frontalface_default.xml')\n",
    "import matplotlib.pyplot as plt"
   ]
  },
  {
   "cell_type": "code",
   "execution_count": 212,
   "id": "f58914dc",
   "metadata": {},
   "outputs": [
    {
     "data": {
      "text/plain": [
       "(1, 48, 48, 1)"
      ]
     },
     "execution_count": 212,
     "metadata": {},
     "output_type": "execute_result"
    },
    {
     "data": {
      "image/png": "[encoded data removed]",
      "text/plain": [
       "<Figure size 432x288 with 1 Axes>"
      ]
     },
     "metadata": {
      "needs_background": "light"
     },
     "output_type": "display_data"
    }
   ],
   "source": [
    "# Grab a single frame of video\n",
    "\n",
    "frame=cv2.imread('neutral_anouar.jpg')\n",
    "labels = []\n",
    "gray = cv2.cvtColor(frame,cv2.COLOR_BGR2GRAY)\n",
    "faces = face_classifier.detectMultiScale(gray,1.3,5)\n",
    "for (x,y,w,h) in faces:\n",
    "    cv2.rectangle(frame,(x,y),(x+w,y+h),(255,0,0),2)\n",
    "    roi_gray = gray[y:y+h,x:x+w]\n",
    "    roi_gray = cv2.resize(roi_gray,(48,48),interpolation=cv2.INTER_AREA)\n",
    "    plt.imshow(roi_gray)\n",
    "    if np.sum([roi_gray])!=0:\n",
    "        roi = roi_gray.astype('float')/255.0\n",
    "        roi = img_to_array(roi)\n",
    "        roi = np.expand_dims(roi,axis=0)\n",
    "        #name = labels2[id_]\n",
    "roi.shape"
   ]
  },
  {
   "cell_type": "code",
   "execution_count": 213,
   "id": "a916c8b3",
   "metadata": {},
   "outputs": [],
   "source": [
    "preds=top_model203.predict(roi)\n"
   ]
  },
  {
   "cell_type": "code",
   "execution_count": 214,
   "id": "2980450c",
   "metadata": {},
   "outputs": [
    {
     "data": {
      "text/plain": [
       "array([[0.01786578, 0.00085462, 0.08285689, 0.03753978, 0.7274476 ,\n",
       "        0.12408388, 0.00935148]], dtype=float32)"
      ]
     },
     "execution_count": 214,
     "metadata": {},
     "output_type": "execute_result"
    }
   ],
   "source": [
    "preds\n",
    "\n"
   ]
  },
  {
   "cell_type": "code",
   "execution_count": 215,
   "id": "395736fd",
   "metadata": {},
   "outputs": [
    {
     "name": "stdout",
     "output_type": "stream",
     "text": [
      "\n",
      "prediction max =  4\n",
      "\n",
      "label =  Neutral\n"
     ]
    }
   ],
   "source": [
    "label=class_labels[preds.argmax()]\n",
    "print(\"\\nprediction max = \",preds.argmax())\n",
    "print(\"\\nlabel = \",label)"
   ]
  },
  {
   "cell_type": "markdown",
   "id": "d65174bd",
   "metadata": {},
   "source": [
    "# 3ieme chance "
   ]
  },
  {
   "cell_type": "code",
   "execution_count": 6,
   "id": "1ee6c772",
   "metadata": {},
   "outputs": [],
   "source": [
    "import pandas as ps\n",
    "import numpy as np\n",
    "import tensorflow as tf\n",
    "import cv2\n",
    "import os\n",
    "import matplotlib.pyplot as plt\n"
   ]
  },
  {
   "cell_type": "code",
   "execution_count": 133,
   "id": "0dbaaf40",
   "metadata": {},
   "outputs": [],
   "source": [
    "img_array=cv2.imread(\"data_trainig_small0-1/0/1.jpg\")\n",
    "Dtatdirectory=\"data_trainig_small0-1\"\n",
    "Classes=[\"0\",\"1\",\"2\",\"3\",\"4\",\"5\",\"6\"]"
   ]
  },
  {
   "cell_type": "code",
   "execution_count": 134,
   "id": "a38f7979",
   "metadata": {},
   "outputs": [
    {
     "data": {
      "image/png": "[encoded data removed]",
      "text/plain": [
       "<Figure size 432x288 with 1 Axes>"
      ]
     },
     "metadata": {
      "needs_background": "light"
     },
     "output_type": "display_data"
    }
   ],
   "source": [
    "for category in Classes:\n",
    "    path=os.path.join(Dtatdirectory,category)\n",
    "    for img in os.listdir(path):\n",
    "        img_array=cv2.imread(os.path.join(path,img))\n",
    "        plt.imshow(cv2.cvtColor(img_array,cv2.COLOR_BGR2RGB))\n",
    "        plt.show()\n",
    "        break\n",
    "    break"
   ]
  },
  {
   "cell_type": "code",
   "execution_count": 145,
   "id": "dc44a123",
   "metadata": {},
   "outputs": [
    {
     "data": {
      "image/png": "[encoded data removed]",
      "text/plain": [
       "<Figure size 432x288 with 1 Axes>"
      ]
     },
     "metadata": {
      "needs_background": "light"
     },
     "output_type": "display_data"
    }
   ],
   "source": [
    "\n",
    "img_size=48\n",
    "new_array=cv2.resize(img_array,(img_size,img_size))\n",
    "plt.imshow(cv2.cvtColor(new_array, cv2.COLOR_BGR2RGB))\n",
    "plt.show()"
   ]
  },
  {
   "cell_type": "code",
   "execution_count": 146,
   "id": "f97a0ac3",
   "metadata": {},
   "outputs": [
    {
     "data": {
      "text/plain": [
       "(48, 48, 3)"
      ]
     },
     "execution_count": 146,
     "metadata": {},
     "output_type": "execute_result"
    }
   ],
   "source": [
    "new_array.shape\n"
   ]
  },
  {
   "cell_type": "code",
   "execution_count": 147,
   "id": "7d33e6e6",
   "metadata": {},
   "outputs": [],
   "source": [
    "training_Data=[]\n",
    "def creat_training_data():\n",
    "    for category in Classes:\n",
    "        path = os.path.join(Dtatdirectory, category)\n",
    "        clas_num=Classes.index(category)\n",
    "        for img in os.listdir(path):\n",
    "            try:\n",
    "                img_array = cv2.imread(os.path.join(path, img))\n",
    "                new_array = cv2.resize(img_array, (img_size, img_size))\n",
    "                new_array= cv2.cvtColor(new_array, cv2.COLOR_BGR2GRAY)\n",
    "                training_Data.append([new_array,clas_num])\n",
    "            except Exception as e:\n",
    "                pass"
   ]
  },
  {
   "cell_type": "code",
   "execution_count": 148,
   "id": "a60a424f",
   "metadata": {},
   "outputs": [],
   "source": [
    "creat_training_data()"
   ]
  },
  {
   "cell_type": "code",
   "execution_count": 149,
   "id": "baee4b65",
   "metadata": {},
   "outputs": [
    {
     "name": "stdout",
     "output_type": "stream",
     "text": [
      "831\n"
     ]
    }
   ],
   "source": [
    "\n",
    "print(len(training_Data))"
   ]
  },
  {
   "cell_type": "code",
   "execution_count": 153,
   "id": "295c0fb1",
   "metadata": {},
   "outputs": [
    {
     "data": {
      "text/plain": [
       "(831, 48, 48, 1)"
      ]
     },
     "execution_count": 153,
     "metadata": {},
     "output_type": "execute_result"
    }
   ],
   "source": [
    "\n",
    "import random\n",
    "random.shuffle(training_Data)\n",
    "X=[]\n",
    "y=[]\n",
    "for features,label in training_Data:\n",
    "    X.append(features)\n",
    "    y.append(label)\n",
    "x=np.array(X).reshape(-1,img_size,img_size,1)\n",
    "x.shape"
   ]
  },
  {
   "cell_type": "code",
   "execution_count": 154,
   "id": "06d3cf8e",
   "metadata": {},
   "outputs": [],
   "source": [
    "x=x/255.0"
   ]
  },
  {
   "cell_type": "code",
   "execution_count": 155,
   "id": "04f2a6b9",
   "metadata": {},
   "outputs": [
    {
     "data": {
      "text/plain": [
       "array([[[[0.84705882],\n",
       "         [0.84313725],\n",
       "         [0.84313725],\n",
       "         ...,\n",
       "         [0.7372549 ],\n",
       "         [0.72156863],\n",
       "         [0.69803922]],\n",
       "\n",
       "        [[0.84705882],\n",
       "         [0.85098039],\n",
       "         [0.85490196],\n",
       "         ...,\n",
       "         [0.73333333],\n",
       "         [0.7254902 ],\n",
       "         [0.70588235]],\n",
       "\n",
       "        [[0.85098039],\n",
       "         [0.85098039],\n",
       "         [0.8627451 ],\n",
       "         ...,\n",
       "         [0.7372549 ],\n",
       "         [0.72156863],\n",
       "         [0.70588235]],\n",
       "\n",
       "        ...,\n",
       "\n",
       "        [[0.85098039],\n",
       "         [0.82352941],\n",
       "         [0.8       ],\n",
       "         ...,\n",
       "         [0.75294118],\n",
       "         [0.94901961],\n",
       "         [0.76470588]],\n",
       "\n",
       "        [[0.83921569],\n",
       "         [0.81176471],\n",
       "         [0.8       ],\n",
       "         ...,\n",
       "         [0.90196078],\n",
       "         [0.84705882],\n",
       "         [0.41568627]],\n",
       "\n",
       "        [[0.82352941],\n",
       "         [0.80392157],\n",
       "         [0.8       ],\n",
       "         ...,\n",
       "         [0.90980392],\n",
       "         [0.53333333],\n",
       "         [0.21176471]]],\n",
       "\n",
       "\n",
       "       [[[0.10980392],\n",
       "         [0.1254902 ],\n",
       "         [0.15686275],\n",
       "         ...,\n",
       "         [0.3254902 ],\n",
       "         [0.23529412],\n",
       "         [0.31764706]],\n",
       "\n",
       "        [[0.10196078],\n",
       "         [0.11764706],\n",
       "         [0.14117647],\n",
       "         ...,\n",
       "         [0.35686275],\n",
       "         [0.25882353],\n",
       "         [0.16470588]],\n",
       "\n",
       "        [[0.12156863],\n",
       "         [0.1254902 ],\n",
       "         [0.12156863],\n",
       "         ...,\n",
       "         [0.30196078],\n",
       "         [0.18823529],\n",
       "         [0.2       ]],\n",
       "\n",
       "        ...,\n",
       "\n",
       "        [[0.08235294],\n",
       "         [0.09019608],\n",
       "         [0.09019608],\n",
       "         ...,\n",
       "         [0.16470588],\n",
       "         [0.16470588],\n",
       "         [0.16862745]],\n",
       "\n",
       "        [[0.08627451],\n",
       "         [0.09019608],\n",
       "         [0.08627451],\n",
       "         ...,\n",
       "         [0.18431373],\n",
       "         [0.16862745],\n",
       "         [0.14901961]],\n",
       "\n",
       "        [[0.09019608],\n",
       "         [0.09411765],\n",
       "         [0.08627451],\n",
       "         ...,\n",
       "         [0.18039216],\n",
       "         [0.20784314],\n",
       "         [0.18039216]]],\n",
       "\n",
       "\n",
       "       [[[0.00392157],\n",
       "         [0.        ],\n",
       "         [0.        ],\n",
       "         ...,\n",
       "         [0.        ],\n",
       "         [0.        ],\n",
       "         [0.        ]],\n",
       "\n",
       "        [[0.00392157],\n",
       "         [0.        ],\n",
       "         [0.        ],\n",
       "         ...,\n",
       "         [0.00392157],\n",
       "         [0.00392157],\n",
       "         [0.00392157]],\n",
       "\n",
       "        [[0.00392157],\n",
       "         [0.        ],\n",
       "         [0.        ],\n",
       "         ...,\n",
       "         [0.00784314],\n",
       "         [0.        ],\n",
       "         [0.01960784]],\n",
       "\n",
       "        ...,\n",
       "\n",
       "        [[0.9372549 ],\n",
       "         [0.94117647],\n",
       "         [0.91764706],\n",
       "         ...,\n",
       "         [0.97254902],\n",
       "         [0.96470588],\n",
       "         [0.96470588]],\n",
       "\n",
       "        [[0.94901961],\n",
       "         [0.94117647],\n",
       "         [0.91764706],\n",
       "         ...,\n",
       "         [0.96470588],\n",
       "         [0.96862745],\n",
       "         [0.96470588]],\n",
       "\n",
       "        [[0.93333333],\n",
       "         [0.9254902 ],\n",
       "         [0.91372549],\n",
       "         ...,\n",
       "         [0.96078431],\n",
       "         [0.95686275],\n",
       "         [0.95686275]]],\n",
       "\n",
       "\n",
       "       ...,\n",
       "\n",
       "\n",
       "       [[[0.99607843],\n",
       "         [1.        ],\n",
       "         [0.98431373],\n",
       "         ...,\n",
       "         [1.        ],\n",
       "         [0.98039216],\n",
       "         [1.        ]],\n",
       "\n",
       "        [[1.        ],\n",
       "         [1.        ],\n",
       "         [1.        ],\n",
       "         ...,\n",
       "         [1.        ],\n",
       "         [0.99215686],\n",
       "         [1.        ]],\n",
       "\n",
       "        [[1.        ],\n",
       "         [1.        ],\n",
       "         [0.98431373],\n",
       "         ...,\n",
       "         [0.99607843],\n",
       "         [0.99215686],\n",
       "         [0.99607843]],\n",
       "\n",
       "        ...,\n",
       "\n",
       "        [[0.98823529],\n",
       "         [0.85098039],\n",
       "         [0.76862745],\n",
       "         ...,\n",
       "         [0.90196078],\n",
       "         [0.90980392],\n",
       "         [0.93333333]],\n",
       "\n",
       "        [[1.        ],\n",
       "         [0.95294118],\n",
       "         [0.75294118],\n",
       "         ...,\n",
       "         [0.90980392],\n",
       "         [0.94117647],\n",
       "         [0.91764706]],\n",
       "\n",
       "        [[0.98431373],\n",
       "         [1.        ],\n",
       "         [0.81568627],\n",
       "         ...,\n",
       "         [0.92941176],\n",
       "         [0.90980392],\n",
       "         [0.91372549]]],\n",
       "\n",
       "\n",
       "       [[[0.4627451 ],\n",
       "         [0.14901961],\n",
       "         [0.14901961],\n",
       "         ...,\n",
       "         [0.03137255],\n",
       "         [0.04313725],\n",
       "         [0.26666667]],\n",
       "\n",
       "        [[0.29019608],\n",
       "         [0.12156863],\n",
       "         [0.11764706],\n",
       "         ...,\n",
       "         [0.02745098],\n",
       "         [0.03529412],\n",
       "         [0.25882353]],\n",
       "\n",
       "        [[0.17647059],\n",
       "         [0.10196078],\n",
       "         [0.08235294],\n",
       "         ...,\n",
       "         [0.02352941],\n",
       "         [0.03921569],\n",
       "         [0.24313725]],\n",
       "\n",
       "        ...,\n",
       "\n",
       "        [[0.24705882],\n",
       "         [0.10196078],\n",
       "         [0.27843137],\n",
       "         ...,\n",
       "         [0.64313725],\n",
       "         [0.66666667],\n",
       "         [0.64705882]],\n",
       "\n",
       "        [[0.23137255],\n",
       "         [0.12941176],\n",
       "         [0.25882353],\n",
       "         ...,\n",
       "         [0.6627451 ],\n",
       "         [0.6627451 ],\n",
       "         [0.64313725]],\n",
       "\n",
       "        [[0.16470588],\n",
       "         [0.17254902],\n",
       "         [0.25490196],\n",
       "         ...,\n",
       "         [0.61960784],\n",
       "         [0.65098039],\n",
       "         [0.64313725]]],\n",
       "\n",
       "\n",
       "       [[[0.82745098],\n",
       "         [0.80392157],\n",
       "         [0.82352941],\n",
       "         ...,\n",
       "         [0.86666667],\n",
       "         [0.85098039],\n",
       "         [0.85490196]],\n",
       "\n",
       "        [[0.82352941],\n",
       "         [0.81960784],\n",
       "         [0.83137255],\n",
       "         ...,\n",
       "         [0.8745098 ],\n",
       "         [0.83921569],\n",
       "         [0.85490196]],\n",
       "\n",
       "        [[0.81960784],\n",
       "         [0.83921569],\n",
       "         [0.81568627],\n",
       "         ...,\n",
       "         [0.77647059],\n",
       "         [0.85098039],\n",
       "         [0.85490196]],\n",
       "\n",
       "        ...,\n",
       "\n",
       "        [[0.50588235],\n",
       "         [0.49019608],\n",
       "         [0.4745098 ],\n",
       "         ...,\n",
       "         [0.04705882],\n",
       "         [0.03921569],\n",
       "         [0.0627451 ]],\n",
       "\n",
       "        [[0.50196078],\n",
       "         [0.45490196],\n",
       "         [0.44705882],\n",
       "         ...,\n",
       "         [0.05490196],\n",
       "         [0.02745098],\n",
       "         [0.02745098]],\n",
       "\n",
       "        [[0.36470588],\n",
       "         [0.45882353],\n",
       "         [0.4627451 ],\n",
       "         ...,\n",
       "         [0.01960784],\n",
       "         [0.02745098],\n",
       "         [0.02745098]]]])"
      ]
     },
     "execution_count": 155,
     "metadata": {},
     "output_type": "execute_result"
    }
   ],
   "source": [
    "x"
   ]
  },
  {
   "cell_type": "code",
   "execution_count": 156,
   "id": "2505aa4e",
   "metadata": {},
   "outputs": [
    {
     "data": {
      "text/plain": [
       "4"
      ]
     },
     "execution_count": 156,
     "metadata": {},
     "output_type": "execute_result"
    }
   ],
   "source": [
    "y[6]"
   ]
  },
  {
   "cell_type": "code",
   "execution_count": 157,
   "id": "9d226a7c",
   "metadata": {},
   "outputs": [],
   "source": [
    "import tensorflow as tf\n",
    "from  tensorflow import keras\n",
    "from tensorflow.keras import layers"
   ]
  },
  {
   "cell_type": "code",
   "execution_count": 171,
   "id": "f90cfc72",
   "metadata": {},
   "outputs": [
    {
     "name": "stdout",
     "output_type": "stream",
     "text": [
      "Model: \"sequential_1\"\n",
      "_________________________________________________________________\n",
      "Layer (type)                 Output Shape              Param #   \n",
      "=================================================================\n",
      "conv2d_8 (Conv2D)            (None, 48, 48, 32)        320       \n",
      "_________________________________________________________________\n",
      "activation_11 (Activation)   (None, 48, 48, 32)        0         \n",
      "_________________________________________________________________\n",
      "batch_normalization_10 (Batc (None, 48, 48, 32)        128       \n",
      "_________________________________________________________________\n",
      "conv2d_9 (Conv2D)            (None, 48, 48, 32)        9248      \n",
      "_________________________________________________________________\n",
      "activation_12 (Activation)   (None, 48, 48, 32)        0         \n",
      "_________________________________________________________________\n",
      "batch_normalization_11 (Batc (None, 48, 48, 32)        128       \n",
      "_________________________________________________________________\n",
      "max_pooling2d_4 (MaxPooling2 (None, 24, 24, 32)        0         \n",
      "_________________________________________________________________\n",
      "dropout_6 (Dropout)          (None, 24, 24, 32)        0         \n",
      "_________________________________________________________________\n",
      "conv2d_10 (Conv2D)           (None, 24, 24, 64)        18496     \n",
      "_________________________________________________________________\n",
      "activation_13 (Activation)   (None, 24, 24, 64)        0         \n",
      "_________________________________________________________________\n",
      "batch_normalization_12 (Batc (None, 24, 24, 64)        256       \n",
      "_________________________________________________________________\n",
      "conv2d_11 (Conv2D)           (None, 24, 24, 64)        36928     \n",
      "_________________________________________________________________\n",
      "activation_14 (Activation)   (None, 24, 24, 64)        0         \n",
      "_________________________________________________________________\n",
      "batch_normalization_13 (Batc (None, 24, 24, 64)        256       \n",
      "_________________________________________________________________\n",
      "max_pooling2d_5 (MaxPooling2 (None, 12, 12, 64)        0         \n",
      "_________________________________________________________________\n",
      "dropout_7 (Dropout)          (None, 12, 12, 64)        0         \n",
      "_________________________________________________________________\n",
      "conv2d_12 (Conv2D)           (None, 12, 12, 128)       73856     \n",
      "_________________________________________________________________\n",
      "activation_15 (Activation)   (None, 12, 12, 128)       0         \n",
      "_________________________________________________________________\n",
      "batch_normalization_14 (Batc (None, 12, 12, 128)       512       \n",
      "_________________________________________________________________\n",
      "conv2d_13 (Conv2D)           (None, 12, 12, 128)       147584    \n",
      "_________________________________________________________________\n",
      "activation_16 (Activation)   (None, 12, 12, 128)       0         \n",
      "_________________________________________________________________\n",
      "batch_normalization_15 (Batc (None, 12, 12, 128)       512       \n",
      "_________________________________________________________________\n",
      "max_pooling2d_6 (MaxPooling2 (None, 6, 6, 128)         0         \n",
      "_________________________________________________________________\n",
      "dropout_8 (Dropout)          (None, 6, 6, 128)         0         \n",
      "_________________________________________________________________\n",
      "conv2d_14 (Conv2D)           (None, 6, 6, 256)         295168    \n",
      "_________________________________________________________________\n",
      "activation_17 (Activation)   (None, 6, 6, 256)         0         \n",
      "_________________________________________________________________\n",
      "batch_normalization_16 (Batc (None, 6, 6, 256)         1024      \n",
      "_________________________________________________________________\n",
      "conv2d_15 (Conv2D)           (None, 6, 6, 256)         590080    \n",
      "_________________________________________________________________\n",
      "activation_18 (Activation)   (None, 6, 6, 256)         0         \n",
      "_________________________________________________________________\n",
      "batch_normalization_17 (Batc (None, 6, 6, 256)         1024      \n",
      "_________________________________________________________________\n",
      "max_pooling2d_7 (MaxPooling2 (None, 3, 3, 256)         0         \n",
      "_________________________________________________________________\n",
      "dropout_9 (Dropout)          (None, 3, 3, 256)         0         \n",
      "_________________________________________________________________\n",
      "flatten_1 (Flatten)          (None, 2304)              0         \n",
      "_________________________________________________________________\n",
      "dense_3 (Dense)              (None, 64)                147520    \n",
      "_________________________________________________________________\n",
      "activation_19 (Activation)   (None, 64)                0         \n",
      "_________________________________________________________________\n",
      "batch_normalization_18 (Batc (None, 64)                256       \n",
      "_________________________________________________________________\n",
      "dropout_10 (Dropout)         (None, 64)                0         \n",
      "_________________________________________________________________\n",
      "dense_4 (Dense)              (None, 64)                4160      \n",
      "_________________________________________________________________\n",
      "activation_20 (Activation)   (None, 64)                0         \n",
      "_________________________________________________________________\n",
      "batch_normalization_19 (Batc (None, 64)                256       \n",
      "_________________________________________________________________\n",
      "dropout_11 (Dropout)         (None, 64)                0         \n",
      "_________________________________________________________________\n",
      "dense_5 (Dense)              (None, 7)                 455       \n",
      "_________________________________________________________________\n",
      "activation_21 (Activation)   (None, 7)                 0         \n",
      "=================================================================\n",
      "Total params: 1,328,167\n",
      "Trainable params: 1,325,991\n",
      "Non-trainable params: 2,176\n",
      "_________________________________________________________________\n"
     ]
    }
   ],
   "source": [
    "top_model =load_model('data_utiliser/model-top.h5')\n",
    "top_model.summary()"
   ]
  },
  {
   "cell_type": "code",
   "execution_count": 172,
   "id": "221a7bd7",
   "metadata": {},
   "outputs": [],
   "source": [
    "base_input=top_model.layers[0].input\n",
    "base_output=top_model.layers[-1].output"
   ]
  },
  {
   "cell_type": "code",
   "execution_count": 173,
   "id": "493f7079",
   "metadata": {},
   "outputs": [
    {
     "data": {
      "text/plain": [
       "<KerasTensor: shape=(None, 7) dtype=float32 (created by layer 'activation_21')>"
      ]
     },
     "execution_count": 173,
     "metadata": {},
     "output_type": "execute_result"
    }
   ],
   "source": [
    "base_output"
   ]
  },
  {
   "cell_type": "code",
   "execution_count": 174,
   "id": "93552a3e",
   "metadata": {
    "scrolled": true
   },
   "outputs": [
    {
     "data": {
      "text/plain": [
       "<KerasTensor: shape=(None, 48, 48, 1) dtype=float32 (created by layer 'conv2d_8_input')>"
      ]
     },
     "execution_count": 174,
     "metadata": {},
     "output_type": "execute_result"
    }
   ],
   "source": [
    "base_input"
   ]
  },
  {
   "cell_type": "code",
   "execution_count": 175,
   "id": "f579c39d",
   "metadata": {},
   "outputs": [],
   "source": [
    "\n",
    "final_output=layers.Dense(7)(base_output)\n",
    "final_ouput=layers.Activation('relu')(final_output)\n",
    "final_output=layers.Dense(7)(final_ouput)\n",
    "final_ouput=layers.Activation('relu')(final_output)\n",
    "final_output=layers.Dense(7,activation='softmax')(final_ouput)"
   ]
  },
  {
   "cell_type": "code",
   "execution_count": 176,
   "id": "2d680256",
   "metadata": {},
   "outputs": [
    {
     "data": {
      "text/plain": [
       "<KerasTensor: shape=(None, 7) dtype=float32 (created by layer 'dense_8')>"
      ]
     },
     "execution_count": 176,
     "metadata": {},
     "output_type": "execute_result"
    }
   ],
   "source": [
    "final_output\n"
   ]
  },
  {
   "cell_type": "code",
   "execution_count": 177,
   "id": "7647caee",
   "metadata": {},
   "outputs": [
    {
     "name": "stdout",
     "output_type": "stream",
     "text": [
      "Model: \"model_5\"\n",
      "_________________________________________________________________\n",
      "Layer (type)                 Output Shape              Param #   \n",
      "=================================================================\n",
      "conv2d_8_input (InputLayer)  [(None, 48, 48, 1)]       0         \n",
      "_________________________________________________________________\n",
      "conv2d_8 (Conv2D)            (None, 48, 48, 32)        320       \n",
      "_________________________________________________________________\n",
      "activation_11 (Activation)   (None, 48, 48, 32)        0         \n",
      "_________________________________________________________________\n",
      "batch_normalization_10 (Batc (None, 48, 48, 32)        128       \n",
      "_________________________________________________________________\n",
      "conv2d_9 (Conv2D)            (None, 48, 48, 32)        9248      \n",
      "_________________________________________________________________\n",
      "activation_12 (Activation)   (None, 48, 48, 32)        0         \n",
      "_________________________________________________________________\n",
      "batch_normalization_11 (Batc (None, 48, 48, 32)        128       \n",
      "_________________________________________________________________\n",
      "max_pooling2d_4 (MaxPooling2 (None, 24, 24, 32)        0         \n",
      "_________________________________________________________________\n",
      "dropout_6 (Dropout)          (None, 24, 24, 32)        0         \n",
      "_________________________________________________________________\n",
      "conv2d_10 (Conv2D)           (None, 24, 24, 64)        18496     \n",
      "_________________________________________________________________\n",
      "activation_13 (Activation)   (None, 24, 24, 64)        0         \n",
      "_________________________________________________________________\n",
      "batch_normalization_12 (Batc (None, 24, 24, 64)        256       \n",
      "_________________________________________________________________\n",
      "conv2d_11 (Conv2D)           (None, 24, 24, 64)        36928     \n",
      "_________________________________________________________________\n",
      "activation_14 (Activation)   (None, 24, 24, 64)        0         \n",
      "_________________________________________________________________\n",
      "batch_normalization_13 (Batc (None, 24, 24, 64)        256       \n",
      "_________________________________________________________________\n",
      "max_pooling2d_5 (MaxPooling2 (None, 12, 12, 64)        0         \n",
      "_________________________________________________________________\n",
      "dropout_7 (Dropout)          (None, 12, 12, 64)        0         \n",
      "_________________________________________________________________\n",
      "conv2d_12 (Conv2D)           (None, 12, 12, 128)       73856     \n",
      "_________________________________________________________________\n",
      "activation_15 (Activation)   (None, 12, 12, 128)       0         \n",
      "_________________________________________________________________\n",
      "batch_normalization_14 (Batc (None, 12, 12, 128)       512       \n",
      "_________________________________________________________________\n",
      "conv2d_13 (Conv2D)           (None, 12, 12, 128)       147584    \n",
      "_________________________________________________________________\n",
      "activation_16 (Activation)   (None, 12, 12, 128)       0         \n",
      "_________________________________________________________________\n",
      "batch_normalization_15 (Batc (None, 12, 12, 128)       512       \n",
      "_________________________________________________________________\n",
      "max_pooling2d_6 (MaxPooling2 (None, 6, 6, 128)         0         \n",
      "_________________________________________________________________\n",
      "dropout_8 (Dropout)          (None, 6, 6, 128)         0         \n",
      "_________________________________________________________________\n",
      "conv2d_14 (Conv2D)           (None, 6, 6, 256)         295168    \n",
      "_________________________________________________________________\n",
      "activation_17 (Activation)   (None, 6, 6, 256)         0         \n",
      "_________________________________________________________________\n",
      "batch_normalization_16 (Batc (None, 6, 6, 256)         1024      \n",
      "_________________________________________________________________\n",
      "conv2d_15 (Conv2D)           (None, 6, 6, 256)         590080    \n",
      "_________________________________________________________________\n",
      "activation_18 (Activation)   (None, 6, 6, 256)         0         \n",
      "_________________________________________________________________\n",
      "batch_normalization_17 (Batc (None, 6, 6, 256)         1024      \n",
      "_________________________________________________________________\n",
      "max_pooling2d_7 (MaxPooling2 (None, 3, 3, 256)         0         \n",
      "_________________________________________________________________\n",
      "dropout_9 (Dropout)          (None, 3, 3, 256)         0         \n",
      "_________________________________________________________________\n",
      "flatten_1 (Flatten)          (None, 2304)              0         \n",
      "_________________________________________________________________\n",
      "dense_3 (Dense)              (None, 64)                147520    \n",
      "_________________________________________________________________\n",
      "activation_19 (Activation)   (None, 64)                0         \n",
      "_________________________________________________________________\n",
      "batch_normalization_18 (Batc (None, 64)                256       \n",
      "_________________________________________________________________\n",
      "dropout_10 (Dropout)         (None, 64)                0         \n",
      "_________________________________________________________________\n",
      "dense_4 (Dense)              (None, 64)                4160      \n",
      "_________________________________________________________________\n",
      "activation_20 (Activation)   (None, 64)                0         \n",
      "_________________________________________________________________\n",
      "batch_normalization_19 (Batc (None, 64)                256       \n",
      "_________________________________________________________________\n",
      "dropout_11 (Dropout)         (None, 64)                0         \n",
      "_________________________________________________________________\n",
      "dense_5 (Dense)              (None, 7)                 455       \n",
      "_________________________________________________________________\n",
      "activation_21 (Activation)   (None, 7)                 0         \n",
      "_________________________________________________________________\n",
      "dense_6 (Dense)              (None, 7)                 56        \n",
      "_________________________________________________________________\n",
      "activation_7 (Activation)    (None, 7)                 0         \n",
      "_________________________________________________________________\n",
      "dense_7 (Dense)              (None, 7)                 56        \n",
      "_________________________________________________________________\n",
      "activation_8 (Activation)    (None, 7)                 0         \n",
      "_________________________________________________________________\n",
      "dense_8 (Dense)              (None, 7)                 56        \n",
      "=================================================================\n",
      "Total params: 1,328,335\n",
      "Trainable params: 1,326,159\n",
      "Non-trainable params: 2,176\n",
      "_________________________________________________________________\n"
     ]
    }
   ],
   "source": [
    "\n",
    "new_model=keras.Model(inputs=base_input,outputs=final_output)\n",
    "new_model.summary()"
   ]
  },
  {
   "cell_type": "code",
   "execution_count": 178,
   "id": "73aa378c",
   "metadata": {},
   "outputs": [],
   "source": [
    "\n",
    "new_model.compile(loss=\"sparse_categorical_crossentropy\",optimizer=\"adam\",metrics=[\"accuracy\"])"
   ]
  },
  {
   "cell_type": "code",
   "execution_count": 179,
   "id": "7f7db49f",
   "metadata": {},
   "outputs": [],
   "source": [
    "x_t=np.array(x)\n",
    "y_t=np.array(y)"
   ]
  },
  {
   "cell_type": "code",
   "execution_count": 180,
   "id": "e1e1842d",
   "metadata": {},
   "outputs": [
    {
     "name": "stdout",
     "output_type": "stream",
     "text": [
      "Epoch 1/5\n",
      "26/26 [==============================] - 30s 882ms/step - loss: 1.9344 - accuracy: 0.1618\n",
      "Epoch 2/5\n",
      "26/26 [==============================] - 28s 1s/step - loss: 1.8925 - accuracy: 0.2614\n",
      "Epoch 3/5\n",
      "26/26 [==============================] - 27s 1s/step - loss: 1.8662 - accuracy: 0.2568\n",
      "Epoch 4/5\n",
      "26/26 [==============================] - 28s 1s/step - loss: 1.8204 - accuracy: 0.2622\n",
      "Epoch 5/5\n",
      "26/26 [==============================] - 33s 1s/step - loss: 1.7747 - accuracy: 0.2729\n"
     ]
    },
    {
     "data": {
      "text/plain": [
       "<tensorflow.python.keras.callbacks.History at 0x2604295db20>"
      ]
     },
     "execution_count": 180,
     "metadata": {},
     "output_type": "execute_result"
    }
   ],
   "source": [
    "new_model.fit(x_t,y_t,epochs=5)"
   ]
  },
  {
   "cell_type": "code",
   "execution_count": 181,
   "id": "a2a25f8b",
   "metadata": {},
   "outputs": [
    {
     "name": "stdout",
     "output_type": "stream",
     "text": [
      "Model: \"sequential_1\"\n",
      "_________________________________________________________________\n",
      "Layer (type)                 Output Shape              Param #   \n",
      "=================================================================\n",
      "conv2d_8 (Conv2D)            (None, 48, 48, 32)        320       \n",
      "_________________________________________________________________\n",
      "activation_11 (Activation)   (None, 48, 48, 32)        0         \n",
      "_________________________________________________________________\n",
      "batch_normalization_10 (Batc (None, 48, 48, 32)        128       \n",
      "_________________________________________________________________\n",
      "conv2d_9 (Conv2D)            (None, 48, 48, 32)        9248      \n",
      "_________________________________________________________________\n",
      "activation_12 (Activation)   (None, 48, 48, 32)        0         \n",
      "_________________________________________________________________\n",
      "batch_normalization_11 (Batc (None, 48, 48, 32)        128       \n",
      "_________________________________________________________________\n",
      "max_pooling2d_4 (MaxPooling2 (None, 24, 24, 32)        0         \n",
      "_________________________________________________________________\n",
      "dropout_6 (Dropout)          (None, 24, 24, 32)        0         \n",
      "_________________________________________________________________\n",
      "conv2d_10 (Conv2D)           (None, 24, 24, 64)        18496     \n",
      "_________________________________________________________________\n",
      "activation_13 (Activation)   (None, 24, 24, 64)        0         \n",
      "_________________________________________________________________\n",
      "batch_normalization_12 (Batc (None, 24, 24, 64)        256       \n",
      "_________________________________________________________________\n",
      "conv2d_11 (Conv2D)           (None, 24, 24, 64)        36928     \n",
      "_________________________________________________________________\n",
      "activation_14 (Activation)   (None, 24, 24, 64)        0         \n",
      "_________________________________________________________________\n",
      "batch_normalization_13 (Batc (None, 24, 24, 64)        256       \n",
      "_________________________________________________________________\n",
      "max_pooling2d_5 (MaxPooling2 (None, 12, 12, 64)        0         \n",
      "_________________________________________________________________\n",
      "dropout_7 (Dropout)          (None, 12, 12, 64)        0         \n",
      "_________________________________________________________________\n",
      "conv2d_12 (Conv2D)           (None, 12, 12, 128)       73856     \n",
      "_________________________________________________________________\n",
      "activation_15 (Activation)   (None, 12, 12, 128)       0         \n",
      "_________________________________________________________________\n",
      "batch_normalization_14 (Batc (None, 12, 12, 128)       512       \n",
      "_________________________________________________________________\n",
      "conv2d_13 (Conv2D)           (None, 12, 12, 128)       147584    \n",
      "_________________________________________________________________\n",
      "activation_16 (Activation)   (None, 12, 12, 128)       0         \n",
      "_________________________________________________________________\n",
      "batch_normalization_15 (Batc (None, 12, 12, 128)       512       \n",
      "_________________________________________________________________\n",
      "max_pooling2d_6 (MaxPooling2 (None, 6, 6, 128)         0         \n",
      "_________________________________________________________________\n",
      "dropout_8 (Dropout)          (None, 6, 6, 128)         0         \n",
      "_________________________________________________________________\n",
      "conv2d_14 (Conv2D)           (None, 6, 6, 256)         295168    \n",
      "_________________________________________________________________\n",
      "activation_17 (Activation)   (None, 6, 6, 256)         0         \n",
      "_________________________________________________________________\n",
      "batch_normalization_16 (Batc (None, 6, 6, 256)         1024      \n",
      "_________________________________________________________________\n",
      "conv2d_15 (Conv2D)           (None, 6, 6, 256)         590080    \n",
      "_________________________________________________________________\n",
      "activation_18 (Activation)   (None, 6, 6, 256)         0         \n",
      "_________________________________________________________________\n",
      "batch_normalization_17 (Batc (None, 6, 6, 256)         1024      \n",
      "_________________________________________________________________\n",
      "max_pooling2d_7 (MaxPooling2 (None, 3, 3, 256)         0         \n",
      "_________________________________________________________________\n",
      "dropout_9 (Dropout)          (None, 3, 3, 256)         0         \n",
      "_________________________________________________________________\n",
      "flatten_1 (Flatten)          (None, 2304)              0         \n",
      "_________________________________________________________________\n",
      "dense_3 (Dense)              (None, 64)                147520    \n",
      "_________________________________________________________________\n",
      "activation_19 (Activation)   (None, 64)                0         \n",
      "_________________________________________________________________\n",
      "batch_normalization_18 (Batc (None, 64)                256       \n",
      "_________________________________________________________________\n",
      "dropout_10 (Dropout)         (None, 64)                0         \n",
      "_________________________________________________________________\n",
      "dense_4 (Dense)              (None, 64)                4160      \n",
      "_________________________________________________________________\n",
      "activation_20 (Activation)   (None, 64)                0         \n",
      "_________________________________________________________________\n",
      "batch_normalization_19 (Batc (None, 64)                256       \n",
      "_________________________________________________________________\n",
      "dropout_11 (Dropout)         (None, 64)                0         \n",
      "_________________________________________________________________\n",
      "dense_5 (Dense)              (None, 7)                 455       \n",
      "_________________________________________________________________\n",
      "activation_21 (Activation)   (None, 7)                 0         \n",
      "=================================================================\n",
      "Total params: 1,328,167\n",
      "Trainable params: 1,325,991\n",
      "Non-trainable params: 2,176\n",
      "_________________________________________________________________\n"
     ]
    }
   ],
   "source": [
    "top_model23=load_model('data_utiliser/model-top.h5')\n",
    "top_model23.summary()"
   ]
  },
  {
   "cell_type": "code",
   "execution_count": 188,
   "id": "b2864079",
   "metadata": {},
   "outputs": [],
   "source": [
    "import tensorflow\n",
    "y_train = tensorflow.keras.utils.to_categorical(y_t, 7)\n"
   ]
  },
  {
   "cell_type": "code",
   "execution_count": 200,
   "id": "c2378419",
   "metadata": {},
   "outputs": [
    {
     "name": "stdout",
     "output_type": "stream",
     "text": [
      "Epoch 1/20\n",
      "26/26 [==============================] - 45s 2s/step - loss: 0.9105 - accuracy: 0.6775\n",
      "Epoch 2/20\n",
      "26/26 [==============================] - 41s 2s/step - loss: 0.8308 - accuracy: 0.6895\n",
      "Epoch 3/20\n",
      "26/26 [==============================] - 40s 2s/step - loss: 0.7773 - accuracy: 0.7148\n",
      "Epoch 4/20\n",
      "26/26 [==============================] - 36s 1s/step - loss: 0.7489 - accuracy: 0.7304\n",
      "Epoch 5/20\n",
      "26/26 [==============================] - 36s 1s/step - loss: 0.6336 - accuracy: 0.7762\n",
      "Epoch 6/20\n",
      "26/26 [==============================] - 37s 1s/step - loss: 0.5597 - accuracy: 0.8207\n",
      "Epoch 7/20\n",
      "26/26 [==============================] - 36s 1s/step - loss: 0.5400 - accuracy: 0.8171\n",
      "Epoch 8/20\n",
      "26/26 [==============================] - 36s 1s/step - loss: 0.4943 - accuracy: 0.8375\n",
      "Epoch 9/20\n",
      "26/26 [==============================] - 36s 1s/step - loss: 0.4811 - accuracy: 0.8400\n",
      "Epoch 10/20\n",
      "26/26 [==============================] - 32s 1s/step - loss: 0.4380 - accuracy: 0.8424\n",
      "Epoch 11/20\n",
      "26/26 [==============================] - 36s 1s/step - loss: 0.4293 - accuracy: 0.8448\n",
      "Epoch 12/20\n",
      "26/26 [==============================] - 37s 1s/step - loss: 0.3947 - accuracy: 0.8724\n",
      "Epoch 13/20\n",
      "26/26 [==============================] - 36s 1s/step - loss: 0.3711 - accuracy: 0.8664\n",
      "Epoch 14/20\n",
      "26/26 [==============================] - 36s 1s/step - loss: 0.3242 - accuracy: 0.9001\n",
      "Epoch 15/20\n",
      "26/26 [==============================] - 36s 1s/step - loss: 0.3301 - accuracy: 0.8989\n",
      "Epoch 16/20\n",
      "26/26 [==============================] - 36s 1s/step - loss: 0.2549 - accuracy: 0.9302\n",
      "Epoch 17/20\n",
      "26/26 [==============================] - 36s 1s/step - loss: 0.2340 - accuracy: 0.9326\n",
      "Epoch 18/20\n",
      "26/26 [==============================] - 36s 1s/step - loss: 0.2445 - accuracy: 0.9206\n",
      "Epoch 19/20\n",
      "26/26 [==============================] - 37s 1s/step - loss: 0.2613 - accuracy: 0.9194\n",
      "Epoch 20/20\n",
      "26/26 [==============================] - 36s 1s/step - loss: 0.2556 - accuracy: 0.9170\n"
     ]
    },
    {
     "data": {
      "text/plain": [
       "<tensorflow.python.keras.callbacks.History at 0x2604320bee0>"
      ]
     },
     "execution_count": 200,
     "metadata": {},
     "output_type": "execute_result"
    }
   ],
   "source": [
    "top_model23.fit(x_t,y_train,epochs=20)"
   ]
  },
  {
   "cell_type": "code",
   "execution_count": 201,
   "id": "af9f6ada",
   "metadata": {},
   "outputs": [],
   "source": [
    "top_model23.save(\"yarb2i.h5\")"
   ]
  },
  {
   "cell_type": "code",
   "execution_count": 202,
   "id": "9c37b30b",
   "metadata": {},
   "outputs": [],
   "source": [
    "top_model203=load_model('yarb2i.h5')\n"
   ]
  },
  {
   "cell_type": "code",
   "execution_count": 199,
   "id": "ab590b5d",
   "metadata": {},
   "outputs": [
    {
     "name": "stdout",
     "output_type": "stream",
     "text": [
      "Model: \"sequential_1\"\n",
      "_________________________________________________________________\n",
      "Layer (type)                 Output Shape              Param #   \n",
      "=================================================================\n",
      "conv2d_8 (Conv2D)            (None, 48, 48, 32)        320       \n",
      "_________________________________________________________________\n",
      "activation_11 (Activation)   (None, 48, 48, 32)        0         \n",
      "_________________________________________________________________\n",
      "batch_normalization_10 (Batc (None, 48, 48, 32)        128       \n",
      "_________________________________________________________________\n",
      "conv2d_9 (Conv2D)            (None, 48, 48, 32)        9248      \n",
      "_________________________________________________________________\n",
      "activation_12 (Activation)   (None, 48, 48, 32)        0         \n",
      "_________________________________________________________________\n",
      "batch_normalization_11 (Batc (None, 48, 48, 32)        128       \n",
      "_________________________________________________________________\n",
      "max_pooling2d_4 (MaxPooling2 (None, 24, 24, 32)        0         \n",
      "_________________________________________________________________\n",
      "dropout_6 (Dropout)          (None, 24, 24, 32)        0         \n",
      "_________________________________________________________________\n",
      "conv2d_10 (Conv2D)           (None, 24, 24, 64)        18496     \n",
      "_________________________________________________________________\n",
      "activation_13 (Activation)   (None, 24, 24, 64)        0         \n",
      "_________________________________________________________________\n",
      "batch_normalization_12 (Batc (None, 24, 24, 64)        256       \n",
      "_________________________________________________________________\n",
      "conv2d_11 (Conv2D)           (None, 24, 24, 64)        36928     \n",
      "_________________________________________________________________\n",
      "activation_14 (Activation)   (None, 24, 24, 64)        0         \n",
      "_________________________________________________________________\n",
      "batch_normalization_13 (Batc (None, 24, 24, 64)        256       \n",
      "_________________________________________________________________\n",
      "max_pooling2d_5 (MaxPooling2 (None, 12, 12, 64)        0         \n",
      "_________________________________________________________________\n",
      "dropout_7 (Dropout)          (None, 12, 12, 64)        0         \n",
      "_________________________________________________________________\n",
      "conv2d_12 (Conv2D)           (None, 12, 12, 128)       73856     \n",
      "_________________________________________________________________\n",
      "activation_15 (Activation)   (None, 12, 12, 128)       0         \n",
      "_________________________________________________________________\n",
      "batch_normalization_14 (Batc (None, 12, 12, 128)       512       \n",
      "_________________________________________________________________\n",
      "conv2d_13 (Conv2D)           (None, 12, 12, 128)       147584    \n",
      "_________________________________________________________________\n",
      "activation_16 (Activation)   (None, 12, 12, 128)       0         \n",
      "_________________________________________________________________\n",
      "batch_normalization_15 (Batc (None, 12, 12, 128)       512       \n",
      "_________________________________________________________________\n",
      "max_pooling2d_6 (MaxPooling2 (None, 6, 6, 128)         0         \n",
      "_________________________________________________________________\n",
      "dropout_8 (Dropout)          (None, 6, 6, 128)         0         \n",
      "_________________________________________________________________\n",
      "conv2d_14 (Conv2D)           (None, 6, 6, 256)         295168    \n",
      "_________________________________________________________________\n",
      "activation_17 (Activation)   (None, 6, 6, 256)         0         \n",
      "_________________________________________________________________\n",
      "batch_normalization_16 (Batc (None, 6, 6, 256)         1024      \n",
      "_________________________________________________________________\n",
      "conv2d_15 (Conv2D)           (None, 6, 6, 256)         590080    \n",
      "_________________________________________________________________\n",
      "activation_18 (Activation)   (None, 6, 6, 256)         0         \n",
      "_________________________________________________________________\n",
      "batch_normalization_17 (Batc (None, 6, 6, 256)         1024      \n",
      "_________________________________________________________________\n",
      "max_pooling2d_7 (MaxPooling2 (None, 3, 3, 256)         0         \n",
      "_________________________________________________________________\n",
      "dropout_9 (Dropout)          (None, 3, 3, 256)         0         \n",
      "_________________________________________________________________\n",
      "flatten_1 (Flatten)          (None, 2304)              0         \n",
      "_________________________________________________________________\n",
      "dense_3 (Dense)              (None, 64)                147520    \n",
      "_________________________________________________________________\n",
      "activation_19 (Activation)   (None, 64)                0         \n",
      "_________________________________________________________________\n",
      "batch_normalization_18 (Batc (None, 64)                256       \n",
      "_________________________________________________________________\n",
      "dropout_10 (Dropout)         (None, 64)                0         \n",
      "_________________________________________________________________\n",
      "dense_4 (Dense)              (None, 64)                4160      \n",
      "_________________________________________________________________\n",
      "activation_20 (Activation)   (None, 64)                0         \n",
      "_________________________________________________________________\n",
      "batch_normalization_19 (Batc (None, 64)                256       \n",
      "_________________________________________________________________\n",
      "dropout_11 (Dropout)         (None, 64)                0         \n",
      "_________________________________________________________________\n",
      "dense_5 (Dense)              (None, 7)                 455       \n",
      "_________________________________________________________________\n",
      "activation_21 (Activation)   (None, 7)                 0         \n",
      "=================================================================\n",
      "Total params: 1,328,167\n",
      "Trainable params: 1,325,991\n",
      "Non-trainable params: 2,176\n",
      "_________________________________________________________________\n"
     ]
    }
   ],
   "source": [
    "top_model203.summary()"
   ]
  },
  {
   "cell_type": "markdown",
   "id": "f8d02794",
   "metadata": {},
   "source": [
    "# training model sur my face "
   ]
  },
  {
   "cell_type": "code",
   "execution_count": 282,
   "id": "2511bbd1",
   "metadata": {},
   "outputs": [],
   "source": [
    "img_array=cv2.imread(\"data_trainig_small0-1/0/1.jpg\")\n",
    "Dtatdirectory=\"my_face_base_grand\"\n",
    "Classes=[\"0\",\"1\",\"2\",\"3\",\"4\",\"5\",\"6\"]"
   ]
  },
  {
   "cell_type": "code",
   "execution_count": 283,
   "id": "4828f977",
   "metadata": {},
   "outputs": [
    {
     "data": {
      "image/png": "[encoded data removed]",
      "text/plain": [
       "<Figure size 432x288 with 1 Axes>"
      ]
     },
     "metadata": {
      "needs_background": "light"
     },
     "output_type": "display_data"
    }
   ],
   "source": [
    "for category in Classes:\n",
    "    path=os.path.join(Dtatdirectory,category)\n",
    "    path\n",
    "    for img in os.listdir(path):\n",
    "        img_array=cv2.imread(os.path.join(path,img))\n",
    "        plt.imshow(cv2.cvtColor(img_array,cv2.COLOR_BGR2RGB))\n",
    "        plt.show()\n",
    "        break\n",
    "    break"
   ]
  },
  {
   "cell_type": "code",
   "execution_count": 288,
   "id": "a720d68a",
   "metadata": {},
   "outputs": [
    {
     "data": {
      "image/png": "[encoded data removed]",
      "text/plain": [
       "<Figure size 432x288 with 1 Axes>"
      ]
     },
     "metadata": {
      "needs_background": "light"
     },
     "output_type": "display_data"
    }
   ],
   "source": [
    "\n",
    "img_size=48\n",
    "new_array=cv2.resize(img_array,(img_size,img_size))\n",
    "plt.imshow(cv2.cvtColor(new_array, cv2.COLOR_BGR2RGB))\n",
    "plt.show()"
   ]
  },
  {
   "cell_type": "code",
   "execution_count": 289,
   "id": "a5b920d9",
   "metadata": {},
   "outputs": [
    {
     "data": {
      "text/plain": [
       "(48, 48, 3)"
      ]
     },
     "execution_count": 289,
     "metadata": {},
     "output_type": "execute_result"
    }
   ],
   "source": [
    "new_array.shape\n"
   ]
  },
  {
   "cell_type": "code",
   "execution_count": 9,
   "id": "5f390751",
   "metadata": {},
   "outputs": [],
   "source": [
    "training_Data=[]\n",
    "def creat_training_data():\n",
    "    for category in Classes:\n",
    "        path = os.path.join(Dtatdirectory, category)\n",
    "        clas_num=Classes.index(category)\n",
    "        for img in os.listdir(path):\n",
    "            try:\n",
    "                img_array = cv2.imread(os.path.join(path, img))\n",
    "                new_array = cv2.resize(img_array, (img_size, img_size))\n",
    "                new_array= cv2.cvtColor(new_array, cv2.COLOR_BGR2GRAY)\n",
    "                training_Data.append([new_array,clas_num])\n",
    "            except Exception as e:\n",
    "                pass"
   ]
  },
  {
   "cell_type": "code",
   "execution_count": 291,
   "id": "84c2fb6e",
   "metadata": {},
   "outputs": [],
   "source": [
    "creat_training_data()"
   ]
  },
  {
   "cell_type": "code",
   "execution_count": 292,
   "id": "0bdae6d6",
   "metadata": {},
   "outputs": [
    {
     "name": "stdout",
     "output_type": "stream",
     "text": [
      "371\n"
     ]
    }
   ],
   "source": [
    "\n",
    "print(len(training_Data))"
   ]
  },
  {
   "cell_type": "code",
   "execution_count": 293,
   "id": "00ccbd3e",
   "metadata": {},
   "outputs": [
    {
     "data": {
      "text/plain": [
       "(371, 48, 48, 1)"
      ]
     },
     "execution_count": 293,
     "metadata": {},
     "output_type": "execute_result"
    }
   ],
   "source": [
    "\n",
    "import random\n",
    "random.shuffle(training_Data)\n",
    "X=[]\n",
    "y=[]\n",
    "for features,label in training_Data:\n",
    "    X.append(features)\n",
    "    y.append(label)\n",
    "x=np.array(X).reshape(-1,img_size,img_size,1)\n",
    "x.shape"
   ]
  },
  {
   "cell_type": "code",
   "execution_count": 294,
   "id": "48d17df6",
   "metadata": {},
   "outputs": [],
   "source": [
    "x=x/255.0"
   ]
  },
  {
   "cell_type": "code",
   "execution_count": 246,
   "id": "4b4c4e05",
   "metadata": {},
   "outputs": [],
   "source": [
    "top_model =load_model('data_utiliser/model-top.h5')\n"
   ]
  },
  {
   "cell_type": "code",
   "execution_count": 295,
   "id": "2249720b",
   "metadata": {},
   "outputs": [],
   "source": [
    "x_t=np.array(x)\n",
    "y_t=np.array(y)"
   ]
  },
  {
   "cell_type": "code",
   "execution_count": 249,
   "id": "3c06a084",
   "metadata": {},
   "outputs": [
    {
     "name": "stdout",
     "output_type": "stream",
     "text": [
      "Epoch 1/5\n",
      "12/12 [==============================] - 17s 1s/step - loss: 1.2441 - accuracy: 0.3450\n",
      "Epoch 2/5\n",
      "12/12 [==============================] - 17s 1s/step - loss: 1.2298 - accuracy: 0.4097\n",
      "Epoch 3/5\n",
      "12/12 [==============================] - 16s 1s/step - loss: 1.1907 - accuracy: 0.5445\n",
      "Epoch 4/5\n",
      "12/12 [==============================] - 17s 1s/step - loss: 1.1872 - accuracy: 0.5418\n",
      "Epoch 5/5\n",
      "12/12 [==============================] - 17s 1s/step - loss: 1.1653 - accuracy: 0.5472\n"
     ]
    },
    {
     "data": {
      "text/plain": [
       "<tensorflow.python.keras.callbacks.History at 0x26052f449d0>"
      ]
     },
     "execution_count": 249,
     "metadata": {},
     "output_type": "execute_result"
    }
   ],
   "source": [
    "new_model.fit(x_t,y_t,epochs=5)"
   ]
  },
  {
   "cell_type": "code",
   "execution_count": 250,
   "id": "97cf00b6",
   "metadata": {},
   "outputs": [],
   "source": [
    "new_model.save(\"myface_datagrand.h5\")"
   ]
  },
  {
   "cell_type": "markdown",
   "id": "64647736",
   "metadata": {},
   "source": [
    "# la doubke transfer "
   ]
  },
  {
   "cell_type": "code",
   "execution_count": 251,
   "id": "d7639cfa",
   "metadata": {},
   "outputs": [],
   "source": [
    "img_array=cv2.imread(\"data_trainig_small0-1/0/1.jpg\")\n",
    "Dtatdirectory=\"C:/Users/Anouar Gmili/Desktop/images_fer2013/Training2_01\"\n",
    "Classes=[\"0\",\"1\",\"2\",\"3\",\"4\",\"5\",\"6\"]"
   ]
  },
  {
   "cell_type": "code",
   "execution_count": 252,
   "id": "25620da7",
   "metadata": {},
   "outputs": [
    {
     "data": {
      "image/png": "[encoded data removed]",
      "text/plain": [
       "<Figure size 432x288 with 1 Axes>"
      ]
     },
     "metadata": {
      "needs_background": "light"
     },
     "output_type": "display_data"
    }
   ],
   "source": [
    "for category in Classes:\n",
    "    path=os.path.join(Dtatdirectory,category)\n",
    "    path\n",
    "    for img in os.listdir(path):\n",
    "        img_array=cv2.imread(os.path.join(path,img))\n",
    "        plt.imshow(cv2.cvtColor(img_array,cv2.COLOR_BGR2RGB))\n",
    "        plt.show()\n",
    "        break\n",
    "    break"
   ]
  },
  {
   "cell_type": "code",
   "execution_count": 253,
   "id": "7f831a3a",
   "metadata": {},
   "outputs": [],
   "source": [
    "creat_training_data()"
   ]
  },
  {
   "cell_type": "code",
   "execution_count": 254,
   "id": "c06b0559",
   "metadata": {},
   "outputs": [
    {
     "name": "stdout",
     "output_type": "stream",
     "text": [
      "1211\n"
     ]
    }
   ],
   "source": [
    "\n",
    "print(len(training_Data))"
   ]
  },
  {
   "cell_type": "code",
   "execution_count": 258,
   "id": "e18b5f26",
   "metadata": {},
   "outputs": [],
   "source": [
    "new_model_partie1 =load_model('data_utiliser/model-top.h5')\n"
   ]
  },
  {
   "cell_type": "code",
   "execution_count": 259,
   "id": "e0fca773",
   "metadata": {},
   "outputs": [
    {
     "data": {
      "text/plain": [
       "(1211, 48, 48, 1)"
      ]
     },
     "execution_count": 259,
     "metadata": {},
     "output_type": "execute_result"
    }
   ],
   "source": [
    "\n",
    "import random\n",
    "random.shuffle(training_Data)\n",
    "X=[]\n",
    "y=[]\n",
    "for features,label in training_Data:\n",
    "    X.append(features)\n",
    "    y.append(label)\n",
    "x=np.array(X).reshape(-1,img_size,img_size,1)\n",
    "x.shape"
   ]
  },
  {
   "cell_type": "code",
   "execution_count": 260,
   "id": "0da65345",
   "metadata": {},
   "outputs": [],
   "source": [
    "x=x/255.0"
   ]
  },
  {
   "cell_type": "code",
   "execution_count": 262,
   "id": "60d50770",
   "metadata": {},
   "outputs": [],
   "source": [
    "x_t=np.array(x)\n",
    "y_t=np.array(y)"
   ]
  },
  {
   "cell_type": "code",
   "execution_count": 264,
   "id": "72cd2290",
   "metadata": {},
   "outputs": [],
   "source": [
    "import tensorflow\n",
    "y_train = tensorflow.keras.utils.to_categorical(y_t, 7)\n"
   ]
  },
  {
   "cell_type": "code",
   "execution_count": 266,
   "id": "d36b8585",
   "metadata": {},
   "outputs": [
    {
     "name": "stdout",
     "output_type": "stream",
     "text": [
      "Epoch 1/20\n",
      "38/38 [==============================] - 68s 2s/step - loss: 1.3287 - accuracy: 0.5062\n",
      "Epoch 2/20\n",
      "38/38 [==============================] - 65s 2s/step - loss: 1.1291 - accuracy: 0.5879\n",
      "Epoch 3/20\n",
      "38/38 [==============================] - 60s 2s/step - loss: 1.0415 - accuracy: 0.6069\n",
      "Epoch 4/20\n",
      "38/38 [==============================] - 58s 2s/step - loss: 0.9594 - accuracy: 0.6408\n",
      "Epoch 5/20\n",
      "38/38 [==============================] - 56s 1s/step - loss: 0.8106 - accuracy: 0.7143\n",
      "Epoch 6/20\n",
      "38/38 [==============================] - 55s 1s/step - loss: 0.7382 - accuracy: 0.7291\n",
      "Epoch 7/20\n",
      "38/38 [==============================] - 56s 1s/step - loss: 0.6665 - accuracy: 0.7622\n",
      "Epoch 8/20\n",
      "38/38 [==============================] - 56s 1s/step - loss: 0.5839 - accuracy: 0.7952\n",
      "Epoch 9/20\n",
      "38/38 [==============================] - 55s 1s/step - loss: 0.5177 - accuracy: 0.8200\n",
      "Epoch 10/20\n",
      "38/38 [==============================] - 49s 1s/step - loss: 0.4756 - accuracy: 0.8357\n",
      "Epoch 11/20\n",
      "38/38 [==============================] - 55s 1s/step - loss: 0.4429 - accuracy: 0.8571\n",
      "Epoch 12/20\n",
      "38/38 [==============================] - 53s 1s/step - loss: 0.3681 - accuracy: 0.8910\n",
      "Epoch 13/20\n",
      "38/38 [==============================] - 53s 1s/step - loss: 0.3665 - accuracy: 0.8794\n",
      "Epoch 14/20\n",
      "38/38 [==============================] - 54s 1s/step - loss: 0.2992 - accuracy: 0.9026\n",
      "Epoch 15/20\n",
      "38/38 [==============================] - 55s 1s/step - loss: 0.2715 - accuracy: 0.9273\n",
      "Epoch 16/20\n",
      "38/38 [==============================] - 55s 1s/step - loss: 0.2449 - accuracy: 0.9191\n",
      "Epoch 17/20\n",
      "38/38 [==============================] - 55s 1s/step - loss: 0.2505 - accuracy: 0.9257\n",
      "Epoch 18/20\n",
      "38/38 [==============================] - 57s 1s/step - loss: 0.2501 - accuracy: 0.9199\n",
      "Epoch 19/20\n",
      "38/38 [==============================] - 57s 1s/step - loss: 0.2152 - accuracy: 0.9381\n",
      "Epoch 20/20\n",
      "38/38 [==============================] - 55s 1s/step - loss: 0.1854 - accuracy: 0.9554\n"
     ]
    },
    {
     "data": {
      "text/plain": [
       "<tensorflow.python.keras.callbacks.History at 0x2605169da60>"
      ]
     },
     "execution_count": 266,
     "metadata": {},
     "output_type": "execute_result"
    }
   ],
   "source": [
    "new_model_partie1.fit(x_t,y_train,epochs=20)"
   ]
  },
  {
   "cell_type": "code",
   "execution_count": 267,
   "id": "75faeffd",
   "metadata": {},
   "outputs": [],
   "source": [
    "new_model_partie1.save(\"model_partie1.h5\")"
   ]
  },
  {
   "cell_type": "markdown",
   "id": "7f5543b7",
   "metadata": {},
   "source": [
    "# la aprtie deux"
   ]
  },
  {
   "cell_type": "code",
   "execution_count": 270,
   "id": "12adf4a0",
   "metadata": {},
   "outputs": [],
   "source": [
    "img_array=cv2.imread(\"data_trainig_small0-1/0/1.jpg\")\n",
    "Dtatdirectory=\"C:/Users/Anouar Gmili/Desktop/images_fer2013/Training2-01v2\"\n",
    "Classes=[\"0\",\"1\",\"2\",\"3\",\"4\",\"5\",\"6\"]"
   ]
  },
  {
   "cell_type": "code",
   "execution_count": 271,
   "id": "605bf588",
   "metadata": {},
   "outputs": [],
   "source": [
    "creat_training_data()"
   ]
  },
  {
   "cell_type": "code",
   "execution_count": 272,
   "id": "c651312b",
   "metadata": {},
   "outputs": [
    {
     "name": "stdout",
     "output_type": "stream",
     "text": [
      "2038\n"
     ]
    }
   ],
   "source": [
    "\n",
    "print(len(training_Data))"
   ]
  },
  {
   "cell_type": "code",
   "execution_count": 273,
   "id": "d4b76a7e",
   "metadata": {},
   "outputs": [
    {
     "data": {
      "text/plain": [
       "(2038, 48, 48, 1)"
      ]
     },
     "execution_count": 273,
     "metadata": {},
     "output_type": "execute_result"
    }
   ],
   "source": [
    "\n",
    "import random\n",
    "random.shuffle(training_Data)\n",
    "X=[]\n",
    "y=[]\n",
    "for features,label in training_Data:\n",
    "    X.append(features)\n",
    "    y.append(label)\n",
    "x=np.array(X).reshape(-1,img_size,img_size,1)\n",
    "x.shape"
   ]
  },
  {
   "cell_type": "code",
   "execution_count": 274,
   "id": "baa00f44",
   "metadata": {},
   "outputs": [],
   "source": [
    "#x=x/255.0"
   ]
  },
  {
   "cell_type": "code",
   "execution_count": 275,
   "id": "b4d36f4e",
   "metadata": {},
   "outputs": [],
   "source": [
    "x_t=np.array(x)\n",
    "y_t=np.array(y)"
   ]
  },
  {
   "cell_type": "code",
   "execution_count": 276,
   "id": "09787ab8",
   "metadata": {},
   "outputs": [],
   "source": [
    "import tensorflow\n",
    "y_train = tensorflow.keras.utils.to_categorical(y_t, 7)\n"
   ]
  },
  {
   "cell_type": "code",
   "execution_count": null,
   "id": "2e099c43",
   "metadata": {},
   "outputs": [],
   "source": []
  },
  {
   "cell_type": "code",
   "execution_count": 279,
   "id": "2a5652b1",
   "metadata": {},
   "outputs": [],
   "source": [
    "new_model_partie2=load_model(\"model_partie1.h5\")"
   ]
  },
  {
   "cell_type": "code",
   "execution_count": 280,
   "id": "c8850103",
   "metadata": {},
   "outputs": [
    {
     "name": "stdout",
     "output_type": "stream",
     "text": [
      "Epoch 1/20\n",
      "64/64 [==============================] - 95s 1s/step - loss: 1.0217 - accuracy: 0.7159\n",
      "Epoch 2/20\n",
      "64/64 [==============================] - 90s 1s/step - loss: 0.6756 - accuracy: 0.7728\n",
      "Epoch 3/20\n",
      "64/64 [==============================] - 96s 2s/step - loss: 0.5367 - accuracy: 0.8263\n",
      "Epoch 4/20\n",
      "64/64 [==============================] - 93s 1s/step - loss: 0.4078 - accuracy: 0.8636\n",
      "Epoch 5/20\n",
      "64/64 [==============================] - 93s 1s/step - loss: 0.3742 - accuracy: 0.8798\n",
      "Epoch 6/20\n",
      "64/64 [==============================] - 96s 1s/step - loss: 0.3060 - accuracy: 0.9014\n",
      "Epoch 7/20\n",
      "64/64 [==============================] - 99s 2s/step - loss: 0.3084 - accuracy: 0.8955\n",
      "Epoch 8/20\n",
      "64/64 [==============================] - 101s 2s/step - loss: 0.2258 - accuracy: 0.9328\n",
      "Epoch 9/20\n",
      "64/64 [==============================] - 95s 1s/step - loss: 0.2092 - accuracy: 0.9416\n",
      "Epoch 10/20\n",
      "64/64 [==============================] - 108s 2s/step - loss: 0.1950 - accuracy: 0.9392\n",
      "Epoch 11/20\n",
      "64/64 [==============================] - 94s 1s/step - loss: 0.2191 - accuracy: 0.9284\n",
      "Epoch 12/20\n",
      "64/64 [==============================] - 96s 2s/step - loss: 0.2007 - accuracy: 0.9372\n",
      "Epoch 13/20\n",
      "64/64 [==============================] - 98s 2s/step - loss: 0.1822 - accuracy: 0.9485\n",
      "Epoch 14/20\n",
      "64/64 [==============================] - 98s 2s/step - loss: 0.1333 - accuracy: 0.9607\n",
      "Epoch 15/20\n",
      "64/64 [==============================] - 104s 2s/step - loss: 0.1600 - accuracy: 0.9475\n",
      "Epoch 16/20\n",
      "64/64 [==============================] - 104s 2s/step - loss: 0.1492 - accuracy: 0.9563\n",
      "Epoch 17/20\n",
      "64/64 [==============================] - 98s 2s/step - loss: 0.1330 - accuracy: 0.9627\n",
      "Epoch 18/20\n",
      "64/64 [==============================] - 107s 2s/step - loss: 0.1436 - accuracy: 0.9509\n",
      "Epoch 19/20\n",
      "64/64 [==============================] - 115s 2s/step - loss: 0.1371 - accuracy: 0.9544\n",
      "Epoch 20/20\n",
      "64/64 [==============================] - 101s 2s/step - loss: 0.0993 - accuracy: 0.9681\n"
     ]
    },
    {
     "data": {
      "text/plain": [
       "<tensorflow.python.keras.callbacks.History at 0x26041bccb50>"
      ]
     },
     "execution_count": 280,
     "metadata": {},
     "output_type": "execute_result"
    }
   ],
   "source": [
    "new_model_partie2.fit(x_t,y_train,epochs=20)"
   ]
  },
  {
   "cell_type": "code",
   "execution_count": 281,
   "id": "22c84193",
   "metadata": {},
   "outputs": [],
   "source": [
    "new_model_partie2.save(\"model_partie2_final.h5\")"
   ]
  },
  {
   "cell_type": "markdown",
   "id": "5ef8a8a4",
   "metadata": {},
   "source": [
    "# la partie 3 avec ma propre data\n"
   ]
  },
  {
   "cell_type": "code",
   "execution_count": 316,
   "id": "df5d1b75",
   "metadata": {},
   "outputs": [],
   "source": [
    "img_array=cv2.imread(\"data_trainig_small0-1/0/1.jpg\")\n",
    "Dtatdirectory=\"my_face_base_grand\"\n",
    "Classes=[\"0\",\"1\",\"2\",\"3\",\"4\",\"5\",\"6\"]\n",
    "training_Data=[]"
   ]
  },
  {
   "cell_type": "code",
   "execution_count": 317,
   "id": "9176b33c",
   "metadata": {},
   "outputs": [],
   "source": [
    "creat_training_data()"
   ]
  },
  {
   "cell_type": "code",
   "execution_count": 324,
   "id": "11640917",
   "metadata": {},
   "outputs": [
    {
     "data": {
      "text/plain": [
       "(371, 48, 48, 1)"
      ]
     },
     "execution_count": 324,
     "metadata": {},
     "output_type": "execute_result"
    }
   ],
   "source": [
    "\n",
    "import random\n",
    "random.shuffle(training_Data)\n",
    "X=[]\n",
    "y=None\n",
    "y=[]\n",
    "for features,label in training_Data:\n",
    "    X.append(features)\n",
    "    y.append(label)\n",
    "x=np.array(X).reshape(-1,img_size,img_size,1)\n",
    "x.shape"
   ]
  },
  {
   "cell_type": "code",
   "execution_count": 325,
   "id": "200bbafc",
   "metadata": {},
   "outputs": [],
   "source": [
    "#x=x/255.0\n"
   ]
  },
  {
   "cell_type": "code",
   "execution_count": 329,
   "id": "74aa94ca",
   "metadata": {},
   "outputs": [
    {
     "data": {
      "text/plain": [
       "371"
      ]
     },
     "execution_count": 329,
     "metadata": {},
     "output_type": "execute_result"
    }
   ],
   "source": [
    "len(y)"
   ]
  },
  {
   "cell_type": "code",
   "execution_count": 331,
   "id": "4bd54217",
   "metadata": {},
   "outputs": [],
   "source": [
    "x_t=np.array(x)\n",
    "y_t=np.array(y)"
   ]
  },
  {
   "cell_type": "code",
   "execution_count": 332,
   "id": "02f60e31",
   "metadata": {},
   "outputs": [],
   "source": [
    "import tensorflow\n",
    "y_train = tensorflow.keras.utils.to_categorical(y_t, 7)\n"
   ]
  },
  {
   "cell_type": "code",
   "execution_count": 333,
   "id": "16500cd3",
   "metadata": {},
   "outputs": [],
   "source": [
    "new_model_partie3_final2=load_model(\"model_partie2_final.h5\")"
   ]
  },
  {
   "cell_type": "code",
   "execution_count": 334,
   "id": "c3ff98b5",
   "metadata": {},
   "outputs": [
    {
     "name": "stdout",
     "output_type": "stream",
     "text": [
      "Epoch 1/20\n",
      "12/12 [==============================] - 32s 1s/step - loss: 0.0797 - accuracy: 0.9784\n",
      "Epoch 2/20\n",
      "12/12 [==============================] - 17s 1s/step - loss: 0.0440 - accuracy: 0.9811\n",
      "Epoch 3/20\n",
      "12/12 [==============================] - 17s 1s/step - loss: 0.0304 - accuracy: 0.9946\n",
      "Epoch 4/20\n",
      "12/12 [==============================] - 17s 1s/step - loss: 0.0184 - accuracy: 1.0000\n",
      "Epoch 5/20\n",
      "12/12 [==============================] - 16s 1s/step - loss: 0.0189 - accuracy: 0.9973\n",
      "Epoch 6/20\n",
      "12/12 [==============================] - 17s 1s/step - loss: 0.0162 - accuracy: 1.0000\n",
      "Epoch 7/20\n",
      "12/12 [==============================] - 18s 2s/step - loss: 0.0157 - accuracy: 1.0000\n",
      "Epoch 8/20\n",
      "12/12 [==============================] - 18s 2s/step - loss: 0.0111 - accuracy: 1.0000\n",
      "Epoch 9/20\n",
      "12/12 [==============================] - 18s 1s/step - loss: 0.0250 - accuracy: 0.9946\n",
      "Epoch 10/20\n",
      "12/12 [==============================] - 17s 1s/step - loss: 0.0129 - accuracy: 1.0000\n",
      "Epoch 11/20\n",
      "12/12 [==============================] - 18s 2s/step - loss: 0.0180 - accuracy: 1.0000\n",
      "Epoch 12/20\n",
      "12/12 [==============================] - 17s 1s/step - loss: 0.0114 - accuracy: 1.0000\n",
      "Epoch 13/20\n",
      "12/12 [==============================] - 17s 1s/step - loss: 0.0103 - accuracy: 1.0000\n",
      "Epoch 14/20\n",
      "12/12 [==============================] - 18s 1s/step - loss: 0.0156 - accuracy: 1.0000\n",
      "Epoch 15/20\n",
      "12/12 [==============================] - 17s 1s/step - loss: 0.0219 - accuracy: 0.9973\n",
      "Epoch 16/20\n",
      "12/12 [==============================] - 19s 2s/step - loss: 0.0097 - accuracy: 1.0000\n",
      "Epoch 17/20\n",
      "12/12 [==============================] - 18s 2s/step - loss: 0.0100 - accuracy: 1.0000\n",
      "Epoch 18/20\n",
      "12/12 [==============================] - 21s 2s/step - loss: 0.0114 - accuracy: 1.0000\n",
      "Epoch 19/20\n",
      "12/12 [==============================] - 19s 2s/step - loss: 0.0089 - accuracy: 1.0000\n",
      "Epoch 20/20\n",
      "12/12 [==============================] - 18s 1s/step - loss: 0.0103 - accuracy: 1.0000\n"
     ]
    },
    {
     "data": {
      "text/plain": [
       "<tensorflow.python.keras.callbacks.History at 0x2604957f7f0>"
      ]
     },
     "execution_count": 334,
     "metadata": {},
     "output_type": "execute_result"
    }
   ],
   "source": [
    "#new_model_partie3_final2.fit(x_t,y_train,epochs=20)"
   ]
  },
  {
   "cell_type": "code",
   "execution_count": 336,
   "id": "0e92a322",
   "metadata": {},
   "outputs": [],
   "source": [
    "new_model_partie3_final2.save(\"model_partie3_final2.h5\")"
   ]
  },
  {
   "cell_type": "markdown",
   "id": "2e23350e",
   "metadata": {},
   "source": [
    "# AVEC DATA MAROC sur top model direct"
   ]
  },
  {
   "cell_type": "code",
   "execution_count": 13,
   "id": "e2ecabfc",
   "metadata": {},
   "outputs": [],
   "source": [
    "img_array=cv2.imread(\"data_trainig_small0-1/0/1.jpg\")\n",
    "Dtatdirectory=\"C:/Users/Anouar Gmili/Desktop/data_maroc0_1\"\n",
    "Classes=[\"0\",\"1\",\"2\",\"3\",\"4\",\"5\",\"6\"]\n",
    "training_Data=[]"
   ]
  },
  {
   "cell_type": "code",
   "execution_count": 14,
   "id": "2c60da43",
   "metadata": {},
   "outputs": [
    {
     "data": {
      "image/png": "[encoded data removed]",
      "text/plain": [
       "<Figure size 432x288 with 1 Axes>"
      ]
     },
     "metadata": {
      "needs_background": "light"
     },
     "output_type": "display_data"
    }
   ],
   "source": [
    "for category in Classes:\n",
    "    path=os.path.join(Dtatdirectory,category)\n",
    "    path\n",
    "    for img in os.listdir(path):\n",
    "        img_array=cv2.imread(os.path.join(path,img))\n",
    "        plt.imshow(cv2.cvtColor(img_array,cv2.COLOR_BGR2RGB))\n",
    "        plt.show()\n",
    "        break\n",
    "    break"
   ]
  },
  {
   "cell_type": "code",
   "execution_count": 15,
   "id": "b29c9e0d",
   "metadata": {},
   "outputs": [],
   "source": [
    "creat_training_data()"
   ]
  },
  {
   "cell_type": "code",
   "execution_count": 16,
   "id": "cf2e8c31",
   "metadata": {},
   "outputs": [
    {
     "name": "stdout",
     "output_type": "stream",
     "text": [
      "476\n"
     ]
    }
   ],
   "source": [
    "\n",
    "print(len(training_Data))"
   ]
  },
  {
   "cell_type": "code",
   "execution_count": null,
   "id": "de2c4408",
   "metadata": {},
   "outputs": [],
   "source": []
  },
  {
   "cell_type": "code",
   "execution_count": 17,
   "id": "f45ebd48",
   "metadata": {},
   "outputs": [],
   "source": [
    "\n",
    "img_size=48\n"
   ]
  },
  {
   "cell_type": "code",
   "execution_count": null,
   "id": "7c7400fc",
   "metadata": {},
   "outputs": [],
   "source": []
  },
  {
   "cell_type": "code",
   "execution_count": 18,
   "id": "e639464f",
   "metadata": {},
   "outputs": [
    {
     "data": {
      "text/plain": [
       "(476, 48, 48, 1)"
      ]
     },
     "execution_count": 18,
     "metadata": {},
     "output_type": "execute_result"
    }
   ],
   "source": [
    "\n",
    "import random\n",
    "random.shuffle(training_Data)\n",
    "X=[]\n",
    "y=None\n",
    "y=[]\n",
    "for features,label in training_Data:\n",
    "    X.append(features)\n",
    "    y.append(label)\n",
    "x=np.array(X).reshape(-1,img_size,img_size,1)\n",
    "x.shape"
   ]
  },
  {
   "cell_type": "code",
   "execution_count": 19,
   "id": "95638de7",
   "metadata": {},
   "outputs": [],
   "source": [
    "x=x/255.0"
   ]
  },
  {
   "cell_type": "code",
   "execution_count": 20,
   "id": "841486d4",
   "metadata": {},
   "outputs": [],
   "source": [
    "x_t=np.array(x)\n",
    "y_t=np.array(y)"
   ]
  },
  {
   "cell_type": "code",
   "execution_count": 21,
   "id": "9d4354c5",
   "metadata": {},
   "outputs": [],
   "source": [
    "new_model_partie1 =load_model('data_utiliser/model-top.h5')\n"
   ]
  },
  {
   "cell_type": "code",
   "execution_count": 22,
   "id": "8b5a4b79",
   "metadata": {},
   "outputs": [],
   "source": [
    "import tensorflow\n",
    "y_t = tensorflow.keras.utils.to_categorical(y_t, 7)\n"
   ]
  },
  {
   "cell_type": "code",
   "execution_count": 23,
   "id": "5021cc44",
   "metadata": {},
   "outputs": [
    {
     "name": "stdout",
     "output_type": "stream",
     "text": [
      "Epoch 1/10\n",
      "15/15 [==============================] - 15s 903ms/step - loss: 1.5241 - accuracy: 0.4643\n",
      "Epoch 2/10\n",
      "15/15 [==============================] - 13s 888ms/step - loss: 1.2435 - accuracy: 0.5315\n",
      "Epoch 3/10\n",
      "15/15 [==============================] - 13s 883ms/step - loss: 1.0282 - accuracy: 0.6218\n",
      "Epoch 4/10\n",
      "15/15 [==============================] - 14s 923ms/step - loss: 0.8656 - accuracy: 0.7143\n",
      "Epoch 5/10\n",
      "15/15 [==============================] - 14s 920ms/step - loss: 0.7732 - accuracy: 0.7353\n",
      "Epoch 6/10\n",
      "15/15 [==============================] - 14s 926ms/step - loss: 0.6767 - accuracy: 0.7857\n",
      "Epoch 7/10\n",
      "15/15 [==============================] - 14s 921ms/step - loss: 0.6020 - accuracy: 0.8235\n",
      "Epoch 8/10\n",
      "15/15 [==============================] - 14s 925ms/step - loss: 0.5600 - accuracy: 0.8235\n",
      "Epoch 9/10\n",
      "15/15 [==============================] - 14s 929ms/step - loss: 0.5097 - accuracy: 0.8466\n",
      "Epoch 10/10\n",
      "15/15 [==============================] - 14s 922ms/step - loss: 0.4548 - accuracy: 0.8929\n"
     ]
    },
    {
     "data": {
      "text/plain": [
       "<tensorflow.python.keras.callbacks.History at 0x2b03516d1c0>"
      ]
     },
     "execution_count": 23,
     "metadata": {},
     "output_type": "execute_result"
    }
   ],
   "source": [
    "new_model_partie1.fit(x_t,y_t,epochs=10)"
   ]
  },
  {
   "cell_type": "code",
   "execution_count": 24,
   "id": "6aab5ad7",
   "metadata": {},
   "outputs": [],
   "source": [
    "new_model_partie1.save(\"top_model+data_maroc_remarque2.h5\")"
   ]
  },
  {
   "cell_type": "markdown",
   "id": "21b3c94d",
   "metadata": {},
   "source": [
    "# data_ maroc +partie1"
   ]
  },
  {
   "cell_type": "code",
   "execution_count": 43,
   "id": "16aab18b",
   "metadata": {},
   "outputs": [
    {
     "data": {
      "image/png": "[encoded data removed]",
      "text/plain": [
       "<Figure size 432x288 with 1 Axes>"
      ]
     },
     "metadata": {
      "needs_background": "light"
     },
     "output_type": "display_data"
    },
    {
     "name": "stdout",
     "output_type": "stream",
     "text": [
      "476\n"
     ]
    }
   ],
   "source": [
    "img_array=cv2.imread(\"data_trainig_small0-1/0/1.jpg\")\n",
    "Dtatdirectory=\"C:/Users/Anouar Gmili/Desktop/data_maroc0_1\"\n",
    "Classes=[\"0\",\"1\",\"2\",\"3\",\"4\",\"5\",\"6\"]\n",
    "training_Data=[]\n",
    "\n",
    "for category in Classes:\n",
    "    path=os.path.join(Dtatdirectory,category)\n",
    "    path\n",
    "    for img in os.listdir(path):\n",
    "        img_array=cv2.imread(os.path.join(path,img))\n",
    "        plt.imshow(cv2.cvtColor(img_array,cv2.COLOR_BGR2RGB))\n",
    "        plt.show()\n",
    "        break\n",
    "    break\n",
    "\n",
    "creat_training_data()\n",
    "print(len(training_Data))\n",
    "img_size=48\n",
    "import random\n",
    "random.shuffle(training_Data)\n",
    "X=[]\n",
    "y=None\n",
    "y=[]\n",
    "for features,label in training_Data:\n",
    "    X.append(features)\n",
    "    y.append(label)\n",
    "x=np.array(X).reshape(-1,img_size,img_size,1)\n",
    "x.shape\n",
    "x=x/255.0\n",
    "x_t=np.array(x)\n",
    "y_t=np.array(y)\n",
    "new_model =load_model('model_partie1.h5')\n",
    "\n",
    "import tensorflow\n",
    "y_t = tensorflow.keras.utils.to_categorical(y_t, 7)\n"
   ]
  },
  {
   "cell_type": "code",
   "execution_count": 45,
   "id": "5886211a",
   "metadata": {},
   "outputs": [
    {
     "name": "stdout",
     "output_type": "stream",
     "text": [
      "Epoch 1/5\n",
      "15/15 [==============================] - 11s 755ms/step - loss: 0.9158 - accuracy: 0.7311\n",
      "Epoch 2/5\n",
      "15/15 [==============================] - 12s 776ms/step - loss: 0.4599 - accuracy: 0.8571\n",
      "Epoch 3/5\n",
      "15/15 [==============================] - 12s 796ms/step - loss: 0.3023 - accuracy: 0.9055\n",
      "Epoch 4/5\n",
      "15/15 [==============================] - 14s 919ms/step - loss: 0.2552 - accuracy: 0.9307\n",
      "Epoch 5/5\n",
      "15/15 [==============================] - 13s 844ms/step - loss: 0.1788 - accuracy: 0.9517\n"
     ]
    },
    {
     "data": {
      "text/plain": [
       "<tensorflow.python.keras.callbacks.History at 0x1658b3334c0>"
      ]
     },
     "execution_count": 45,
     "metadata": {},
     "output_type": "execute_result"
    }
   ],
   "source": [
    "new_model.fit(x_t,y_t,epochs=5)"
   ]
  },
  {
   "cell_type": "code",
   "execution_count": 46,
   "id": "e34d33a5",
   "metadata": {},
   "outputs": [],
   "source": [
    "new_model.save(\"partie1+data_maroc2.h5\")"
   ]
  },
  {
   "cell_type": "markdown",
   "id": "b0925569",
   "metadata": {},
   "source": [
    "# model_mobilenet_test_avec_7class_pycharm# model_mobilenet_test_avec_7class_pycharm"
   ]
  },
  {
   "cell_type": "code",
   "execution_count": 58,
   "id": "66efcafa",
   "metadata": {},
   "outputs": [
    {
     "data": {
      "image/png": "[encoded data removed]",
      "text/plain": [
       "<Figure size 432x288 with 1 Axes>"
      ]
     },
     "metadata": {
      "needs_background": "light"
     },
     "output_type": "display_data"
    },
    {
     "name": "stdout",
     "output_type": "stream",
     "text": [
      "840\n",
      "Model: \"sequential_1\"\n",
      "_________________________________________________________________\n",
      "Layer (type)                 Output Shape              Param #   \n",
      "=================================================================\n",
      "conv2d_8 (Conv2D)            (None, 48, 48, 32)        320       \n",
      "_________________________________________________________________\n",
      "activation_11 (Activation)   (None, 48, 48, 32)        0         \n",
      "_________________________________________________________________\n",
      "batch_normalization_10 (Batc (None, 48, 48, 32)        128       \n",
      "_________________________________________________________________\n",
      "conv2d_9 (Conv2D)            (None, 48, 48, 32)        9248      \n",
      "_________________________________________________________________\n",
      "activation_12 (Activation)   (None, 48, 48, 32)        0         \n",
      "_________________________________________________________________\n",
      "batch_normalization_11 (Batc (None, 48, 48, 32)        128       \n",
      "_________________________________________________________________\n",
      "max_pooling2d_4 (MaxPooling2 (None, 24, 24, 32)        0         \n",
      "_________________________________________________________________\n",
      "dropout_6 (Dropout)          (None, 24, 24, 32)        0         \n",
      "_________________________________________________________________\n",
      "conv2d_10 (Conv2D)           (None, 24, 24, 64)        18496     \n",
      "_________________________________________________________________\n",
      "activation_13 (Activation)   (None, 24, 24, 64)        0         \n",
      "_________________________________________________________________\n",
      "batch_normalization_12 (Batc (None, 24, 24, 64)        256       \n",
      "_________________________________________________________________\n",
      "conv2d_11 (Conv2D)           (None, 24, 24, 64)        36928     \n",
      "_________________________________________________________________\n",
      "activation_14 (Activation)   (None, 24, 24, 64)        0         \n",
      "_________________________________________________________________\n",
      "batch_normalization_13 (Batc (None, 24, 24, 64)        256       \n",
      "_________________________________________________________________\n",
      "max_pooling2d_5 (MaxPooling2 (None, 12, 12, 64)        0         \n",
      "_________________________________________________________________\n",
      "dropout_7 (Dropout)          (None, 12, 12, 64)        0         \n",
      "_________________________________________________________________\n",
      "conv2d_12 (Conv2D)           (None, 12, 12, 128)       73856     \n",
      "_________________________________________________________________\n",
      "activation_15 (Activation)   (None, 12, 12, 128)       0         \n",
      "_________________________________________________________________\n",
      "batch_normalization_14 (Batc (None, 12, 12, 128)       512       \n",
      "_________________________________________________________________\n",
      "conv2d_13 (Conv2D)           (None, 12, 12, 128)       147584    \n",
      "_________________________________________________________________\n",
      "activation_16 (Activation)   (None, 12, 12, 128)       0         \n",
      "_________________________________________________________________\n",
      "batch_normalization_15 (Batc (None, 12, 12, 128)       512       \n",
      "_________________________________________________________________\n",
      "max_pooling2d_6 (MaxPooling2 (None, 6, 6, 128)         0         \n",
      "_________________________________________________________________\n",
      "dropout_8 (Dropout)          (None, 6, 6, 128)         0         \n",
      "_________________________________________________________________\n",
      "conv2d_14 (Conv2D)           (None, 6, 6, 256)         295168    \n",
      "_________________________________________________________________\n",
      "activation_17 (Activation)   (None, 6, 6, 256)         0         \n",
      "_________________________________________________________________\n",
      "batch_normalization_16 (Batc (None, 6, 6, 256)         1024      \n",
      "_________________________________________________________________\n",
      "conv2d_15 (Conv2D)           (None, 6, 6, 256)         590080    \n",
      "_________________________________________________________________\n",
      "activation_18 (Activation)   (None, 6, 6, 256)         0         \n",
      "_________________________________________________________________\n",
      "batch_normalization_17 (Batc (None, 6, 6, 256)         1024      \n",
      "_________________________________________________________________\n",
      "max_pooling2d_7 (MaxPooling2 (None, 3, 3, 256)         0         \n",
      "_________________________________________________________________\n",
      "dropout_9 (Dropout)          (None, 3, 3, 256)         0         \n",
      "_________________________________________________________________\n",
      "flatten_1 (Flatten)          (None, 2304)              0         \n",
      "_________________________________________________________________\n",
      "dense_3 (Dense)              (None, 64)                147520    \n",
      "_________________________________________________________________\n",
      "activation_19 (Activation)   (None, 64)                0         \n",
      "_________________________________________________________________\n",
      "batch_normalization_18 (Batc (None, 64)                256       \n",
      "_________________________________________________________________\n",
      "dropout_10 (Dropout)         (None, 64)                0         \n",
      "_________________________________________________________________\n",
      "dense_4 (Dense)              (None, 64)                4160      \n",
      "_________________________________________________________________\n",
      "activation_20 (Activation)   (None, 64)                0         \n",
      "_________________________________________________________________\n",
      "batch_normalization_19 (Batc (None, 64)                256       \n",
      "_________________________________________________________________\n",
      "dropout_11 (Dropout)         (None, 64)                0         \n",
      "_________________________________________________________________\n",
      "dense_5 (Dense)              (None, 7)                 455       \n",
      "_________________________________________________________________\n",
      "activation_21 (Activation)   (None, 7)                 0         \n",
      "=================================================================\n",
      "Total params: 1,328,167\n",
      "Trainable params: 1,325,991\n",
      "Non-trainable params: 2,176\n",
      "_________________________________________________________________\n"
     ]
    }
   ],
   "source": [
    "img_array=cv2.imread(\"data_trainig_small0-1/0/1.jpg\")\n",
    "Dtatdirectory=\"C:/Users/Anouar Gmili/Desktop/images_fer2013/Training2_01\"\n",
    "Classes=[\"0\",\"1\",\"2\",\"3\",\"4\",\"5\",\"6\"]\n",
    "training_Data=[]\n",
    "\n",
    "for category in Classes:\n",
    "    path=os.path.join(Dtatdirectory,category)\n",
    "    path\n",
    "    for img in os.listdir(path):\n",
    "        img_array=cv2.imread(os.path.join(path,img))\n",
    "        plt.imshow(cv2.cvtColor(img_array,cv2.COLOR_BGR2RGB))\n",
    "        plt.show()\n",
    "        break\n",
    "    break\n",
    "\n",
    "creat_training_data()\n",
    "print(len(training_Data))\n",
    "img_size=48\n",
    "import random\n",
    "random.shuffle(training_Data)\n",
    "X=[]\n",
    "y=None\n",
    "y=[]\n",
    "for features,label in training_Data:\n",
    "    X.append(features)\n",
    "    y.append(label)\n",
    "x=np.array(X).reshape(-1,48,48,1)\n",
    "x.shape\n",
    "x=x/255.0\n",
    "x_t=np.array(x)\n",
    "y_t=np.array(y)\n",
    "new_model =load_model('data_utiliser/model-top.h5')\n",
    "new_model.summary()\n",
    "import tensorflow\n",
    "y_t = tensorflow.keras.utils.to_categorical(y_t, 7)\n"
   ]
  },
  {
   "cell_type": "code",
   "execution_count": 59,
   "id": "7a509c54",
   "metadata": {},
   "outputs": [
    {
     "name": "stdout",
     "output_type": "stream",
     "text": [
      "Model: \"model_2\"\n",
      "_________________________________________________________________\n",
      "Layer (type)                 Output Shape              Param #   \n",
      "=================================================================\n",
      "conv2d_8_input (InputLayer)  [(None, 48, 48, 1)]       0         \n",
      "_________________________________________________________________\n",
      "conv2d_8 (Conv2D)            (None, 48, 48, 32)        320       \n",
      "_________________________________________________________________\n",
      "activation_11 (Activation)   (None, 48, 48, 32)        0         \n",
      "_________________________________________________________________\n",
      "batch_normalization_10 (Batc (None, 48, 48, 32)        128       \n",
      "_________________________________________________________________\n",
      "conv2d_9 (Conv2D)            (None, 48, 48, 32)        9248      \n",
      "_________________________________________________________________\n",
      "activation_12 (Activation)   (None, 48, 48, 32)        0         \n",
      "_________________________________________________________________\n",
      "batch_normalization_11 (Batc (None, 48, 48, 32)        128       \n",
      "_________________________________________________________________\n",
      "max_pooling2d_4 (MaxPooling2 (None, 24, 24, 32)        0         \n",
      "_________________________________________________________________\n",
      "dropout_6 (Dropout)          (None, 24, 24, 32)        0         \n",
      "_________________________________________________________________\n",
      "conv2d_10 (Conv2D)           (None, 24, 24, 64)        18496     \n",
      "_________________________________________________________________\n",
      "activation_13 (Activation)   (None, 24, 24, 64)        0         \n",
      "_________________________________________________________________\n",
      "batch_normalization_12 (Batc (None, 24, 24, 64)        256       \n",
      "_________________________________________________________________\n",
      "conv2d_11 (Conv2D)           (None, 24, 24, 64)        36928     \n",
      "_________________________________________________________________\n",
      "activation_14 (Activation)   (None, 24, 24, 64)        0         \n",
      "_________________________________________________________________\n",
      "batch_normalization_13 (Batc (None, 24, 24, 64)        256       \n",
      "_________________________________________________________________\n",
      "max_pooling2d_5 (MaxPooling2 (None, 12, 12, 64)        0         \n",
      "_________________________________________________________________\n",
      "dropout_7 (Dropout)          (None, 12, 12, 64)        0         \n",
      "_________________________________________________________________\n",
      "conv2d_12 (Conv2D)           (None, 12, 12, 128)       73856     \n",
      "_________________________________________________________________\n",
      "activation_15 (Activation)   (None, 12, 12, 128)       0         \n",
      "_________________________________________________________________\n",
      "batch_normalization_14 (Batc (None, 12, 12, 128)       512       \n",
      "_________________________________________________________________\n",
      "conv2d_13 (Conv2D)           (None, 12, 12, 128)       147584    \n",
      "_________________________________________________________________\n",
      "activation_16 (Activation)   (None, 12, 12, 128)       0         \n",
      "_________________________________________________________________\n",
      "batch_normalization_15 (Batc (None, 12, 12, 128)       512       \n",
      "_________________________________________________________________\n",
      "max_pooling2d_6 (MaxPooling2 (None, 6, 6, 128)         0         \n",
      "_________________________________________________________________\n",
      "dropout_8 (Dropout)          (None, 6, 6, 128)         0         \n",
      "_________________________________________________________________\n",
      "conv2d_14 (Conv2D)           (None, 6, 6, 256)         295168    \n",
      "_________________________________________________________________\n",
      "activation_17 (Activation)   (None, 6, 6, 256)         0         \n",
      "_________________________________________________________________\n",
      "batch_normalization_16 (Batc (None, 6, 6, 256)         1024      \n",
      "_________________________________________________________________\n",
      "conv2d_15 (Conv2D)           (None, 6, 6, 256)         590080    \n",
      "_________________________________________________________________\n",
      "activation_18 (Activation)   (None, 6, 6, 256)         0         \n",
      "_________________________________________________________________\n",
      "batch_normalization_17 (Batc (None, 6, 6, 256)         1024      \n",
      "_________________________________________________________________\n",
      "max_pooling2d_7 (MaxPooling2 (None, 3, 3, 256)         0         \n",
      "_________________________________________________________________\n",
      "dropout_9 (Dropout)          (None, 3, 3, 256)         0         \n",
      "_________________________________________________________________\n",
      "flatten_1 (Flatten)          (None, 2304)              0         \n",
      "_________________________________________________________________\n",
      "dense_3 (Dense)              (None, 64)                147520    \n",
      "_________________________________________________________________\n",
      "activation_19 (Activation)   (None, 64)                0         \n",
      "_________________________________________________________________\n",
      "batch_normalization_18 (Batc (None, 64)                256       \n",
      "_________________________________________________________________\n",
      "dropout_10 (Dropout)         (None, 64)                0         \n",
      "_________________________________________________________________\n",
      "dense_4 (Dense)              (None, 64)                4160      \n",
      "_________________________________________________________________\n",
      "activation_20 (Activation)   (None, 64)                0         \n",
      "_________________________________________________________________\n",
      "batch_normalization_19 (Batc (None, 64)                256       \n",
      "_________________________________________________________________\n",
      "dropout_11 (Dropout)         (None, 64)                0         \n",
      "_________________________________________________________________\n",
      "dense_5 (Dense)              (None, 7)                 455       \n",
      "_________________________________________________________________\n",
      "activation_21 (Activation)   (None, 7)                 0         \n",
      "_________________________________________________________________\n",
      "dense_9 (Dense)              (None, 7)                 56        \n",
      "_________________________________________________________________\n",
      "activation_6 (Activation)    (None, 7)                 0         \n",
      "_________________________________________________________________\n",
      "dense_10 (Dense)             (None, 7)                 56        \n",
      "_________________________________________________________________\n",
      "activation_7 (Activation)    (None, 7)                 0         \n",
      "_________________________________________________________________\n",
      "dense_11 (Dense)             (None, 7)                 56        \n",
      "=================================================================\n",
      "Total params: 1,328,335\n",
      "Trainable params: 1,326,159\n",
      "Non-trainable params: 2,176\n",
      "_________________________________________________________________\n"
     ]
    }
   ],
   "source": [
    "\n",
    "import tensorflow as tf\n",
    "from  tensorflow import keras\n",
    "from tensorflow.keras import layers\n",
    "base_input=new_model.layers[0].input\n",
    "base_output=new_model.layers[-1].output\n",
    "\n",
    "base_output\n",
    "\n",
    "base_input\n",
    "\n",
    "\n",
    "final_output=layers.Dense(7)(base_output)\n",
    "final_ouput=layers.Activation('relu')(final_output)\n",
    "final_output=layers.Dense(7)(final_ouput)\n",
    "final_ouput=layers.Activation('relu')(final_output)\n",
    "final_output=layers.Dense(7,activation='softmax')(final_ouput)\n",
    "\n",
    "final_output\n",
    "\n",
    "\n",
    "new_model3=keras.Model(inputs=base_input,outputs=final_output)\n",
    "new_model3.summary()"
   ]
  },
  {
   "cell_type": "code",
   "execution_count": 63,
   "id": "7cf5afe4",
   "metadata": {},
   "outputs": [
    {
     "name": "stdout",
     "output_type": "stream",
     "text": [
      "Model: \"model_2\"\n",
      "_________________________________________________________________\n",
      "Layer (type)                 Output Shape              Param #   \n",
      "=================================================================\n",
      "conv2d_8_input (InputLayer)  [(None, 48, 48, 1)]       0         \n",
      "_________________________________________________________________\n",
      "conv2d_8 (Conv2D)            (None, 48, 48, 32)        320       \n",
      "_________________________________________________________________\n",
      "activation_11 (Activation)   (None, 48, 48, 32)        0         \n",
      "_________________________________________________________________\n",
      "batch_normalization_10 (Batc (None, 48, 48, 32)        128       \n",
      "_________________________________________________________________\n",
      "conv2d_9 (Conv2D)            (None, 48, 48, 32)        9248      \n",
      "_________________________________________________________________\n",
      "activation_12 (Activation)   (None, 48, 48, 32)        0         \n",
      "_________________________________________________________________\n",
      "batch_normalization_11 (Batc (None, 48, 48, 32)        128       \n",
      "_________________________________________________________________\n",
      "max_pooling2d_4 (MaxPooling2 (None, 24, 24, 32)        0         \n",
      "_________________________________________________________________\n",
      "dropout_6 (Dropout)          (None, 24, 24, 32)        0         \n",
      "_________________________________________________________________\n",
      "conv2d_10 (Conv2D)           (None, 24, 24, 64)        18496     \n",
      "_________________________________________________________________\n",
      "activation_13 (Activation)   (None, 24, 24, 64)        0         \n",
      "_________________________________________________________________\n",
      "batch_normalization_12 (Batc (None, 24, 24, 64)        256       \n",
      "_________________________________________________________________\n",
      "conv2d_11 (Conv2D)           (None, 24, 24, 64)        36928     \n",
      "_________________________________________________________________\n",
      "activation_14 (Activation)   (None, 24, 24, 64)        0         \n",
      "_________________________________________________________________\n",
      "batch_normalization_13 (Batc (None, 24, 24, 64)        256       \n",
      "_________________________________________________________________\n",
      "max_pooling2d_5 (MaxPooling2 (None, 12, 12, 64)        0         \n",
      "_________________________________________________________________\n",
      "dropout_7 (Dropout)          (None, 12, 12, 64)        0         \n",
      "_________________________________________________________________\n",
      "conv2d_12 (Conv2D)           (None, 12, 12, 128)       73856     \n",
      "_________________________________________________________________\n",
      "activation_15 (Activation)   (None, 12, 12, 128)       0         \n",
      "_________________________________________________________________\n",
      "batch_normalization_14 (Batc (None, 12, 12, 128)       512       \n",
      "_________________________________________________________________\n",
      "conv2d_13 (Conv2D)           (None, 12, 12, 128)       147584    \n",
      "_________________________________________________________________\n",
      "activation_16 (Activation)   (None, 12, 12, 128)       0         \n",
      "_________________________________________________________________\n",
      "batch_normalization_15 (Batc (None, 12, 12, 128)       512       \n",
      "_________________________________________________________________\n",
      "max_pooling2d_6 (MaxPooling2 (None, 6, 6, 128)         0         \n",
      "_________________________________________________________________\n",
      "dropout_8 (Dropout)          (None, 6, 6, 128)         0         \n",
      "_________________________________________________________________\n",
      "conv2d_14 (Conv2D)           (None, 6, 6, 256)         295168    \n",
      "_________________________________________________________________\n",
      "activation_17 (Activation)   (None, 6, 6, 256)         0         \n",
      "_________________________________________________________________\n",
      "batch_normalization_16 (Batc (None, 6, 6, 256)         1024      \n",
      "_________________________________________________________________\n",
      "conv2d_15 (Conv2D)           (None, 6, 6, 256)         590080    \n",
      "_________________________________________________________________\n",
      "activation_18 (Activation)   (None, 6, 6, 256)         0         \n",
      "_________________________________________________________________\n",
      "batch_normalization_17 (Batc (None, 6, 6, 256)         1024      \n",
      "_________________________________________________________________\n",
      "max_pooling2d_7 (MaxPooling2 (None, 3, 3, 256)         0         \n",
      "_________________________________________________________________\n",
      "dropout_9 (Dropout)          (None, 3, 3, 256)         0         \n",
      "_________________________________________________________________\n",
      "flatten_1 (Flatten)          (None, 2304)              0         \n",
      "_________________________________________________________________\n",
      "dense_3 (Dense)              (None, 64)                147520    \n",
      "_________________________________________________________________\n",
      "activation_19 (Activation)   (None, 64)                0         \n",
      "_________________________________________________________________\n",
      "batch_normalization_18 (Batc (None, 64)                256       \n",
      "_________________________________________________________________\n",
      "dropout_10 (Dropout)         (None, 64)                0         \n",
      "_________________________________________________________________\n",
      "dense_4 (Dense)              (None, 64)                4160      \n",
      "_________________________________________________________________\n",
      "activation_20 (Activation)   (None, 64)                0         \n",
      "_________________________________________________________________\n",
      "batch_normalization_19 (Batc (None, 64)                256       \n",
      "_________________________________________________________________\n",
      "dropout_11 (Dropout)         (None, 64)                0         \n",
      "_________________________________________________________________\n",
      "dense_5 (Dense)              (None, 7)                 455       \n",
      "_________________________________________________________________\n",
      "activation_21 (Activation)   (None, 7)                 0         \n",
      "_________________________________________________________________\n",
      "dense_9 (Dense)              (None, 7)                 56        \n",
      "_________________________________________________________________\n",
      "activation_6 (Activation)    (None, 7)                 0         \n",
      "_________________________________________________________________\n",
      "dense_10 (Dense)             (None, 7)                 56        \n",
      "_________________________________________________________________\n",
      "activation_7 (Activation)    (None, 7)                 0         \n",
      "_________________________________________________________________\n",
      "dense_11 (Dense)             (None, 7)                 56        \n",
      "=================================================================\n",
      "Total params: 1,328,335\n",
      "Trainable params: 1,326,159\n",
      "Non-trainable params: 2,176\n",
      "_________________________________________________________________\n"
     ]
    }
   ],
   "source": [
    "new_model3.compile(loss='categorical_crossentropy',\n",
    "              optimizer=Adam(lr=0.001),\n",
    "              metrics=['accuracy']\n",
    "              )\n",
    "new_model3.summary()"
   ]
  },
  {
   "cell_type": "code",
   "execution_count": 64,
   "id": "937500f0",
   "metadata": {},
   "outputs": [
    {
     "name": "stdout",
     "output_type": "stream",
     "text": [
      "Epoch 1/5\n",
      "27/27 [==============================] - 24s 791ms/step - loss: 1.7184 - accuracy: 0.2896\n",
      "Epoch 2/5\n",
      "27/27 [==============================] - 20s 746ms/step - loss: 1.6639 - accuracy: 0.2827\n",
      "Epoch 3/5\n",
      "27/27 [==============================] - 22s 797ms/step - loss: 1.6223 - accuracy: 0.3125\n",
      "Epoch 4/5\n",
      "27/27 [==============================] - 22s 801ms/step - loss: 1.5482 - accuracy: 0.4110\n",
      "Epoch 5/5\n",
      "27/27 [==============================] - 21s 774ms/step - loss: 1.5309 - accuracy: 0.4245\n"
     ]
    },
    {
     "data": {
      "text/plain": [
       "<tensorflow.python.keras.callbacks.History at 0x165834db910>"
      ]
     },
     "execution_count": 64,
     "metadata": {},
     "output_type": "execute_result"
    }
   ],
   "source": [
    "new_model3.fit(x_t,y_t,epochs=5)"
   ]
  },
  {
   "cell_type": "markdown",
   "id": "243306ef",
   "metadata": {},
   "source": [
    "# data maroc+fer+model-top"
   ]
  },
  {
   "cell_type": "code",
   "execution_count": 25,
   "id": "cefab57b",
   "metadata": {},
   "outputs": [
    {
     "data": {
      "image/png": "[encoded data removed]",
      "text/plain": [
       "<Figure size 432x288 with 1 Axes>"
      ]
     },
     "metadata": {
      "needs_background": "light"
     },
     "output_type": "display_data"
    },
    {
     "name": "stdout",
     "output_type": "stream",
     "text": [
      "1397\n",
      "Model: \"sequential_1\"\n",
      "_________________________________________________________________\n",
      "Layer (type)                 Output Shape              Param #   \n",
      "=================================================================\n",
      "conv2d_8 (Conv2D)            (None, 48, 48, 32)        320       \n",
      "_________________________________________________________________\n",
      "activation_11 (Activation)   (None, 48, 48, 32)        0         \n",
      "_________________________________________________________________\n",
      "batch_normalization_10 (Batc (None, 48, 48, 32)        128       \n",
      "_________________________________________________________________\n",
      "conv2d_9 (Conv2D)            (None, 48, 48, 32)        9248      \n",
      "_________________________________________________________________\n",
      "activation_12 (Activation)   (None, 48, 48, 32)        0         \n",
      "_________________________________________________________________\n",
      "batch_normalization_11 (Batc (None, 48, 48, 32)        128       \n",
      "_________________________________________________________________\n",
      "max_pooling2d_4 (MaxPooling2 (None, 24, 24, 32)        0         \n",
      "_________________________________________________________________\n",
      "dropout_6 (Dropout)          (None, 24, 24, 32)        0         \n",
      "_________________________________________________________________\n",
      "conv2d_10 (Conv2D)           (None, 24, 24, 64)        18496     \n",
      "_________________________________________________________________\n",
      "activation_13 (Activation)   (None, 24, 24, 64)        0         \n",
      "_________________________________________________________________\n",
      "batch_normalization_12 (Batc (None, 24, 24, 64)        256       \n",
      "_________________________________________________________________\n",
      "conv2d_11 (Conv2D)           (None, 24, 24, 64)        36928     \n",
      "_________________________________________________________________\n",
      "activation_14 (Activation)   (None, 24, 24, 64)        0         \n",
      "_________________________________________________________________\n",
      "batch_normalization_13 (Batc (None, 24, 24, 64)        256       \n",
      "_________________________________________________________________\n",
      "max_pooling2d_5 (MaxPooling2 (None, 12, 12, 64)        0         \n",
      "_________________________________________________________________\n",
      "dropout_7 (Dropout)          (None, 12, 12, 64)        0         \n",
      "_________________________________________________________________\n",
      "conv2d_12 (Conv2D)           (None, 12, 12, 128)       73856     \n",
      "_________________________________________________________________\n",
      "activation_15 (Activation)   (None, 12, 12, 128)       0         \n",
      "_________________________________________________________________\n",
      "batch_normalization_14 (Batc (None, 12, 12, 128)       512       \n",
      "_________________________________________________________________\n",
      "conv2d_13 (Conv2D)           (None, 12, 12, 128)       147584    \n",
      "_________________________________________________________________\n",
      "activation_16 (Activation)   (None, 12, 12, 128)       0         \n",
      "_________________________________________________________________\n",
      "batch_normalization_15 (Batc (None, 12, 12, 128)       512       \n",
      "_________________________________________________________________\n",
      "max_pooling2d_6 (MaxPooling2 (None, 6, 6, 128)         0         \n",
      "_________________________________________________________________\n",
      "dropout_8 (Dropout)          (None, 6, 6, 128)         0         \n",
      "_________________________________________________________________\n",
      "conv2d_14 (Conv2D)           (None, 6, 6, 256)         295168    \n",
      "_________________________________________________________________\n",
      "activation_17 (Activation)   (None, 6, 6, 256)         0         \n",
      "_________________________________________________________________\n",
      "batch_normalization_16 (Batc (None, 6, 6, 256)         1024      \n",
      "_________________________________________________________________\n",
      "conv2d_15 (Conv2D)           (None, 6, 6, 256)         590080    \n",
      "_________________________________________________________________\n",
      "activation_18 (Activation)   (None, 6, 6, 256)         0         \n",
      "_________________________________________________________________\n",
      "batch_normalization_17 (Batc (None, 6, 6, 256)         1024      \n",
      "_________________________________________________________________\n",
      "max_pooling2d_7 (MaxPooling2 (None, 3, 3, 256)         0         \n",
      "_________________________________________________________________\n",
      "dropout_9 (Dropout)          (None, 3, 3, 256)         0         \n",
      "_________________________________________________________________\n",
      "flatten_1 (Flatten)          (None, 2304)              0         \n",
      "_________________________________________________________________\n",
      "dense_3 (Dense)              (None, 64)                147520    \n",
      "_________________________________________________________________\n",
      "activation_19 (Activation)   (None, 64)                0         \n",
      "_________________________________________________________________\n",
      "batch_normalization_18 (Batc (None, 64)                256       \n",
      "_________________________________________________________________\n",
      "dropout_10 (Dropout)         (None, 64)                0         \n",
      "_________________________________________________________________\n",
      "dense_4 (Dense)              (None, 64)                4160      \n",
      "_________________________________________________________________\n",
      "activation_20 (Activation)   (None, 64)                0         \n",
      "_________________________________________________________________\n",
      "batch_normalization_19 (Batc (None, 64)                256       \n",
      "_________________________________________________________________\n",
      "dropout_11 (Dropout)         (None, 64)                0         \n",
      "_________________________________________________________________\n",
      "dense_5 (Dense)              (None, 7)                 455       \n",
      "_________________________________________________________________\n",
      "activation_21 (Activation)   (None, 7)                 0         \n",
      "=================================================================\n",
      "Total params: 1,328,167\n",
      "Trainable params: 1,325,991\n",
      "Non-trainable params: 2,176\n",
      "_________________________________________________________________\n"
     ]
    }
   ],
   "source": [
    "img_array=cv2.imread(\"data_trainig_small0-1/0/1.jpg\")\n",
    "Dtatdirectory=\"C:/Users/Anouar Gmili/Desktop/data_maroc0_1+fer13\"\n",
    "Classes=[\"0\",\"1\",\"2\",\"3\",\"4\",\"5\",\"6\"]\n",
    "training_Data=[]\n",
    "\n",
    "for category in Classes:\n",
    "    path=os.path.join(Dtatdirectory,category)\n",
    "    path\n",
    "    for img in os.listdir(path):\n",
    "        img_array=cv2.imread(os.path.join(path,img))\n",
    "        plt.imshow(cv2.cvtColor(img_array,cv2.COLOR_BGR2RGB))\n",
    "        plt.show()\n",
    "        break\n",
    "    break\n",
    "\n",
    "creat_training_data()\n",
    "print(len(training_Data))\n",
    "img_size=48\n",
    "import random\n",
    "random.shuffle(training_Data)\n",
    "X=[]\n",
    "y=None\n",
    "y=[]\n",
    "for features,label in training_Data:\n",
    "    X.append(features)\n",
    "    y.append(label)\n",
    "x=np.array(X).reshape(-1,48,48,1)\n",
    "x.shape\n",
    "x=x/255.0\n",
    "x_t=np.array(x)\n",
    "y_t=np.array(y)\n",
    "new_model =load_model('data_utiliser/model-top.h5')\n",
    "new_model.summary()\n",
    "import tensorflow\n",
    "y_t = tensorflow.keras.utils.to_categorical(y_t, 7)\n"
   ]
  },
  {
   "cell_type": "code",
   "execution_count": 26,
   "id": "0ce717d8",
   "metadata": {},
   "outputs": [
    {
     "name": "stdout",
     "output_type": "stream",
     "text": [
      "Epoch 1/10\n",
      "44/44 [==============================] - 40s 843ms/step - loss: 1.4393 - accuracy: 0.4581\n",
      "Epoch 2/10\n",
      "44/44 [==============================] - 38s 869ms/step - loss: 1.2117 - accuracy: 0.5383\n",
      "Epoch 3/10\n",
      "44/44 [==============================] - 44s 1s/step - loss: 1.0789 - accuracy: 0.5870\n",
      "Epoch 4/10\n",
      "44/44 [==============================] - 44s 995ms/step - loss: 0.9668 - accuracy: 0.6442\n",
      "Epoch 5/10\n",
      "44/44 [==============================] - 40s 906ms/step - loss: 0.8749 - accuracy: 0.6793\n",
      "Epoch 6/10\n",
      "44/44 [==============================] - 40s 903ms/step - loss: 0.8152 - accuracy: 0.6943\n",
      "Epoch 7/10\n",
      "44/44 [==============================] - 39s 896ms/step - loss: 0.6973 - accuracy: 0.7559\n",
      "Epoch 8/10\n",
      "44/44 [==============================] - 41s 932ms/step - loss: 0.6161 - accuracy: 0.7860\n",
      "Epoch 9/10\n",
      "44/44 [==============================] - 40s 900ms/step - loss: 0.5590 - accuracy: 0.8103\n",
      "Epoch 10/10\n",
      "44/44 [==============================] - 40s 909ms/step - loss: 0.4911 - accuracy: 0.8261\n"
     ]
    },
    {
     "data": {
      "text/plain": [
       "<tensorflow.python.keras.callbacks.History at 0x2b03516e9a0>"
      ]
     },
     "execution_count": 26,
     "metadata": {},
     "output_type": "execute_result"
    }
   ],
   "source": [
    "new_model.fit(x_t,y_t,epochs=10)"
   ]
  },
  {
   "cell_type": "code",
   "execution_count": 27,
   "id": "4e7dc575",
   "metadata": {},
   "outputs": [],
   "source": [
    "new_model.save(\"7jun.h5\")"
   ]
  },
  {
   "cell_type": "markdown",
   "id": "0c2be1c8",
   "metadata": {},
   "source": [
    "# data maroc+fer13+partie1"
   ]
  },
  {
   "cell_type": "code",
   "execution_count": 28,
   "id": "ae3adc89",
   "metadata": {},
   "outputs": [
    {
     "data": {
      "image/png": "[encoded data removed]",
      "text/plain": [
       "<Figure size 432x288 with 1 Axes>"
      ]
     },
     "metadata": {
      "needs_background": "light"
     },
     "output_type": "display_data"
    },
    {
     "name": "stdout",
     "output_type": "stream",
     "text": [
      "1397\n",
      "Model: \"sequential_1\"\n",
      "_________________________________________________________________\n",
      "Layer (type)                 Output Shape              Param #   \n",
      "=================================================================\n",
      "conv2d_8 (Conv2D)            (None, 48, 48, 32)        320       \n",
      "_________________________________________________________________\n",
      "activation_11 (Activation)   (None, 48, 48, 32)        0         \n",
      "_________________________________________________________________\n",
      "batch_normalization_10 (Batc (None, 48, 48, 32)        128       \n",
      "_________________________________________________________________\n",
      "conv2d_9 (Conv2D)            (None, 48, 48, 32)        9248      \n",
      "_________________________________________________________________\n",
      "activation_12 (Activation)   (None, 48, 48, 32)        0         \n",
      "_________________________________________________________________\n",
      "batch_normalization_11 (Batc (None, 48, 48, 32)        128       \n",
      "_________________________________________________________________\n",
      "max_pooling2d_4 (MaxPooling2 (None, 24, 24, 32)        0         \n",
      "_________________________________________________________________\n",
      "dropout_6 (Dropout)          (None, 24, 24, 32)        0         \n",
      "_________________________________________________________________\n",
      "conv2d_10 (Conv2D)           (None, 24, 24, 64)        18496     \n",
      "_________________________________________________________________\n",
      "activation_13 (Activation)   (None, 24, 24, 64)        0         \n",
      "_________________________________________________________________\n",
      "batch_normalization_12 (Batc (None, 24, 24, 64)        256       \n",
      "_________________________________________________________________\n",
      "conv2d_11 (Conv2D)           (None, 24, 24, 64)        36928     \n",
      "_________________________________________________________________\n",
      "activation_14 (Activation)   (None, 24, 24, 64)        0         \n",
      "_________________________________________________________________\n",
      "batch_normalization_13 (Batc (None, 24, 24, 64)        256       \n",
      "_________________________________________________________________\n",
      "max_pooling2d_5 (MaxPooling2 (None, 12, 12, 64)        0         \n",
      "_________________________________________________________________\n",
      "dropout_7 (Dropout)          (None, 12, 12, 64)        0         \n",
      "_________________________________________________________________\n",
      "conv2d_12 (Conv2D)           (None, 12, 12, 128)       73856     \n",
      "_________________________________________________________________\n",
      "activation_15 (Activation)   (None, 12, 12, 128)       0         \n",
      "_________________________________________________________________\n",
      "batch_normalization_14 (Batc (None, 12, 12, 128)       512       \n",
      "_________________________________________________________________\n",
      "conv2d_13 (Conv2D)           (None, 12, 12, 128)       147584    \n",
      "_________________________________________________________________\n",
      "activation_16 (Activation)   (None, 12, 12, 128)       0         \n",
      "_________________________________________________________________\n",
      "batch_normalization_15 (Batc (None, 12, 12, 128)       512       \n",
      "_________________________________________________________________\n",
      "max_pooling2d_6 (MaxPooling2 (None, 6, 6, 128)         0         \n",
      "_________________________________________________________________\n",
      "dropout_8 (Dropout)          (None, 6, 6, 128)         0         \n",
      "_________________________________________________________________\n",
      "conv2d_14 (Conv2D)           (None, 6, 6, 256)         295168    \n",
      "_________________________________________________________________\n",
      "activation_17 (Activation)   (None, 6, 6, 256)         0         \n",
      "_________________________________________________________________\n",
      "batch_normalization_16 (Batc (None, 6, 6, 256)         1024      \n",
      "_________________________________________________________________\n",
      "conv2d_15 (Conv2D)           (None, 6, 6, 256)         590080    \n",
      "_________________________________________________________________\n",
      "activation_18 (Activation)   (None, 6, 6, 256)         0         \n",
      "_________________________________________________________________\n",
      "batch_normalization_17 (Batc (None, 6, 6, 256)         1024      \n",
      "_________________________________________________________________\n",
      "max_pooling2d_7 (MaxPooling2 (None, 3, 3, 256)         0         \n",
      "_________________________________________________________________\n",
      "dropout_9 (Dropout)          (None, 3, 3, 256)         0         \n",
      "_________________________________________________________________\n",
      "flatten_1 (Flatten)          (None, 2304)              0         \n",
      "_________________________________________________________________\n",
      "dense_3 (Dense)              (None, 64)                147520    \n",
      "_________________________________________________________________\n",
      "activation_19 (Activation)   (None, 64)                0         \n",
      "_________________________________________________________________\n",
      "batch_normalization_18 (Batc (None, 64)                256       \n",
      "_________________________________________________________________\n",
      "dropout_10 (Dropout)         (None, 64)                0         \n",
      "_________________________________________________________________\n",
      "dense_4 (Dense)              (None, 64)                4160      \n",
      "_________________________________________________________________\n",
      "activation_20 (Activation)   (None, 64)                0         \n",
      "_________________________________________________________________\n",
      "batch_normalization_19 (Batc (None, 64)                256       \n",
      "_________________________________________________________________\n",
      "dropout_11 (Dropout)         (None, 64)                0         \n",
      "_________________________________________________________________\n",
      "dense_5 (Dense)              (None, 7)                 455       \n",
      "_________________________________________________________________\n",
      "activation_21 (Activation)   (None, 7)                 0         \n",
      "=================================================================\n",
      "Total params: 1,328,167\n",
      "Trainable params: 1,325,991\n",
      "Non-trainable params: 2,176\n",
      "_________________________________________________________________\n"
     ]
    }
   ],
   "source": [
    "img_array=cv2.imread(\"data_trainig_small0-1/0/1.jpg\")\n",
    "Dtatdirectory=\"C:/Users/Anouar Gmili/Desktop/data_maroc0_1+fer13\"\n",
    "Classes=[\"0\",\"1\",\"2\",\"3\",\"4\",\"5\",\"6\"]\n",
    "training_Data=[]\n",
    "\n",
    "for category in Classes:\n",
    "    path=os.path.join(Dtatdirectory,category)\n",
    "    path\n",
    "    for img in os.listdir(path):\n",
    "        img_array=cv2.imread(os.path.join(path,img))\n",
    "        plt.imshow(cv2.cvtColor(img_array,cv2.COLOR_BGR2RGB))\n",
    "        plt.show()\n",
    "        break\n",
    "    break\n",
    "\n",
    "creat_training_data()\n",
    "print(len(training_Data))\n",
    "img_size=48\n",
    "import random\n",
    "random.shuffle(training_Data)\n",
    "X=[]\n",
    "y=None\n",
    "y=[]\n",
    "for features,label in training_Data:\n",
    "    X.append(features)\n",
    "    y.append(label)\n",
    "x=np.array(X).reshape(-1,48,48,1)\n",
    "x.shape\n",
    "x=x/255.0\n",
    "x_t=np.array(x)\n",
    "y_t=np.array(y)\n",
    "new_model =load_model('model_partie1.h5')\n",
    "new_model.summary()\n",
    "import tensorflow\n",
    "y_t = tensorflow.keras.utils.to_categorical(y_t, 7)\n"
   ]
  },
  {
   "cell_type": "code",
   "execution_count": 30,
   "id": "0df40404",
   "metadata": {},
   "outputs": [
    {
     "name": "stdout",
     "output_type": "stream",
     "text": [
      "Epoch 1/10\n",
      "44/44 [==============================] - 43s 896ms/step - loss: 0.9034 - accuracy: 0.7523\n",
      "Epoch 2/10\n",
      "44/44 [==============================] - 39s 892ms/step - loss: 0.5325 - accuracy: 0.8289\n",
      "Epoch 3/10\n",
      "44/44 [==============================] - 42s 957ms/step - loss: 0.3351 - accuracy: 0.8991\n",
      "Epoch 4/10\n",
      "44/44 [==============================] - 41s 939ms/step - loss: 0.2586 - accuracy: 0.9191\n",
      "Epoch 5/10\n",
      "44/44 [==============================] - 47s 1s/step - loss: 0.2545 - accuracy: 0.9184\n",
      "Epoch 6/10\n",
      "44/44 [==============================] - 52s 1s/step - loss: 0.2162 - accuracy: 0.9291\n",
      "Epoch 7/10\n",
      "44/44 [==============================] - 57s 1s/step - loss: 0.1857 - accuracy: 0.9449\n",
      "Epoch 8/10\n",
      "44/44 [==============================] - 52s 1s/step - loss: 0.1567 - accuracy: 0.9542\n",
      "Epoch 9/10\n",
      "44/44 [==============================] - 42s 963ms/step - loss: 0.1487 - accuracy: 0.9585\n",
      "Epoch 10/10\n",
      "44/44 [==============================] - 41s 921ms/step - loss: 0.1535 - accuracy: 0.9535\n"
     ]
    },
    {
     "data": {
      "text/plain": [
       "<tensorflow.python.keras.callbacks.History at 0x2b03723faf0>"
      ]
     },
     "execution_count": 30,
     "metadata": {},
     "output_type": "execute_result"
    }
   ],
   "source": [
    "new_model.fit(x_t,y_t,epochs=10)"
   ]
  },
  {
   "cell_type": "code",
   "execution_count": 31,
   "id": "500029eb",
   "metadata": {},
   "outputs": [],
   "source": [
    "new_model.save(\"7junZ.h5\")\n"
   ]
  },
  {
   "cell_type": "markdown",
   "id": "9f7dc8b9",
   "metadata": {},
   "source": [
    "# data maroc +fer+partie2 final "
   ]
  },
  {
   "cell_type": "code",
   "execution_count": 32,
   "id": "5ac76f4c",
   "metadata": {},
   "outputs": [
    {
     "data": {
      "image/png": "[encoded data removed]",
      "text/plain": [
       "<Figure size 432x288 with 1 Axes>"
      ]
     },
     "metadata": {
      "needs_background": "light"
     },
     "output_type": "display_data"
    },
    {
     "name": "stdout",
     "output_type": "stream",
     "text": [
      "1397\n",
      "Model: \"sequential_1\"\n",
      "_________________________________________________________________\n",
      "Layer (type)                 Output Shape              Param #   \n",
      "=================================================================\n",
      "conv2d_8 (Conv2D)            (None, 48, 48, 32)        320       \n",
      "_________________________________________________________________\n",
      "activation_11 (Activation)   (None, 48, 48, 32)        0         \n",
      "_________________________________________________________________\n",
      "batch_normalization_10 (Batc (None, 48, 48, 32)        128       \n",
      "_________________________________________________________________\n",
      "conv2d_9 (Conv2D)            (None, 48, 48, 32)        9248      \n",
      "_________________________________________________________________\n",
      "activation_12 (Activation)   (None, 48, 48, 32)        0         \n",
      "_________________________________________________________________\n",
      "batch_normalization_11 (Batc (None, 48, 48, 32)        128       \n",
      "_________________________________________________________________\n",
      "max_pooling2d_4 (MaxPooling2 (None, 24, 24, 32)        0         \n",
      "_________________________________________________________________\n",
      "dropout_6 (Dropout)          (None, 24, 24, 32)        0         \n",
      "_________________________________________________________________\n",
      "conv2d_10 (Conv2D)           (None, 24, 24, 64)        18496     \n",
      "_________________________________________________________________\n",
      "activation_13 (Activation)   (None, 24, 24, 64)        0         \n",
      "_________________________________________________________________\n",
      "batch_normalization_12 (Batc (None, 24, 24, 64)        256       \n",
      "_________________________________________________________________\n",
      "conv2d_11 (Conv2D)           (None, 24, 24, 64)        36928     \n",
      "_________________________________________________________________\n",
      "activation_14 (Activation)   (None, 24, 24, 64)        0         \n",
      "_________________________________________________________________\n",
      "batch_normalization_13 (Batc (None, 24, 24, 64)        256       \n",
      "_________________________________________________________________\n",
      "max_pooling2d_5 (MaxPooling2 (None, 12, 12, 64)        0         \n",
      "_________________________________________________________________\n",
      "dropout_7 (Dropout)          (None, 12, 12, 64)        0         \n",
      "_________________________________________________________________\n",
      "conv2d_12 (Conv2D)           (None, 12, 12, 128)       73856     \n",
      "_________________________________________________________________\n",
      "activation_15 (Activation)   (None, 12, 12, 128)       0         \n",
      "_________________________________________________________________\n",
      "batch_normalization_14 (Batc (None, 12, 12, 128)       512       \n",
      "_________________________________________________________________\n",
      "conv2d_13 (Conv2D)           (None, 12, 12, 128)       147584    \n",
      "_________________________________________________________________\n",
      "activation_16 (Activation)   (None, 12, 12, 128)       0         \n",
      "_________________________________________________________________\n",
      "batch_normalization_15 (Batc (None, 12, 12, 128)       512       \n",
      "_________________________________________________________________\n",
      "max_pooling2d_6 (MaxPooling2 (None, 6, 6, 128)         0         \n",
      "_________________________________________________________________\n",
      "dropout_8 (Dropout)          (None, 6, 6, 128)         0         \n",
      "_________________________________________________________________\n",
      "conv2d_14 (Conv2D)           (None, 6, 6, 256)         295168    \n",
      "_________________________________________________________________\n",
      "activation_17 (Activation)   (None, 6, 6, 256)         0         \n",
      "_________________________________________________________________\n",
      "batch_normalization_16 (Batc (None, 6, 6, 256)         1024      \n",
      "_________________________________________________________________\n",
      "conv2d_15 (Conv2D)           (None, 6, 6, 256)         590080    \n",
      "_________________________________________________________________\n",
      "activation_18 (Activation)   (None, 6, 6, 256)         0         \n",
      "_________________________________________________________________\n",
      "batch_normalization_17 (Batc (None, 6, 6, 256)         1024      \n",
      "_________________________________________________________________\n",
      "max_pooling2d_7 (MaxPooling2 (None, 3, 3, 256)         0         \n",
      "_________________________________________________________________\n",
      "dropout_9 (Dropout)          (None, 3, 3, 256)         0         \n",
      "_________________________________________________________________\n",
      "flatten_1 (Flatten)          (None, 2304)              0         \n",
      "_________________________________________________________________\n",
      "dense_3 (Dense)              (None, 64)                147520    \n",
      "_________________________________________________________________\n",
      "activation_19 (Activation)   (None, 64)                0         \n",
      "_________________________________________________________________\n",
      "batch_normalization_18 (Batc (None, 64)                256       \n",
      "_________________________________________________________________\n",
      "dropout_10 (Dropout)         (None, 64)                0         \n",
      "_________________________________________________________________\n",
      "dense_4 (Dense)              (None, 64)                4160      \n",
      "_________________________________________________________________\n",
      "activation_20 (Activation)   (None, 64)                0         \n",
      "_________________________________________________________________\n",
      "batch_normalization_19 (Batc (None, 64)                256       \n",
      "_________________________________________________________________\n",
      "dropout_11 (Dropout)         (None, 64)                0         \n",
      "_________________________________________________________________\n",
      "dense_5 (Dense)              (None, 7)                 455       \n",
      "_________________________________________________________________\n",
      "activation_21 (Activation)   (None, 7)                 0         \n",
      "=================================================================\n",
      "Total params: 1,328,167\n",
      "Trainable params: 1,325,991\n",
      "Non-trainable params: 2,176\n",
      "_________________________________________________________________\n"
     ]
    }
   ],
   "source": [
    "img_array=cv2.imread(\"data_trainig_small0-1/0/1.jpg\")\n",
    "Dtatdirectory=\"C:/Users/Anouar Gmili/Desktop/data_maroc0_1+fer13\"\n",
    "Classes=[\"0\",\"1\",\"2\",\"3\",\"4\",\"5\",\"6\"]\n",
    "training_Data=[]\n",
    "\n",
    "for category in Classes:\n",
    "    path=os.path.join(Dtatdirectory,category)\n",
    "    path\n",
    "    for img in os.listdir(path):\n",
    "        img_array=cv2.imread(os.path.join(path,img))\n",
    "        plt.imshow(cv2.cvtColor(img_array,cv2.COLOR_BGR2RGB))\n",
    "        plt.show()\n",
    "        break\n",
    "    break\n",
    "\n",
    "creat_training_data()\n",
    "print(len(training_Data))\n",
    "img_size=48\n",
    "import random\n",
    "random.shuffle(training_Data)\n",
    "X=[]\n",
    "y=None\n",
    "y=[]\n",
    "for features,label in training_Data:\n",
    "    X.append(features)\n",
    "    y.append(label)\n",
    "x=np.array(X).reshape(-1,48,48,1)\n",
    "x.shape\n",
    "x=x/255.0\n",
    "x_t=np.array(x)\n",
    "y_t=np.array(y)\n",
    "new_model =load_model('model_partie2_final_top.h5')\n",
    "new_model.summary()\n",
    "import tensorflow\n",
    "y_t = tensorflow.keras.utils.to_categorical(y_t, 7)\n"
   ]
  },
  {
   "cell_type": "code",
   "execution_count": 33,
   "id": "44cefd1a",
   "metadata": {},
   "outputs": [
    {
     "name": "stdout",
     "output_type": "stream",
     "text": [
      "Epoch 1/10\n",
      "44/44 [==============================] - 49s 998ms/step - loss: 0.9043 - accuracy: 0.8046\n",
      "Epoch 2/10\n",
      "44/44 [==============================] - 55s 1s/step - loss: 0.4045 - accuracy: 0.8661\n",
      "Epoch 3/10\n",
      "44/44 [==============================] - 54s 1s/step - loss: 0.2476 - accuracy: 0.9220\n",
      "Epoch 4/10\n",
      "44/44 [==============================] - 41s 921ms/step - loss: 0.1850 - accuracy: 0.9449\n",
      "Epoch 5/10\n",
      "44/44 [==============================] - 41s 930ms/step - loss: 0.1451 - accuracy: 0.9571\n",
      "Epoch 6/10\n",
      "44/44 [==============================] - 42s 960ms/step - loss: 0.1337 - accuracy: 0.9599\n",
      "Epoch 7/10\n",
      "44/44 [==============================] - 44s 997ms/step - loss: 0.1245 - accuracy: 0.9585\n",
      "Epoch 8/10\n",
      "44/44 [==============================] - 40s 910ms/step - loss: 0.1230 - accuracy: 0.9671\n",
      "Epoch 9/10\n",
      "44/44 [==============================] - 42s 956ms/step - loss: 0.0956 - accuracy: 0.9728\n",
      "Epoch 10/10\n",
      "44/44 [==============================] - 40s 916ms/step - loss: 0.1066 - accuracy: 0.9656\n"
     ]
    },
    {
     "data": {
      "text/plain": [
       "<tensorflow.python.keras.callbacks.History at 0x2b037575f10>"
      ]
     },
     "execution_count": 33,
     "metadata": {},
     "output_type": "execute_result"
    }
   ],
   "source": [
    "new_model.fit(x_t,y_t,epochs=10)"
   ]
  },
  {
   "cell_type": "code",
   "execution_count": 34,
   "id": "12b9782f",
   "metadata": {},
   "outputs": [],
   "source": [
    "new_model.save(\"7junZ2.h5\")\n"
   ]
  },
  {
   "cell_type": "markdown",
   "id": "23f3017c",
   "metadata": {},
   "source": [
    "# data maroc +fer+my model final"
   ]
  },
  {
   "cell_type": "code",
   "execution_count": 35,
   "id": "b271656c",
   "metadata": {},
   "outputs": [
    {
     "data": {
      "image/png": "[encoded data removed]",
      "text/plain": [
       "<Figure size 432x288 with 1 Axes>"
      ]
     },
     "metadata": {
      "needs_background": "light"
     },
     "output_type": "display_data"
    },
    {
     "name": "stdout",
     "output_type": "stream",
     "text": [
      "840\n",
      "Model: \"sequential_1\"\n",
      "_________________________________________________________________\n",
      "Layer (type)                 Output Shape              Param #   \n",
      "=================================================================\n",
      "conv2d_8 (Conv2D)            (None, 48, 48, 32)        320       \n",
      "_________________________________________________________________\n",
      "activation_11 (Activation)   (None, 48, 48, 32)        0         \n",
      "_________________________________________________________________\n",
      "batch_normalization_10 (Batc (None, 48, 48, 32)        128       \n",
      "_________________________________________________________________\n",
      "conv2d_9 (Conv2D)            (None, 48, 48, 32)        9248      \n",
      "_________________________________________________________________\n",
      "activation_12 (Activation)   (None, 48, 48, 32)        0         \n",
      "_________________________________________________________________\n",
      "batch_normalization_11 (Batc (None, 48, 48, 32)        128       \n",
      "_________________________________________________________________\n",
      "max_pooling2d_4 (MaxPooling2 (None, 24, 24, 32)        0         \n",
      "_________________________________________________________________\n",
      "dropout_6 (Dropout)          (None, 24, 24, 32)        0         \n",
      "_________________________________________________________________\n",
      "conv2d_10 (Conv2D)           (None, 24, 24, 64)        18496     \n",
      "_________________________________________________________________\n",
      "activation_13 (Activation)   (None, 24, 24, 64)        0         \n",
      "_________________________________________________________________\n",
      "batch_normalization_12 (Batc (None, 24, 24, 64)        256       \n",
      "_________________________________________________________________\n",
      "conv2d_11 (Conv2D)           (None, 24, 24, 64)        36928     \n",
      "_________________________________________________________________\n",
      "activation_14 (Activation)   (None, 24, 24, 64)        0         \n",
      "_________________________________________________________________\n",
      "batch_normalization_13 (Batc (None, 24, 24, 64)        256       \n",
      "_________________________________________________________________\n",
      "max_pooling2d_5 (MaxPooling2 (None, 12, 12, 64)        0         \n",
      "_________________________________________________________________\n",
      "dropout_7 (Dropout)          (None, 12, 12, 64)        0         \n",
      "_________________________________________________________________\n",
      "conv2d_12 (Conv2D)           (None, 12, 12, 128)       73856     \n",
      "_________________________________________________________________\n",
      "activation_15 (Activation)   (None, 12, 12, 128)       0         \n",
      "_________________________________________________________________\n",
      "batch_normalization_14 (Batc (None, 12, 12, 128)       512       \n",
      "_________________________________________________________________\n",
      "conv2d_13 (Conv2D)           (None, 12, 12, 128)       147584    \n",
      "_________________________________________________________________\n",
      "activation_16 (Activation)   (None, 12, 12, 128)       0         \n",
      "_________________________________________________________________\n",
      "batch_normalization_15 (Batc (None, 12, 12, 128)       512       \n",
      "_________________________________________________________________\n",
      "max_pooling2d_6 (MaxPooling2 (None, 6, 6, 128)         0         \n",
      "_________________________________________________________________\n",
      "dropout_8 (Dropout)          (None, 6, 6, 128)         0         \n",
      "_________________________________________________________________\n",
      "conv2d_14 (Conv2D)           (None, 6, 6, 256)         295168    \n",
      "_________________________________________________________________\n",
      "activation_17 (Activation)   (None, 6, 6, 256)         0         \n",
      "_________________________________________________________________\n",
      "batch_normalization_16 (Batc (None, 6, 6, 256)         1024      \n",
      "_________________________________________________________________\n",
      "conv2d_15 (Conv2D)           (None, 6, 6, 256)         590080    \n",
      "_________________________________________________________________\n",
      "activation_18 (Activation)   (None, 6, 6, 256)         0         \n",
      "_________________________________________________________________\n",
      "batch_normalization_17 (Batc (None, 6, 6, 256)         1024      \n",
      "_________________________________________________________________\n",
      "max_pooling2d_7 (MaxPooling2 (None, 3, 3, 256)         0         \n",
      "_________________________________________________________________\n",
      "dropout_9 (Dropout)          (None, 3, 3, 256)         0         \n",
      "_________________________________________________________________\n",
      "flatten_1 (Flatten)          (None, 2304)              0         \n",
      "_________________________________________________________________\n",
      "dense_3 (Dense)              (None, 64)                147520    \n",
      "_________________________________________________________________\n",
      "activation_19 (Activation)   (None, 64)                0         \n",
      "_________________________________________________________________\n",
      "batch_normalization_18 (Batc (None, 64)                256       \n",
      "_________________________________________________________________\n",
      "dropout_10 (Dropout)         (None, 64)                0         \n",
      "_________________________________________________________________\n",
      "dense_4 (Dense)              (None, 64)                4160      \n",
      "_________________________________________________________________\n",
      "activation_20 (Activation)   (None, 64)                0         \n",
      "_________________________________________________________________\n",
      "batch_normalization_19 (Batc (None, 64)                256       \n",
      "_________________________________________________________________\n",
      "dropout_11 (Dropout)         (None, 64)                0         \n",
      "_________________________________________________________________\n",
      "dense_5 (Dense)              (None, 7)                 455       \n",
      "_________________________________________________________________\n",
      "activation_21 (Activation)   (None, 7)                 0         \n",
      "=================================================================\n",
      "Total params: 1,328,167\n",
      "Trainable params: 1,325,991\n",
      "Non-trainable params: 2,176\n",
      "_________________________________________________________________\n"
     ]
    }
   ],
   "source": [
    "img_array=cv2.imread(\"data_trainig_small0-1/0/1.jpg\")\n",
    "Dtatdirectory=\"C:/Users/Anouar Gmili/Desktop/images_fer2013/Training2_01\"\n",
    "Classes=[\"0\",\"1\",\"2\",\"3\",\"4\",\"5\",\"6\"]\n",
    "training_Data=[]\n",
    "\n",
    "for category in Classes:\n",
    "    path=os.path.join(Dtatdirectory,category)\n",
    "    path\n",
    "    for img in os.listdir(path):\n",
    "        img_array=cv2.imread(os.path.join(path,img))\n",
    "        plt.imshow(cv2.cvtColor(img_array,cv2.COLOR_BGR2RGB))\n",
    "        plt.show()\n",
    "        break\n",
    "    break\n",
    "\n",
    "creat_training_data()\n",
    "print(len(training_Data))\n",
    "img_size=48\n",
    "import random\n",
    "random.shuffle(training_Data)\n",
    "X=[]\n",
    "y=None\n",
    "y=[]\n",
    "for features,label in training_Data:\n",
    "    X.append(features)\n",
    "    y.append(label)\n",
    "x=np.array(X).reshape(-1,48,48,1)\n",
    "x.shape\n",
    "x=x/255.0\n",
    "x_t=np.array(x)\n",
    "y_t=np.array(y)\n",
    "new_model =load_model('7junZ2.h5')\n",
    "new_model.summary()\n",
    "import tensorflow\n",
    "y_t = tensorflow.keras.utils.to_categorical(y_t, 7)\n"
   ]
  },
  {
   "cell_type": "code",
   "execution_count": 36,
   "id": "ac590a21",
   "metadata": {},
   "outputs": [
    {
     "name": "stdout",
     "output_type": "stream",
     "text": [
      "Epoch 1/10\n",
      "27/27 [==============================] - 42s 1s/step - loss: 0.1056 - accuracy: 0.9714\n",
      "Epoch 2/10\n",
      "27/27 [==============================] - 27s 1s/step - loss: 0.0742 - accuracy: 0.9774\n",
      "Epoch 3/10\n",
      "27/27 [==============================] - 27s 1s/step - loss: 0.1285 - accuracy: 0.9631\n",
      "Epoch 4/10\n",
      "27/27 [==============================] - 29s 1s/step - loss: 0.1027 - accuracy: 0.9714\n",
      "Epoch 5/10\n",
      "27/27 [==============================] - 28s 1s/step - loss: 0.1408 - accuracy: 0.9607\n",
      "Epoch 6/10\n",
      "27/27 [==============================] - 29s 1s/step - loss: 0.1773 - accuracy: 0.9500\n",
      "Epoch 7/10\n",
      "27/27 [==============================] - 36s 1s/step - loss: 0.1086 - accuracy: 0.9690\n",
      "Epoch 8/10\n",
      "27/27 [==============================] - 30s 1s/step - loss: 0.0830 - accuracy: 0.9810\n",
      "Epoch 9/10\n",
      "27/27 [==============================] - 27s 986ms/step - loss: 0.0807 - accuracy: 0.9762\n",
      "Epoch 10/10\n",
      "27/27 [==============================] - 25s 933ms/step - loss: 0.0599 - accuracy: 0.9833\n"
     ]
    },
    {
     "data": {
      "text/plain": [
       "<tensorflow.python.keras.callbacks.History at 0x2b037fa8910>"
      ]
     },
     "execution_count": 36,
     "metadata": {},
     "output_type": "execute_result"
    }
   ],
   "source": [
    "new_model.fit(x_t,y_t,epochs=10)"
   ]
  },
  {
   "cell_type": "code",
   "execution_count": 37,
   "id": "8f8c7b6b",
   "metadata": {},
   "outputs": [],
   "source": [
    "new_model.save(\"7junZ2_tkharbiq.h5\")"
   ]
  },
  {
   "cell_type": "markdown",
   "id": "eba0e613",
   "metadata": {},
   "source": [
    "# grand data melange °top model"
   ]
  },
  {
   "cell_type": "code",
   "execution_count": 40,
   "id": "95de4e94",
   "metadata": {},
   "outputs": [
    {
     "data": {
      "image/png": "[encoded data removed]",
      "text/plain": [
       "<Figure size 432x288 with 1 Axes>"
      ]
     },
     "metadata": {
      "needs_background": "light"
     },
     "output_type": "display_data"
    },
    {
     "name": "stdout",
     "output_type": "stream",
     "text": [
      "2526\n",
      "Model: \"sequential_1\"\n",
      "_________________________________________________________________\n",
      "Layer (type)                 Output Shape              Param #   \n",
      "=================================================================\n",
      "conv2d_8 (Conv2D)            (None, 48, 48, 32)        320       \n",
      "_________________________________________________________________\n",
      "activation_11 (Activation)   (None, 48, 48, 32)        0         \n",
      "_________________________________________________________________\n",
      "batch_normalization_10 (Batc (None, 48, 48, 32)        128       \n",
      "_________________________________________________________________\n",
      "conv2d_9 (Conv2D)            (None, 48, 48, 32)        9248      \n",
      "_________________________________________________________________\n",
      "activation_12 (Activation)   (None, 48, 48, 32)        0         \n",
      "_________________________________________________________________\n",
      "batch_normalization_11 (Batc (None, 48, 48, 32)        128       \n",
      "_________________________________________________________________\n",
      "max_pooling2d_4 (MaxPooling2 (None, 24, 24, 32)        0         \n",
      "_________________________________________________________________\n",
      "dropout_6 (Dropout)          (None, 24, 24, 32)        0         \n",
      "_________________________________________________________________\n",
      "conv2d_10 (Conv2D)           (None, 24, 24, 64)        18496     \n",
      "_________________________________________________________________\n",
      "activation_13 (Activation)   (None, 24, 24, 64)        0         \n",
      "_________________________________________________________________\n",
      "batch_normalization_12 (Batc (None, 24, 24, 64)        256       \n",
      "_________________________________________________________________\n",
      "conv2d_11 (Conv2D)           (None, 24, 24, 64)        36928     \n",
      "_________________________________________________________________\n",
      "activation_14 (Activation)   (None, 24, 24, 64)        0         \n",
      "_________________________________________________________________\n",
      "batch_normalization_13 (Batc (None, 24, 24, 64)        256       \n",
      "_________________________________________________________________\n",
      "max_pooling2d_5 (MaxPooling2 (None, 12, 12, 64)        0         \n",
      "_________________________________________________________________\n",
      "dropout_7 (Dropout)          (None, 12, 12, 64)        0         \n",
      "_________________________________________________________________\n",
      "conv2d_12 (Conv2D)           (None, 12, 12, 128)       73856     \n",
      "_________________________________________________________________\n",
      "activation_15 (Activation)   (None, 12, 12, 128)       0         \n",
      "_________________________________________________________________\n",
      "batch_normalization_14 (Batc (None, 12, 12, 128)       512       \n",
      "_________________________________________________________________\n",
      "conv2d_13 (Conv2D)           (None, 12, 12, 128)       147584    \n",
      "_________________________________________________________________\n",
      "activation_16 (Activation)   (None, 12, 12, 128)       0         \n",
      "_________________________________________________________________\n",
      "batch_normalization_15 (Batc (None, 12, 12, 128)       512       \n",
      "_________________________________________________________________\n",
      "max_pooling2d_6 (MaxPooling2 (None, 6, 6, 128)         0         \n",
      "_________________________________________________________________\n",
      "dropout_8 (Dropout)          (None, 6, 6, 128)         0         \n",
      "_________________________________________________________________\n",
      "conv2d_14 (Conv2D)           (None, 6, 6, 256)         295168    \n",
      "_________________________________________________________________\n",
      "activation_17 (Activation)   (None, 6, 6, 256)         0         \n",
      "_________________________________________________________________\n",
      "batch_normalization_16 (Batc (None, 6, 6, 256)         1024      \n",
      "_________________________________________________________________\n",
      "conv2d_15 (Conv2D)           (None, 6, 6, 256)         590080    \n",
      "_________________________________________________________________\n",
      "activation_18 (Activation)   (None, 6, 6, 256)         0         \n",
      "_________________________________________________________________\n",
      "batch_normalization_17 (Batc (None, 6, 6, 256)         1024      \n",
      "_________________________________________________________________\n",
      "max_pooling2d_7 (MaxPooling2 (None, 3, 3, 256)         0         \n",
      "_________________________________________________________________\n",
      "dropout_9 (Dropout)          (None, 3, 3, 256)         0         \n",
      "_________________________________________________________________\n",
      "flatten_1 (Flatten)          (None, 2304)              0         \n",
      "_________________________________________________________________\n",
      "dense_3 (Dense)              (None, 64)                147520    \n",
      "_________________________________________________________________\n",
      "activation_19 (Activation)   (None, 64)                0         \n",
      "_________________________________________________________________\n",
      "batch_normalization_18 (Batc (None, 64)                256       \n",
      "_________________________________________________________________\n",
      "dropout_10 (Dropout)         (None, 64)                0         \n",
      "_________________________________________________________________\n",
      "dense_4 (Dense)              (None, 64)                4160      \n",
      "_________________________________________________________________\n",
      "activation_20 (Activation)   (None, 64)                0         \n",
      "_________________________________________________________________\n",
      "batch_normalization_19 (Batc (None, 64)                256       \n",
      "_________________________________________________________________\n",
      "dropout_11 (Dropout)         (None, 64)                0         \n",
      "_________________________________________________________________\n",
      "dense_5 (Dense)              (None, 7)                 455       \n",
      "_________________________________________________________________\n",
      "activation_21 (Activation)   (None, 7)                 0         \n",
      "=================================================================\n",
      "Total params: 1,328,167\n",
      "Trainable params: 1,325,991\n",
      "Non-trainable params: 2,176\n",
      "_________________________________________________________________\n"
     ]
    }
   ],
   "source": [
    "img_array=cv2.imread(\"data_trainig_small0-1/0/1.jpg\")\n",
    "Dtatdirectory=\"C:/Users/Anouar Gmili/Desktop/images_fer2013/Training2_melange\"\n",
    "Classes=[\"0\",\"1\",\"2\",\"3\",\"4\",\"5\",\"6\"]\n",
    "training_Data=[]\n",
    "\n",
    "for category in Classes:\n",
    "    path=os.path.join(Dtatdirectory,category)\n",
    "    path\n",
    "    for img in os.listdir(path):\n",
    "        img_array=cv2.imread(os.path.join(path,img))\n",
    "        plt.imshow(cv2.cvtColor(img_array,cv2.COLOR_BGR2RGB))\n",
    "        plt.show()\n",
    "        break\n",
    "    break\n",
    "\n",
    "creat_training_data()\n",
    "print(len(training_Data))\n",
    "img_size=48\n",
    "import random\n",
    "random.shuffle(training_Data)\n",
    "X=[]\n",
    "y=None\n",
    "y=[]\n",
    "for features,label in training_Data:\n",
    "    X.append(features)\n",
    "    y.append(label)\n",
    "x=np.array(X).reshape(-1,48,48,1)\n",
    "x.shape\n",
    "x=x/255.0\n",
    "x_t=np.array(x)\n",
    "y_t=np.array(y)\n",
    "new_model =load_model('model-top.h5')\n",
    "new_model.summary()\n",
    "import tensorflow\n",
    "y_t = tensorflow.keras.utils.to_categorical(y_t, 7)\n"
   ]
  },
  {
   "cell_type": "code",
   "execution_count": 41,
   "id": "f944a49b",
   "metadata": {},
   "outputs": [
    {
     "data": {
      "text/plain": [
       "2526"
      ]
     },
     "execution_count": 41,
     "metadata": {},
     "output_type": "execute_result"
    }
   ],
   "source": [
    "len(x)"
   ]
  },
  {
   "cell_type": "code",
   "execution_count": 42,
   "id": "8387add9",
   "metadata": {},
   "outputs": [
    {
     "name": "stdout",
     "output_type": "stream",
     "text": [
      "Epoch 1/10\n",
      "79/79 [==============================] - 71s 870ms/step - loss: 1.4515 - accuracy: 0.4652\n",
      "Epoch 2/10\n",
      "79/79 [==============================] - 69s 878ms/step - loss: 1.2339 - accuracy: 0.5234\n",
      "Epoch 3/10\n",
      "79/79 [==============================] - 69s 876ms/step - loss: 1.1213 - accuracy: 0.5796\n",
      "Epoch 4/10\n",
      "79/79 [==============================] - 72s 906ms/step - loss: 1.0281 - accuracy: 0.6049\n",
      "Epoch 5/10\n",
      "79/79 [==============================] - 71s 897ms/step - loss: 0.9297 - accuracy: 0.6401\n",
      "Epoch 6/10\n",
      "79/79 [==============================] - 69s 879ms/step - loss: 0.8598 - accuracy: 0.6932\n",
      "Epoch 7/10\n",
      "79/79 [==============================] - 70s 879ms/step - loss: 0.7651 - accuracy: 0.7241\n",
      "Epoch 8/10\n",
      "79/79 [==============================] - 74s 934ms/step - loss: 0.6837 - accuracy: 0.7427\n",
      "Epoch 9/10\n",
      "79/79 [==============================] - 78s 994ms/step - loss: 0.6286 - accuracy: 0.7593\n",
      "Epoch 10/10\n",
      "79/79 [==============================] - 81s 1s/step - loss: 0.5849 - accuracy: 0.7886\n"
     ]
    },
    {
     "data": {
      "text/plain": [
       "<tensorflow.python.keras.callbacks.History at 0x2b03a10eb80>"
      ]
     },
     "execution_count": 42,
     "metadata": {},
     "output_type": "execute_result"
    }
   ],
   "source": [
    "new_model.fit(x_t,y_t,epochs=10)"
   ]
  },
  {
   "cell_type": "code",
   "execution_count": 43,
   "id": "2d83e549",
   "metadata": {},
   "outputs": [],
   "source": [
    "new_model.save(\"7junZ2_melenge.h5\")"
   ]
  },
  {
   "cell_type": "code",
   "execution_count": 45,
   "id": "90b22b96",
   "metadata": {},
   "outputs": [
    {
     "data": {
      "image/png": "[encoded data removed]",
      "text/plain": [
       "<Figure size 432x288 with 1 Axes>"
      ]
     },
     "metadata": {
      "needs_background": "light"
     },
     "output_type": "display_data"
    },
    {
     "name": "stdout",
     "output_type": "stream",
     "text": [
      "1397\n"
     ]
    }
   ],
   "source": [
    "img_array=cv2.imread(\"data_trainig_small0-1/0/1.jpg\")\n",
    "Dtatdirectory=\"C:/Users/Anouar Gmili/Desktop/data_maroc0_1+fer13\"\n",
    "Classes=[\"0\",\"1\",\"2\",\"3\",\"4\",\"5\",\"6\"]\n",
    "training_Data=[]\n",
    "\n",
    "for category in Classes:\n",
    "    path=os.path.join(Dtatdirectory,category)\n",
    "    path\n",
    "    for img in os.listdir(path):\n",
    "        img_array=cv2.imread(os.path.join(path,img))\n",
    "        plt.imshow(cv2.cvtColor(img_array,cv2.COLOR_BGR2RGB))\n",
    "        plt.show()\n",
    "        break\n",
    "    break\n",
    "\n",
    "creat_training_data()\n",
    "print(len(training_Data))\n",
    "img_size=48\n",
    "import random\n",
    "random.shuffle(training_Data)\n",
    "X=[]\n",
    "y=None\n",
    "y=[]\n",
    "for features,label in training_Data:\n",
    "    X.append(features)\n",
    "    y.append(label)\n",
    "x=np.array(X).reshape(-1,48,48,1)\n",
    "x.shape\n",
    "x=x/255.0\n",
    "x_t=np.array(x)\n",
    "y_t=np.array(y)\n",
    "import tensorflow\n",
    "y_t = tensorflow.keras.utils.to_categorical(y_t, 7)\n"
   ]
  },
  {
   "cell_type": "code",
   "execution_count": 46,
   "id": "74db7aae",
   "metadata": {},
   "outputs": [
    {
     "name": "stdout",
     "output_type": "stream",
     "text": [
      "Epoch 1/10\n",
      "44/44 [==============================] - 46s 1s/step - loss: 0.6994 - accuracy: 0.7595\n",
      "Epoch 2/10\n",
      "44/44 [==============================] - 50s 1s/step - loss: 0.5578 - accuracy: 0.7917\n",
      "Epoch 3/10\n",
      "44/44 [==============================] - 41s 927ms/step - loss: 0.4328 - accuracy: 0.8611\n",
      "Epoch 4/10\n",
      "44/44 [==============================] - 40s 910ms/step - loss: 0.4032 - accuracy: 0.8747\n",
      "Epoch 5/10\n",
      "44/44 [==============================] - 42s 945ms/step - loss: 0.3769 - accuracy: 0.8769\n",
      "Epoch 6/10\n",
      "44/44 [==============================] - 41s 927ms/step - loss: 0.3204 - accuracy: 0.8976\n",
      "Epoch 7/10\n",
      "44/44 [==============================] - 43s 976ms/step - loss: 0.2730 - accuracy: 0.9148\n",
      "Epoch 8/10\n",
      "44/44 [==============================] - 40s 920ms/step - loss: 0.2755 - accuracy: 0.9205\n",
      "Epoch 9/10\n",
      "44/44 [==============================] - 42s 956ms/step - loss: 0.2179 - accuracy: 0.9327\n",
      "Epoch 10/10\n",
      "44/44 [==============================] - 44s 990ms/step - loss: 0.1986 - accuracy: 0.9370\n"
     ]
    },
    {
     "data": {
      "text/plain": [
       "<tensorflow.python.keras.callbacks.History at 0x2b039f040a0>"
      ]
     },
     "execution_count": 46,
     "metadata": {},
     "output_type": "execute_result"
    }
   ],
   "source": [
    "new_model.fit(x_t,y_t,epochs=10)"
   ]
  },
  {
   "cell_type": "code",
   "execution_count": 47,
   "id": "2fae234b",
   "metadata": {},
   "outputs": [],
   "source": [
    "new_model.save(\"7junZ2_melenge+datamaroc.h5\")"
   ]
  },
  {
   "cell_type": "code",
   "execution_count": null,
   "id": "04ae84e2",
   "metadata": {},
   "outputs": [],
   "source": []
  }
 ],
 "metadata": {
  "kernelspec": {
   "display_name": "Python 3",
   "language": "python",
   "name": "python3"
  },
  "language_info": {
   "codemirror_mode": {
    "name": "ipython",
    "version": 3
   },
   "file_extension": ".py",
   "mimetype": "text/x-python",
   "name": "python",
   "nbconvert_exporter": "python",
   "pygments_lexer": "ipython3",
   "version": "3.8.8"
  }
 },
 "nbformat": 4,
 "nbformat_minor": 5
}
